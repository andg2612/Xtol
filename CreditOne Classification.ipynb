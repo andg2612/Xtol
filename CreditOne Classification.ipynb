{
 "cells": [
  {
   "cell_type": "markdown",
   "metadata": {},
   "source": [
    "<h1> CreditOne <h1>"
   ]
  },
  {
   "cell_type": "code",
   "execution_count": 3,
   "metadata": {},
   "outputs": [],
   "source": [
    "#Importar librerias\n",
    "import numpy as np\n",
    "import pandas as pd\n",
    "import scipy\n",
    "from math import sqrt\n",
    "import matplotlib.pyplot as plt\n",
    "import seaborn as sns\n",
    "from sklearn import preprocessing\n",
    "\n",
    "#estimators\n",
    "#from sklearn.ensemble import RandomForestRegressor\n",
    "from sklearn.ensemble import RandomForestClassifier\n",
    "#from sklearn.linear_model import LinearRegression\n",
    "#from sklearn.svm import SVR\n",
    "from sklearn import linear_model\n",
    "from sklearn.svm import SVC\n",
    "from sklearn.ensemble import GradientBoostingClassifier\n",
    "from sklearn.model_selection import GridSearchCV\n",
    "\n",
    "\n",
    "#model metrics\n",
    "from sklearn.metrics import mean_squared_error\n",
    "from sklearn.metrics import r2_score\n",
    "from sklearn.model_selection import cross_val_score\n",
    "\n",
    "#cross validation\n",
    "#from sklearn.cross_validation import train_test_split\n",
    "from sklearn.model_selection import train_test_split\n",
    "\n"
   ]
  },
  {
   "cell_type": "markdown",
   "metadata": {},
   "source": [
    "<h2>Inicio: <br>\n",
    "    1.Cleaning and Pre-processing <br>\n",
    "    2.Covariance Estimation <br>\n",
    "    4.Feature Engineering (either PCA or RFE) and Dimensionality Reduction\n",
    "<h2>"
   ]
  },
  {
   "cell_type": "code",
   "execution_count": 4,
   "metadata": {},
   "outputs": [
    {
     "name": "stdout",
     "output_type": "stream",
     "text": [
      "          ID  LIMIT_BAL  SEX  EDUCATION  MARRIAGE  AGE  PAY_0  PAY_2  PAY_3  \\\n",
      "0          1      20000    2          2         1   24      2      2     -1   \n",
      "1          2     120000    2          2         2   26     -1      2      0   \n",
      "2          3      90000    2          2         2   34      0      0      0   \n",
      "3          4      50000    2          2         1   37      0      0      0   \n",
      "4          5      50000    1          2         1   57     -1      0     -1   \n",
      "...      ...        ...  ...        ...       ...  ...    ...    ...    ...   \n",
      "29995  29996     220000    1          3         1   39      0      0      0   \n",
      "29996  29997     150000    1          3         2   43     -1     -1     -1   \n",
      "29997  29998      30000    1          2         2   37      4      3      2   \n",
      "29998  29999      80000    1          3         1   41      1     -1      0   \n",
      "29999  30000      50000    1          2         1   46      0      0      0   \n",
      "\n",
      "       PAY_4  ...  BILL_AMT4  BILL_AMT5  BILL_AMT6  PAY_AMT1  PAY_AMT2  \\\n",
      "0         -1  ...          0          0          0         0       689   \n",
      "1          0  ...       3272       3455       3261         0      1000   \n",
      "2          0  ...      14331      14948      15549      1518      1500   \n",
      "3          0  ...      28314      28959      29547      2000      2019   \n",
      "4          0  ...      20940      19146      19131      2000     36681   \n",
      "...      ...  ...        ...        ...        ...       ...       ...   \n",
      "29995      0  ...      88004      31237      15980      8500     20000   \n",
      "29996     -1  ...       8979       5190          0      1837      3526   \n",
      "29997     -1  ...      20878      20582      19357         0         0   \n",
      "29998      0  ...      52774      11855      48944     85900      3409   \n",
      "29999      0  ...      36535      32428      15313      2078      1800   \n",
      "\n",
      "       PAY_AMT3  PAY_AMT4  PAY_AMT5  PAY_AMT6  default payment next month  \n",
      "0             0         0         0         0                           1  \n",
      "1          1000      1000         0      2000                           1  \n",
      "2          1000      1000      1000      5000                           0  \n",
      "3          1200      1100      1069      1000                           0  \n",
      "4         10000      9000       689       679                           0  \n",
      "...         ...       ...       ...       ...                         ...  \n",
      "29995      5003      3047      5000      1000                           0  \n",
      "29996      8998       129         0         0                           0  \n",
      "29997     22000      4200      2000      3100                           1  \n",
      "29998      1178      1926     52964      1804                           1  \n",
      "29999      1430      1000      1000      1000                           1  \n",
      "\n",
      "[30000 rows x 25 columns]\n"
     ]
    }
   ],
   "source": [
    "credit = pd.read_csv('default of credit card clients.csv', header =1)\n",
    "print(credit)\n",
    "\n",
    "#Se actualiza nombre de columna\n",
    "credit = credit.rename(columns={'default payment next month': 'default_payment_next_month'})\n",
    "credit = credit.rename(columns={'PAY_0': 'PAY_1'})"
   ]
  },
  {
   "cell_type": "code",
   "execution_count": 5,
   "metadata": {},
   "outputs": [
    {
     "data": {
      "text/html": [
       "<div>\n",
       "<style scoped>\n",
       "    .dataframe tbody tr th:only-of-type {\n",
       "        vertical-align: middle;\n",
       "    }\n",
       "\n",
       "    .dataframe tbody tr th {\n",
       "        vertical-align: top;\n",
       "    }\n",
       "\n",
       "    .dataframe thead th {\n",
       "        text-align: right;\n",
       "    }\n",
       "</style>\n",
       "<table border=\"1\" class=\"dataframe\">\n",
       "  <thead>\n",
       "    <tr style=\"text-align: right;\">\n",
       "      <th></th>\n",
       "      <th>ID</th>\n",
       "      <th>LIMIT_BAL</th>\n",
       "      <th>SEX</th>\n",
       "      <th>EDUCATION</th>\n",
       "      <th>MARRIAGE</th>\n",
       "      <th>AGE</th>\n",
       "      <th>PAY_1</th>\n",
       "      <th>PAY_2</th>\n",
       "      <th>PAY_3</th>\n",
       "      <th>PAY_4</th>\n",
       "      <th>...</th>\n",
       "      <th>BILL_AMT4</th>\n",
       "      <th>BILL_AMT5</th>\n",
       "      <th>BILL_AMT6</th>\n",
       "      <th>PAY_AMT1</th>\n",
       "      <th>PAY_AMT2</th>\n",
       "      <th>PAY_AMT3</th>\n",
       "      <th>PAY_AMT4</th>\n",
       "      <th>PAY_AMT5</th>\n",
       "      <th>PAY_AMT6</th>\n",
       "      <th>default_payment_next_month</th>\n",
       "    </tr>\n",
       "  </thead>\n",
       "  <tbody>\n",
       "    <tr>\n",
       "      <td>0</td>\n",
       "      <td>1</td>\n",
       "      <td>20000</td>\n",
       "      <td>2</td>\n",
       "      <td>2</td>\n",
       "      <td>1</td>\n",
       "      <td>24</td>\n",
       "      <td>2</td>\n",
       "      <td>2</td>\n",
       "      <td>-1</td>\n",
       "      <td>-1</td>\n",
       "      <td>...</td>\n",
       "      <td>0</td>\n",
       "      <td>0</td>\n",
       "      <td>0</td>\n",
       "      <td>0</td>\n",
       "      <td>689</td>\n",
       "      <td>0</td>\n",
       "      <td>0</td>\n",
       "      <td>0</td>\n",
       "      <td>0</td>\n",
       "      <td>1</td>\n",
       "    </tr>\n",
       "    <tr>\n",
       "      <td>1</td>\n",
       "      <td>2</td>\n",
       "      <td>120000</td>\n",
       "      <td>2</td>\n",
       "      <td>2</td>\n",
       "      <td>2</td>\n",
       "      <td>26</td>\n",
       "      <td>-1</td>\n",
       "      <td>2</td>\n",
       "      <td>0</td>\n",
       "      <td>0</td>\n",
       "      <td>...</td>\n",
       "      <td>3272</td>\n",
       "      <td>3455</td>\n",
       "      <td>3261</td>\n",
       "      <td>0</td>\n",
       "      <td>1000</td>\n",
       "      <td>1000</td>\n",
       "      <td>1000</td>\n",
       "      <td>0</td>\n",
       "      <td>2000</td>\n",
       "      <td>1</td>\n",
       "    </tr>\n",
       "    <tr>\n",
       "      <td>2</td>\n",
       "      <td>3</td>\n",
       "      <td>90000</td>\n",
       "      <td>2</td>\n",
       "      <td>2</td>\n",
       "      <td>2</td>\n",
       "      <td>34</td>\n",
       "      <td>0</td>\n",
       "      <td>0</td>\n",
       "      <td>0</td>\n",
       "      <td>0</td>\n",
       "      <td>...</td>\n",
       "      <td>14331</td>\n",
       "      <td>14948</td>\n",
       "      <td>15549</td>\n",
       "      <td>1518</td>\n",
       "      <td>1500</td>\n",
       "      <td>1000</td>\n",
       "      <td>1000</td>\n",
       "      <td>1000</td>\n",
       "      <td>5000</td>\n",
       "      <td>0</td>\n",
       "    </tr>\n",
       "    <tr>\n",
       "      <td>3</td>\n",
       "      <td>4</td>\n",
       "      <td>50000</td>\n",
       "      <td>2</td>\n",
       "      <td>2</td>\n",
       "      <td>1</td>\n",
       "      <td>37</td>\n",
       "      <td>0</td>\n",
       "      <td>0</td>\n",
       "      <td>0</td>\n",
       "      <td>0</td>\n",
       "      <td>...</td>\n",
       "      <td>28314</td>\n",
       "      <td>28959</td>\n",
       "      <td>29547</td>\n",
       "      <td>2000</td>\n",
       "      <td>2019</td>\n",
       "      <td>1200</td>\n",
       "      <td>1100</td>\n",
       "      <td>1069</td>\n",
       "      <td>1000</td>\n",
       "      <td>0</td>\n",
       "    </tr>\n",
       "    <tr>\n",
       "      <td>4</td>\n",
       "      <td>5</td>\n",
       "      <td>50000</td>\n",
       "      <td>1</td>\n",
       "      <td>2</td>\n",
       "      <td>1</td>\n",
       "      <td>57</td>\n",
       "      <td>-1</td>\n",
       "      <td>0</td>\n",
       "      <td>-1</td>\n",
       "      <td>0</td>\n",
       "      <td>...</td>\n",
       "      <td>20940</td>\n",
       "      <td>19146</td>\n",
       "      <td>19131</td>\n",
       "      <td>2000</td>\n",
       "      <td>36681</td>\n",
       "      <td>10000</td>\n",
       "      <td>9000</td>\n",
       "      <td>689</td>\n",
       "      <td>679</td>\n",
       "      <td>0</td>\n",
       "    </tr>\n",
       "  </tbody>\n",
       "</table>\n",
       "<p>5 rows × 25 columns</p>\n",
       "</div>"
      ],
      "text/plain": [
       "   ID  LIMIT_BAL  SEX  EDUCATION  MARRIAGE  AGE  PAY_1  PAY_2  PAY_3  PAY_4  \\\n",
       "0   1      20000    2          2         1   24      2      2     -1     -1   \n",
       "1   2     120000    2          2         2   26     -1      2      0      0   \n",
       "2   3      90000    2          2         2   34      0      0      0      0   \n",
       "3   4      50000    2          2         1   37      0      0      0      0   \n",
       "4   5      50000    1          2         1   57     -1      0     -1      0   \n",
       "\n",
       "   ...  BILL_AMT4  BILL_AMT5  BILL_AMT6  PAY_AMT1  PAY_AMT2  PAY_AMT3  \\\n",
       "0  ...          0          0          0         0       689         0   \n",
       "1  ...       3272       3455       3261         0      1000      1000   \n",
       "2  ...      14331      14948      15549      1518      1500      1000   \n",
       "3  ...      28314      28959      29547      2000      2019      1200   \n",
       "4  ...      20940      19146      19131      2000     36681     10000   \n",
       "\n",
       "   PAY_AMT4  PAY_AMT5  PAY_AMT6  default_payment_next_month  \n",
       "0         0         0         0                           1  \n",
       "1      1000         0      2000                           1  \n",
       "2      1000      1000      5000                           0  \n",
       "3      1100      1069      1000                           0  \n",
       "4      9000       689       679                           0  \n",
       "\n",
       "[5 rows x 25 columns]"
      ]
     },
     "execution_count": 5,
     "metadata": {},
     "output_type": "execute_result"
    }
   ],
   "source": [
    "rawData = credit\n",
    "rawData.head()"
   ]
  },
  {
   "cell_type": "code",
   "execution_count": 6,
   "metadata": {},
   "outputs": [
    {
     "name": "stdout",
     "output_type": "stream",
     "text": [
      "<class 'pandas.core.frame.DataFrame'>\n",
      "RangeIndex: 30000 entries, 0 to 29999\n",
      "Data columns (total 25 columns):\n",
      "ID                            30000 non-null int64\n",
      "LIMIT_BAL                     30000 non-null int64\n",
      "SEX                           30000 non-null int64\n",
      "EDUCATION                     30000 non-null int64\n",
      "MARRIAGE                      30000 non-null int64\n",
      "AGE                           30000 non-null int64\n",
      "PAY_1                         30000 non-null int64\n",
      "PAY_2                         30000 non-null int64\n",
      "PAY_3                         30000 non-null int64\n",
      "PAY_4                         30000 non-null int64\n",
      "PAY_5                         30000 non-null int64\n",
      "PAY_6                         30000 non-null int64\n",
      "BILL_AMT1                     30000 non-null int64\n",
      "BILL_AMT2                     30000 non-null int64\n",
      "BILL_AMT3                     30000 non-null int64\n",
      "BILL_AMT4                     30000 non-null int64\n",
      "BILL_AMT5                     30000 non-null int64\n",
      "BILL_AMT6                     30000 non-null int64\n",
      "PAY_AMT1                      30000 non-null int64\n",
      "PAY_AMT2                      30000 non-null int64\n",
      "PAY_AMT3                      30000 non-null int64\n",
      "PAY_AMT4                      30000 non-null int64\n",
      "PAY_AMT5                      30000 non-null int64\n",
      "PAY_AMT6                      30000 non-null int64\n",
      "default_payment_next_month    30000 non-null int64\n",
      "dtypes: int64(25)\n",
      "memory usage: 5.7 MB\n"
     ]
    }
   ],
   "source": [
    "rawData.info()"
   ]
  },
  {
   "cell_type": "code",
   "execution_count": 7,
   "metadata": {},
   "outputs": [
    {
     "name": "stdout",
     "output_type": "stream",
     "text": [
      "Summary of feature sample\n",
      "   LIMIT_BAL  SEX  EDUCATION  MARRIAGE  AGE  PAY_1  PAY_2  PAY_3  PAY_4  \\\n",
      "0      20000    2          2         1   24      2      2     -1     -1   \n",
      "1     120000    2          2         2   26     -1      2      0      0   \n",
      "2      90000    2          2         2   34      0      0      0      0   \n",
      "3      50000    2          2         1   37      0      0      0      0   \n",
      "4      50000    1          2         1   57     -1      0     -1      0   \n",
      "\n",
      "   PAY_5  ...  BILL_AMT3  BILL_AMT4  BILL_AMT5  BILL_AMT6  PAY_AMT1  PAY_AMT2  \\\n",
      "0     -2  ...        689          0          0          0         0       689   \n",
      "1      0  ...       2682       3272       3455       3261         0      1000   \n",
      "2      0  ...      13559      14331      14948      15549      1518      1500   \n",
      "3      0  ...      49291      28314      28959      29547      2000      2019   \n",
      "4      0  ...      35835      20940      19146      19131      2000     36681   \n",
      "\n",
      "   PAY_AMT3  PAY_AMT4  PAY_AMT5  PAY_AMT6  \n",
      "0         0         0         0         0  \n",
      "1      1000      1000         0      2000  \n",
      "2      1000      1000      1000      5000  \n",
      "3      1200      1100      1069      1000  \n",
      "4     10000      9000       689       679  \n",
      "\n",
      "[5 rows x 23 columns]\n",
      "              LIMIT_BAL          SEX     EDUCATION     MARRIAGE  \\\n",
      "LIMIT_BAL  1.683446e+10  1571.050630 -22474.028945 -7323.669658   \n",
      "SEX        1.571051e+03     0.239247      0.005502    -0.008014   \n",
      "EDUCATION -2.247403e+04     0.005502      0.624651    -0.059184   \n",
      "MARRIAGE  -7.323670e+03    -0.008014     -0.059184     0.272452   \n",
      "AGE        1.730767e+05    -0.409726      1.275380    -1.992764   \n",
      "PAY_1     -3.954593e+04    -0.031685      0.093584     0.011683   \n",
      "PAY_2     -4.603765e+04    -0.041442      0.115025     0.015122   \n",
      "PAY_3     -4.443225e+04    -0.038694      0.107861     0.020421   \n",
      "PAY_4     -4.057181e+04    -0.034411      0.100528     0.020213   \n",
      "PAY_5     -3.667056e+04    -0.030521      0.087340     0.021074   \n",
      "PAY_6     -3.509308e+04    -0.024754      0.074816     0.020616   \n",
      "BILL_AMT1  2.727020e+09 -1211.694332   1372.377644  -902.154685   \n",
      "BILL_AMT2  2.570130e+09 -1085.595467   1054.657595  -802.517866   \n",
      "BILL_AMT3  2.548533e+09  -833.207432    712.664124  -901.679085   \n",
      "BILL_AMT4  2.453926e+09  -688.489572    -22.948827  -783.881599   \n",
      "BILL_AMT5  2.331481e+09  -505.694333   -363.577664  -805.840875   \n",
      "BILL_AMT6  2.243837e+09  -487.430160   -428.274232  -659.223347   \n",
      "PAY_AMT1   4.195711e+08    -1.964266   -490.330155   -51.691615   \n",
      "PAY_AMT2   5.333504e+08   -15.675500   -547.005021   -97.327974   \n",
      "PAY_AMT3   4.801180e+08   -74.034812   -555.834305   -32.546082   \n",
      "PAY_AMT4   4.131202e+08   -17.080110   -473.206951  -103.518204   \n",
      "PAY_AMT5   4.305657e+08   -12.458809   -487.335947    -9.607709   \n",
      "PAY_AMT6   5.065153e+08   -24.051885   -522.673379   -61.623271   \n",
      "\n",
      "                     AGE         PAY_1         PAY_2         PAY_3  \\\n",
      "LIMIT_BAL  173076.722569 -39545.930009 -46037.648360 -44432.253315   \n",
      "SEX            -0.409726     -0.031685     -0.041442     -0.038694   \n",
      "EDUCATION       1.275380      0.093584      0.115025      0.107861   \n",
      "MARRIAGE       -1.992764      0.011683      0.015122      0.020421   \n",
      "AGE            84.969755     -0.408639     -0.553408     -0.585263   \n",
      "PAY_1          -0.408639      1.262930      0.904330      0.772384   \n",
      "PAY_2          -0.553408      0.904330      1.433254      1.098371   \n",
      "PAY_3          -0.585263      0.772384      1.098371      1.432492   \n",
      "PAY_4          -0.535851      0.707972      0.926680      1.087761   \n",
      "PAY_5          -0.562245      0.648743      0.844886      0.931455   \n",
      "PAY_6          -0.517022      0.613292      0.792320      0.870815   \n",
      "BILL_AMT1   38172.933546  15480.304170  20706.614217  18373.210469   \n",
      "BILL_AMT2   35613.657962  15185.916919  20045.829482  20214.071495   \n",
      "BILL_AMT3   34334.251320  14011.556537  18609.510991  18882.491544   \n",
      "BILL_AMT4   30453.108180  12950.248389  17116.298983  17494.100555   \n",
      "BILL_AMT5   27654.067800  12341.668685  16110.952468  16382.947539   \n",
      "BILL_AMT6   26137.648547  11844.759724  15642.875812  15847.089648   \n",
      "PAY_AMT1     3992.041735  -1475.495089  -1600.240756     25.668468   \n",
      "PAY_AMT2     4626.861549  -1815.138407  -1627.192336  -1841.952825   \n",
      "PAY_AMT3     4746.824393  -1396.168258  -1178.331282  -1123.428782   \n",
      "PAY_AMT4     3087.324192  -1126.847945   -878.843879   -863.762183   \n",
      "PAY_AMT5     3218.052172   -999.107730   -678.468530   -655.796002   \n",
      "PAY_AMT6     3191.903901  -1172.193614   -776.835035   -763.026041   \n",
      "\n",
      "                  PAY_4         PAY_5  ...     BILL_AMT3     BILL_AMT4  \\\n",
      "LIMIT_BAL -40571.811859 -36670.562325  ...  2.548533e+09  2.453926e+09   \n",
      "SEX           -0.034411     -0.030521  ... -8.332074e+02 -6.884896e+02   \n",
      "EDUCATION      0.100528      0.087340  ...  7.126641e+02 -2.294883e+01   \n",
      "MARRIAGE       0.020213      0.021074  ... -9.016791e+02 -7.838816e+02   \n",
      "AGE           -0.535851     -0.562245  ...  3.433425e+04  3.045311e+04   \n",
      "PAY_1          0.707972      0.648743  ...  1.401156e+04  1.295025e+04   \n",
      "PAY_2          0.926680      0.844886  ...  1.860951e+04  1.711630e+04   \n",
      "PAY_3          1.087761      0.931455  ...  1.888249e+04  1.749410e+04   \n",
      "PAY_4          1.366885      1.086161  ...  1.986300e+04  1.849642e+04   \n",
      "PAY_5          1.086161      1.284114  ...  1.912266e+04  1.982293e+04   \n",
      "PAY_6          0.963263      1.064545  ...  1.923442e+04  1.970555e+04   \n",
      "BILL_AMT1  17460.198259  17246.377531  ...  4.556511e+09  4.075286e+09   \n",
      "BILL_AMT2  18790.627741  18301.285286  ...  4.582086e+09  4.086508e+09   \n",
      "BILL_AMT3  19862.999426  19122.663330  ...  4.809338e+09  4.122238e+09   \n",
      "BILL_AMT4  18496.423186  19822.925512  ...  4.122238e+09  4.138716e+09   \n",
      "BILL_AMT5  17265.551898  18586.590324  ...  3.726780e+09  3.677105e+09   \n",
      "BILL_AMT6  16651.586314  17715.690075  ...  3.524247e+09  3.451762e+09   \n",
      "PAY_AMT1    -181.295613   -114.281714  ...  2.806565e+08  2.482888e+08   \n",
      "PAY_AMT2     -52.358166    -83.324487  ...  5.064226e+08  3.076686e+08   \n",
      "PAY_AMT3   -1425.205189    180.812142  ...  1.587478e+08  3.398374e+08   \n",
      "PAY_AMT4    -796.035739  -1034.961970  ...  1.558003e+08  1.312133e+08   \n",
      "PAY_AMT5    -599.991629   -577.161017  ...  1.904126e+08  1.576892e+08   \n",
      "PAY_AMT6    -552.137338   -463.892613  ...  2.247817e+08  2.031590e+08   \n",
      "\n",
      "              BILL_AMT5     BILL_AMT6      PAY_AMT1      PAY_AMT2  \\\n",
      "LIMIT_BAL  2.331481e+09  2.243837e+09  4.195711e+08  5.333504e+08   \n",
      "SEX       -5.056943e+02 -4.874302e+02 -1.964266e+00 -1.567550e+01   \n",
      "EDUCATION -3.635777e+02 -4.282742e+02 -4.903302e+02 -5.470050e+02   \n",
      "MARRIAGE  -8.058409e+02 -6.592233e+02 -5.169161e+01 -9.732797e+01   \n",
      "AGE        2.765407e+04  2.613765e+04  3.992042e+03  4.626862e+03   \n",
      "PAY_1      1.234167e+04  1.184476e+04 -1.475495e+03 -1.815138e+03   \n",
      "PAY_2      1.611095e+04  1.564288e+04 -1.600241e+03 -1.627192e+03   \n",
      "PAY_3      1.638295e+04  1.584709e+04  2.566847e+01 -1.841953e+03   \n",
      "PAY_4      1.726555e+04  1.665159e+04 -1.812956e+02 -5.235817e+01   \n",
      "PAY_5      1.858659e+04  1.771569e+04 -1.142817e+02 -8.332449e+01   \n",
      "PAY_6      2.033812e+04  1.952488e+04 -2.850067e+01 -1.383995e+02   \n",
      "BILL_AMT1  3.714795e+09  3.519876e+09  1.710894e+08  1.685692e+08   \n",
      "BILL_AMT2  3.720401e+09  3.524868e+09  3.305146e+08  1.653859e+08   \n",
      "BILL_AMT3  3.726780e+09  3.524247e+09  2.806565e+08  5.064226e+08   \n",
      "BILL_AMT4  3.677105e+09  3.451762e+09  2.482888e+08  3.076686e+08   \n",
      "BILL_AMT5  3.696294e+09  3.425914e+09  2.185501e+08  2.538936e+08   \n",
      "BILL_AMT6  3.425914e+09  3.546692e+09  1.972478e+08  2.369244e+08   \n",
      "PAY_AMT1   2.185501e+08  1.972478e+08  2.743423e+08  1.089849e+08   \n",
      "PAY_AMT2   2.538936e+08  2.369244e+08  1.089849e+08  5.308817e+08   \n",
      "PAY_AMT3   2.700805e+08  2.451233e+08  7.354626e+07  9.929841e+07   \n",
      "PAY_AMT4   2.791830e+08  2.334670e+08  5.178189e+07  6.501168e+07   \n",
      "PAY_AMT5   1.315051e+08  2.799982e+08  3.756893e+07  6.368414e+07   \n",
      "PAY_AMT6   1.774537e+08  1.222761e+08  5.469033e+07  6.456816e+07   \n",
      "\n",
      "               PAY_AMT3      PAY_AMT4      PAY_AMT5      PAY_AMT6  \n",
      "LIMIT_BAL  4.801180e+08  4.131202e+08  4.305657e+08  5.065153e+08  \n",
      "SEX       -7.403481e+01 -1.708011e+01 -1.245881e+01 -2.405188e+01  \n",
      "EDUCATION -5.558343e+02 -4.732070e+02 -4.873359e+02 -5.226734e+02  \n",
      "MARRIAGE  -3.254608e+01 -1.035182e+02 -9.607709e+00 -6.162327e+01  \n",
      "AGE        4.746824e+03  3.087324e+03  3.218052e+03  3.191904e+03  \n",
      "PAY_1     -1.396168e+03 -1.126848e+03 -9.991077e+02 -1.172194e+03  \n",
      "PAY_2     -1.178331e+03 -8.788439e+02 -6.784685e+02 -7.768350e+02  \n",
      "PAY_3     -1.123429e+03 -8.637622e+02 -6.557960e+02 -7.630260e+02  \n",
      "PAY_4     -1.425205e+03 -7.960357e+02 -5.999916e+02 -5.521373e+02  \n",
      "PAY_5      1.808121e+02 -1.034962e+03 -5.771610e+02 -4.638926e+02  \n",
      "PAY_6      1.181210e+02  3.426237e+02 -8.158327e+02 -5.172163e+02  \n",
      "BILL_AMT1  2.034048e+08  1.826164e+08  1.879091e+08  2.347681e+08  \n",
      "BILL_AMT2  1.888731e+08  1.643518e+08  1.717652e+08  2.204845e+08  \n",
      "BILL_AMT3  1.587478e+08  1.558003e+08  1.904126e+08  2.247817e+08  \n",
      "BILL_AMT4  3.398374e+08  1.312133e+08  1.576892e+08  2.031590e+08  \n",
      "BILL_AMT5  2.700805e+08  2.791830e+08  1.315051e+08  1.774537e+08  \n",
      "BILL_AMT6  2.451233e+08  2.334670e+08  2.799982e+08  1.222761e+08  \n",
      "PAY_AMT1   7.354626e+07  5.178189e+07  3.756893e+07  5.469033e+07  \n",
      "PAY_AMT2   9.929841e+07  6.501168e+07  6.368414e+07  6.456816e+07  \n",
      "PAY_AMT3   3.100051e+08  5.966970e+07  4.282921e+07  5.093879e+07  \n",
      "PAY_AMT4   5.966970e+07  2.454286e+08  3.634098e+07  4.395747e+07  \n",
      "PAY_AMT5   4.282921e+07  3.634098e+07  2.334266e+08  4.207110e+07  \n",
      "PAY_AMT6   5.093879e+07  4.395747e+07  4.207110e+07  3.160383e+08  \n",
      "\n",
      "[23 rows x 23 columns]\n"
     ]
    }
   ],
   "source": [
    "#features\n",
    "features = rawData.iloc[:,1:24]\n",
    "print('Summary of feature sample')\n",
    "\n",
    "print(features.head())\n",
    "covMat = features.cov()\n",
    "print(covMat)"
   ]
  },
  {
   "cell_type": "code",
   "execution_count": 8,
   "metadata": {},
   "outputs": [
    {
     "data": {
      "text/plain": [
       "[<matplotlib.lines.Line2D at 0x2236f2df908>,\n",
       " <matplotlib.lines.Line2D at 0x2236f35d208>,\n",
       " <matplotlib.lines.Line2D at 0x2236f35d3c8>,\n",
       " <matplotlib.lines.Line2D at 0x2236f35d588>,\n",
       " <matplotlib.lines.Line2D at 0x2236f35d808>,\n",
       " <matplotlib.lines.Line2D at 0x2236f35da48>,\n",
       " <matplotlib.lines.Line2D at 0x2236f35dc08>,\n",
       " <matplotlib.lines.Line2D at 0x2236f35de08>,\n",
       " <matplotlib.lines.Line2D at 0x2236f35d788>,\n",
       " <matplotlib.lines.Line2D at 0x2236f35d9c8>,\n",
       " <matplotlib.lines.Line2D at 0x2236f2fad08>,\n",
       " <matplotlib.lines.Line2D at 0x2236f362648>,\n",
       " <matplotlib.lines.Line2D at 0x2236f3628c8>,\n",
       " <matplotlib.lines.Line2D at 0x2236f362b48>,\n",
       " <matplotlib.lines.Line2D at 0x2236f362dc8>,\n",
       " <matplotlib.lines.Line2D at 0x2236f364088>,\n",
       " <matplotlib.lines.Line2D at 0x2236f364308>,\n",
       " <matplotlib.lines.Line2D at 0x2236f364588>,\n",
       " <matplotlib.lines.Line2D at 0x2236f364808>,\n",
       " <matplotlib.lines.Line2D at 0x2236f364a88>,\n",
       " <matplotlib.lines.Line2D at 0x2236f364d08>,\n",
       " <matplotlib.lines.Line2D at 0x2236f364f88>,\n",
       " <matplotlib.lines.Line2D at 0x2236f369248>]"
      ]
     },
     "execution_count": 8,
     "metadata": {},
     "output_type": "execute_result"
    },
    {
     "data": {
      "image/png": "[encoded data removed]",
      "text/plain": [
       "<Figure size 2160x720 with 1 Axes>"
      ]
     },
     "metadata": {
      "needs_background": "light"
     },
     "output_type": "display_data"
    }
   ],
   "source": [
    "plt.figure(figsize = (30,10))\n",
    "plt.plot(covMat)\n"
   ]
  },
  {
   "cell_type": "code",
   "execution_count": null,
   "metadata": {},
   "outputs": [],
   "source": [
    "covMat = features.cov()\n",
    "print(covMat)"
   ]
  },
  {
   "cell_type": "code",
   "execution_count": null,
   "metadata": {},
   "outputs": [],
   "source": [
    "corr = rawData.drop('ID',axis=1).corr()\n",
    "f, ax = plt.subplots(figsize=(10, 10))\n",
    "\n",
    "# Generate a custom diverging colormap\n",
    "cmap = sns.diverging_palette(30, 110, as_cmap=True)\n",
    "\n",
    "# Draw the heatmap with the mask and correct aspect ratio\n",
    "sns.heatmap(corr, cmap=cmap, vmin=0,vmax=1, center=0,\n",
    "            square=True, linewidths=.5)"
   ]
  },
  {
   "cell_type": "markdown",
   "metadata": {},
   "source": [
    "<h2>Inicio: <br>\n",
    "    6.Classification (Build three model and choose the best) <br>\n",
    "    7.Model Tuning (Tune at least two parameters for each model you build) <br>\n",
    "    8.Model Evaluation\n",
    "<h2>"
   ]
  },
  {
   "cell_type": "code",
   "execution_count": 70,
   "metadata": {},
   "outputs": [
    {
     "name": "stdout",
     "output_type": "stream",
     "text": [
      "Summary of feature sample\n",
      "   LIMIT_BAL  SEX  EDUCATION  MARRIAGE  AGE  PAY_1  PAY_2  PAY_3  PAY_4  \\\n",
      "0      20000    2          2         1   24      2      2     -1     -1   \n",
      "1     120000    2          2         2   26     -1      2      0      0   \n",
      "2      90000    2          2         2   34      0      0      0      0   \n",
      "3      50000    2          2         1   37      0      0      0      0   \n",
      "4      50000    1          2         1   57     -1      0     -1      0   \n",
      "\n",
      "   PAY_5  ...  BILL_AMT3  BILL_AMT4  BILL_AMT5  BILL_AMT6  PAY_AMT1  PAY_AMT2  \\\n",
      "0     -2  ...        689          0          0          0         0       689   \n",
      "1      0  ...       2682       3272       3455       3261         0      1000   \n",
      "2      0  ...      13559      14331      14948      15549      1518      1500   \n",
      "3      0  ...      49291      28314      28959      29547      2000      2019   \n",
      "4      0  ...      35835      20940      19146      19131      2000     36681   \n",
      "\n",
      "   PAY_AMT3  PAY_AMT4  PAY_AMT5  PAY_AMT6  \n",
      "0         0         0         0         0  \n",
      "1      1000      1000         0      2000  \n",
      "2      1000      1000      1000      5000  \n",
      "3      1200      1100      1069      1000  \n",
      "4     10000      9000       689       679  \n",
      "\n",
      "[5 rows x 23 columns]\n"
     ]
    }
   ],
   "source": [
    "size= 0.30\n",
    "seed= 3000\n",
    "#num_estimators= 5"
   ]
  },
  {
   "cell_type": "code",
   "execution_count": 71,
   "metadata": {},
   "outputs": [
    {
     "name": "stdout",
     "output_type": "stream",
     "text": [
      "0        1\n",
      "1        1\n",
      "2        0\n",
      "3        0\n",
      "4        0\n",
      "        ..\n",
      "29995    0\n",
      "29996    0\n",
      "29997    1\n",
      "29998    1\n",
      "29999    1\n",
      "Name: default_payment_next_month, Length: 30000, dtype: int64\n",
      "30000\n"
     ]
    }
   ],
   "source": [
    "#dependent variable\n",
    "depVar = rawData['default_payment_next_month']\n",
    "print(depVar)\n",
    "print(len(depVar.index))"
   ]
  },
  {
   "cell_type": "code",
   "execution_count": 72,
   "metadata": {
    "scrolled": true
   },
   "outputs": [],
   "source": [
    "#Training Set (Feature Space: X Training)\n",
    "#X_train = (features[: 24000])\n",
    "#X_train.head()\n",
    "\n",
    "x_train, x_test = train_test_split(features, test_size=size, random_state=seed, shuffle=True )\n"
   ]
  },
  {
   "cell_type": "code",
   "execution_count": 73,
   "metadata": {},
   "outputs": [
    {
     "data": {
      "text/plain": [
       "(21000, 23)"
      ]
     },
     "execution_count": 73,
     "metadata": {},
     "output_type": "execute_result"
    }
   ],
   "source": [
    "x_train.shape"
   ]
  },
  {
   "cell_type": "code",
   "execution_count": 75,
   "metadata": {},
   "outputs": [
    {
     "name": "stdout",
     "output_type": "stream",
     "text": [
      "       LIMIT_BAL  SEX  EDUCATION  MARRIAGE  AGE  PAY_1  PAY_2  PAY_3  PAY_4  \\\n",
      "26717      10000    1          1         2   22      0     -1     -1     -1   \n",
      "26335     300000    2          1         2   32     -2     -2     -2     -2   \n",
      "12691     180000    1          1         1   35     -1     -1     -1     -1   \n",
      "295       200000    1          1         2   31      0      0      0      0   \n",
      "5806      150000    2          2         3   26     -2     -2     -2     -2   \n",
      "\n",
      "       PAY_5  ...  BILL_AMT3  BILL_AMT4  BILL_AMT5  BILL_AMT6  PAY_AMT1  \\\n",
      "26717     -1  ...        915        352        105          0        46   \n",
      "26335     -2  ...      10742       1349      10522          0       788   \n",
      "12691     -1  ...        395        846       1027        381       396   \n",
      "295        0  ...     186292     133345     133634     133990      9000   \n",
      "5806      -2  ...       3177      49174      11823        669     26034   \n",
      "\n",
      "       PAY_AMT2  PAY_AMT3  PAY_AMT4  PAY_AMT5  PAY_AMT6  \n",
      "26717       915       352       105         0      1000  \n",
      "26335     10774      1353     10522         0      3376  \n",
      "12691       395       848      1027       381      5819  \n",
      "295        7465      4715      4804      5141      5300  \n",
      "5806       3182     49174     11823       669      1534  \n",
      "\n",
      "[5 rows x 23 columns]\n",
      "       LIMIT_BAL  SEX  EDUCATION  MARRIAGE  AGE  PAY_1  PAY_2  PAY_3  PAY_4  \\\n",
      "11121     240000    2          1         2   29     -1     -1     -1     -1   \n",
      "745       170000    1          3         2   38      0      0      0      0   \n",
      "27335     200000    1          2         1   33     -1     -1     -1     -1   \n",
      "20009     230000    2          1         2   37     -2     -2     -2     -2   \n",
      "14001     500000    1          1         1   53      1      1     -1      0   \n",
      "\n",
      "       PAY_5  ...  BILL_AMT3  BILL_AMT4  BILL_AMT5  BILL_AMT6  PAY_AMT1  \\\n",
      "11121     -1  ...        326        326        476        326       326   \n",
      "745        0  ...      24266      25556      29949      34434      2000   \n",
      "27335      0  ...        846      12319      19206      17034      1003   \n",
      "20009     -2  ...      20123       1671       1244          0      8075   \n",
      "14001     -1  ...       4639       2800        854      10854         0   \n",
      "\n",
      "       PAY_AMT2  PAY_AMT3  PAY_AMT4  PAY_AMT5  PAY_AMT6  \n",
      "11121       326       326       476       326      3926  \n",
      "745        2000      2000      5000      5000      5000  \n",
      "27335       848     12323      8026      3083      6424  \n",
      "20009     20200      1671      1244         0       809  \n",
      "14001      7439         0       854     10000     13313  \n",
      "\n",
      "[5 rows x 23 columns]\n",
      "21000\n",
      "9000\n"
     ]
    }
   ],
   "source": [
    "print(x_train.head())\n",
    "print(x_test.head())\n",
    "\n",
    "print(len(x_train.index))\n",
    "print(len(x_test.index))"
   ]
  },
  {
   "cell_type": "code",
   "execution_count": 76,
   "metadata": {},
   "outputs": [],
   "source": [
    "#Dependent Variable Training Set (y Training)\n",
    "#y_train = depVar[: 1000]\n",
    "#y_train_count = len(y_train.index)\n",
    "#print('The number of observations in the Y training set are:',str(y_train_count))\n",
    "#y_train.head()\n",
    "\n",
    "y_train, y_test = train_test_split(depVar, test_size=size, random_state=seed, shuffle=True )\n"
   ]
  },
  {
   "cell_type": "code",
   "execution_count": 77,
   "metadata": {},
   "outputs": [
    {
     "name": "stdout",
     "output_type": "stream",
     "text": [
      "11121    0\n",
      "745      0\n",
      "27335    0\n",
      "20009    0\n",
      "14001    0\n",
      "Name: default_payment_next_month, dtype: int64\n",
      "9000\n",
      "9000\n"
     ]
    }
   ],
   "source": [
    "print(y_test.head())\n",
    "#print(y_test.head())\n",
    "\n",
    "print(len(x_test.index))\n",
    "print(len(y_test.index))"
   ]
  },
  {
   "cell_type": "code",
   "execution_count": 78,
   "metadata": {},
   "outputs": [],
   "source": [
    "x_train, x_test, y_train, y_test = train_test_split(x_train, y_train)"
   ]
  },
  {
   "cell_type": "code",
   "execution_count": 79,
   "metadata": {},
   "outputs": [
    {
     "data": {
      "text/plain": [
       "((15750, 23), (5250, 23))"
      ]
     },
     "execution_count": 79,
     "metadata": {},
     "output_type": "execute_result"
    }
   ],
   "source": [
    "x_train.shape, x_test.shape"
   ]
  },
  {
   "cell_type": "code",
   "execution_count": 80,
   "metadata": {},
   "outputs": [],
   "source": [
    "from sklearn.model_selection import train_test_split"
   ]
  },
  {
   "cell_type": "code",
   "execution_count": 81,
   "metadata": {},
   "outputs": [
    {
     "data": {
      "text/plain": [
       "((11812, 23), (3938, 23))"
      ]
     },
     "execution_count": 81,
     "metadata": {},
     "output_type": "execute_result"
    }
   ],
   "source": [
    "x_train, x_test, y_train, y_test = train_test_split(x_train, y_train)\n",
    "x_train.shape, x_test.shape"
   ]
  },
  {
   "cell_type": "code",
   "execution_count": 82,
   "metadata": {},
   "outputs": [],
   "source": [
    "#model = LinearRegression(n_jobs=10)\n",
    "model = RandomForestClassifier(n_jobs=10, \n",
    "                             random_state=seed,\n",
    "                             #criterion=RFC_METRIC,\n",
    "                             #n_estimators=NUM_ESTIMATORS,\n",
    "                             verbose=False)"
   ]
  },
  {
   "cell_type": "markdown",
   "metadata": {},
   "source": [
    "<h2>Fin: Selecting and Dividing the Data<h2>"
   ]
  },
  {
   "cell_type": "markdown",
   "metadata": {},
   "source": [
    "<h2>Inicio:Building the Models and Choosing the Right Model<h2>"
   ]
  },
  {
   "cell_type": "code",
   "execution_count": 83,
   "metadata": {},
   "outputs": [],
   "source": [
    "#Models\n",
    "#modelSVR = SVR()\n",
    "#modelRF = RandomForestRegressor()\n",
    "#modelLR = LinearRegression()\n",
    "modelSVC = SVC()\n",
    "modelRF = RandomForestClassifier()\n",
    "modelGBC = GradientBoostingClassifier()\n"
   ]
  },
  {
   "cell_type": "code",
   "execution_count": 84,
   "metadata": {},
   "outputs": [
    {
     "name": "stdout",
     "output_type": "stream",
     "text": [
      "0        1\n",
      "1        1\n",
      "2        0\n",
      "3        0\n",
      "4        0\n",
      "        ..\n",
      "29995    0\n",
      "29996    0\n",
      "29997    1\n",
      "29998    1\n",
      "29999    1\n",
      "Name: default_payment_next_month, Length: 30000, dtype: int64\n"
     ]
    }
   ],
   "source": [
    "#dependent variable\n",
    "print(depVar)"
   ]
  },
  {
   "cell_type": "code",
   "execution_count": 85,
   "metadata": {},
   "outputs": [
    {
     "name": "stderr",
     "output_type": "stream",
     "text": [
      "C:\\Users\\andg2\\Anaconda3\\lib\\site-packages\\sklearn\\ensemble\\forest.py:245: FutureWarning: The default value of n_estimators will change from 10 in version 0.20 to 100 in 0.22.\n",
      "  \"10 in version 0.20 to 100 in 0.22.\", FutureWarning)\n"
     ]
    },
    {
     "data": {
      "text/plain": [
       "RandomForestClassifier(bootstrap=True, class_weight=None, criterion='gini',\n",
       "                       max_depth=None, max_features='auto', max_leaf_nodes=None,\n",
       "                       min_impurity_decrease=0.0, min_impurity_split=None,\n",
       "                       min_samples_leaf=1, min_samples_split=2,\n",
       "                       min_weight_fraction_leaf=0.0, n_estimators=10, n_jobs=10,\n",
       "                       oob_score=False, random_state=3000, verbose=False,\n",
       "                       warm_start=False)"
      ]
     },
     "execution_count": 85,
     "metadata": {},
     "output_type": "execute_result"
    }
   ],
   "source": [
    "model.fit(x_train,y_train)"
   ]
  },
  {
   "cell_type": "code",
   "execution_count": 86,
   "metadata": {},
   "outputs": [
    {
     "name": "stderr",
     "output_type": "stream",
     "text": [
      "C:\\Users\\andg2\\Anaconda3\\lib\\site-packages\\sklearn\\ensemble\\forest.py:245: FutureWarning: The default value of n_estimators will change from 10 in version 0.20 to 100 in 0.22.\n",
      "  \"10 in version 0.20 to 100 in 0.22.\", FutureWarning)\n"
     ]
    },
    {
     "data": {
      "text/plain": [
       "RandomForestClassifier(bootstrap=True, class_weight=None, criterion='gini',\n",
       "                       max_depth=None, max_features='auto', max_leaf_nodes=None,\n",
       "                       min_impurity_decrease=0.0, min_impurity_split=None,\n",
       "                       min_samples_leaf=1, min_samples_split=2,\n",
       "                       min_weight_fraction_leaf=0.0, n_estimators=10,\n",
       "                       n_jobs=None, oob_score=False, random_state=None,\n",
       "                       verbose=0, warm_start=False)"
      ]
     },
     "execution_count": 86,
     "metadata": {},
     "output_type": "execute_result"
    }
   ],
   "source": [
    "modelRF.fit(x_train,y_train)"
   ]
  },
  {
   "cell_type": "code",
   "execution_count": 38,
   "metadata": {},
   "outputs": [
    {
     "name": "stderr",
     "output_type": "stream",
     "text": [
      "C:\\Users\\andg2\\Anaconda3\\lib\\site-packages\\sklearn\\svm\\base.py:193: FutureWarning: The default value of gamma will change from 'auto' to 'scale' in version 0.22 to account better for unscaled features. Set gamma explicitly to 'auto' or 'scale' to avoid this warning.\n",
      "  \"avoid this warning.\", FutureWarning)\n"
     ]
    },
    {
     "data": {
      "text/plain": [
       "SVC(C=1.0, cache_size=200, class_weight=None, coef0=0.0,\n",
       "    decision_function_shape='ovr', degree=3, gamma='auto_deprecated',\n",
       "    kernel='rbf', max_iter=-1, probability=False, random_state=None,\n",
       "    shrinking=True, tol=0.001, verbose=False)"
      ]
     },
     "execution_count": 38,
     "metadata": {},
     "output_type": "execute_result"
    }
   ],
   "source": [
    "modelSVC.fit(x_train,y_train)"
   ]
  },
  {
   "cell_type": "code",
   "execution_count": 40,
   "metadata": {},
   "outputs": [
    {
     "data": {
      "text/plain": [
       "GradientBoostingClassifier(criterion='friedman_mse', init=None,\n",
       "                           learning_rate=0.1, loss='deviance', max_depth=3,\n",
       "                           max_features=None, max_leaf_nodes=None,\n",
       "                           min_impurity_decrease=0.0, min_impurity_split=None,\n",
       "                           min_samples_leaf=1, min_samples_split=2,\n",
       "                           min_weight_fraction_leaf=0.0, n_estimators=100,\n",
       "                           n_iter_no_change=None, presort='auto',\n",
       "                           random_state=None, subsample=1.0, tol=0.0001,\n",
       "                           validation_fraction=0.1, verbose=0,\n",
       "                           warm_start=False)"
      ]
     },
     "execution_count": 40,
     "metadata": {},
     "output_type": "execute_result"
    }
   ],
   "source": [
    "modelGBC.fit(x_train,y_train)"
   ]
  },
  {
   "cell_type": "code",
   "execution_count": 41,
   "metadata": {},
   "outputs": [],
   "source": [
    "from sklearn.model_selection import cross_val_score"
   ]
  },
  {
   "cell_type": "code",
   "execution_count": 87,
   "metadata": {},
   "outputs": [
    {
     "name": "stderr",
     "output_type": "stream",
     "text": [
      "C:\\Users\\andg2\\Anaconda3\\lib\\site-packages\\sklearn\\model_selection\\_split.py:1978: FutureWarning: The default value of cv will change from 3 to 5 in version 0.22. Specify it explicitly to silence this warning.\n",
      "  warnings.warn(CV_WARNING, FutureWarning)\n",
      "C:\\Users\\andg2\\Anaconda3\\lib\\site-packages\\sklearn\\svm\\base.py:193: FutureWarning: The default value of gamma will change from 'auto' to 'scale' in version 0.22 to account better for unscaled features. Set gamma explicitly to 'auto' or 'scale' to avoid this warning.\n",
      "  \"avoid this warning.\", FutureWarning)\n",
      "C:\\Users\\andg2\\Anaconda3\\lib\\site-packages\\sklearn\\svm\\base.py:193: FutureWarning: The default value of gamma will change from 'auto' to 'scale' in version 0.22 to account better for unscaled features. Set gamma explicitly to 'auto' or 'scale' to avoid this warning.\n",
      "  \"avoid this warning.\", FutureWarning)\n",
      "C:\\Users\\andg2\\Anaconda3\\lib\\site-packages\\sklearn\\svm\\base.py:193: FutureWarning: The default value of gamma will change from 'auto' to 'scale' in version 0.22 to account better for unscaled features. Set gamma explicitly to 'auto' or 'scale' to avoid this warning.\n",
      "  \"avoid this warning.\", FutureWarning)\n"
     ]
    },
    {
     "name": "stdout",
     "output_type": "stream",
     "text": [
      "[0.77831386 0.77882174 0.77667683]\n"
     ]
    }
   ],
   "source": [
    "print(cross_val_score(modelSVC, x_train, y_train)) "
   ]
  },
  {
   "cell_type": "code",
   "execution_count": 89,
   "metadata": {},
   "outputs": [
    {
     "name": "stderr",
     "output_type": "stream",
     "text": [
      "C:\\Users\\andg2\\Anaconda3\\lib\\site-packages\\sklearn\\model_selection\\_split.py:1978: FutureWarning: The default value of cv will change from 3 to 5 in version 0.22. Specify it explicitly to silence this warning.\n",
      "  warnings.warn(CV_WARNING, FutureWarning)\n"
     ]
    },
    {
     "name": "stdout",
     "output_type": "stream",
     "text": [
      "[0.80497715 0.80827831 0.80284553]\n"
     ]
    }
   ],
   "source": [
    "print(cross_val_score(modelRF, x_train, y_train)) \n",
    "#These values correspond to the the following:\n",
    "#1st value:  The score array for test scores on each cv split. (Higher is an indicator of a better performing model)\n",
    "#2nd value: The time for fitting the estimator on the train set for each cv split.\n",
    "#3rd Value:  The time for scoring the estimator on the test set for each cv split. "
   ]
  },
  {
   "cell_type": "code",
   "execution_count": 44,
   "metadata": {},
   "outputs": [
    {
     "name": "stderr",
     "output_type": "stream",
     "text": [
      "C:\\Users\\andg2\\Anaconda3\\lib\\site-packages\\sklearn\\model_selection\\_split.py:1978: FutureWarning: The default value of cv will change from 3 to 5 in version 0.22. Specify it explicitly to silence this warning.\n",
      "  warnings.warn(CV_WARNING, FutureWarning)\n"
     ]
    },
    {
     "name": "stdout",
     "output_type": "stream",
     "text": [
      "[0.81781826 0.82177778 0.81351411]\n"
     ]
    }
   ],
   "source": [
    "print(cross_val_score(modelGBC, x_train, y_train))"
   ]
  },
  {
   "cell_type": "code",
   "execution_count": 45,
   "metadata": {},
   "outputs": [
    {
     "data": {
      "text/plain": [
       "array([1, 1, 0, ..., 1, 0, 1], dtype=int64)"
      ]
     },
     "execution_count": 45,
     "metadata": {},
     "output_type": "execute_result"
    }
   ],
   "source": [
    "preds = modelRF.predict(features)\n",
    "preds"
   ]
  },
  {
   "cell_type": "code",
   "execution_count": 50,
   "metadata": {},
   "outputs": [
    {
     "data": {
      "text/plain": [
       "0.9807407407407407"
      ]
     },
     "execution_count": 50,
     "metadata": {},
     "output_type": "execute_result"
    }
   ],
   "source": [
    "modelRF.score(x_train,y_train)"
   ]
  },
  {
   "cell_type": "code",
   "execution_count": 49,
   "metadata": {},
   "outputs": [
    {
     "name": "stderr",
     "output_type": "stream",
     "text": [
      "C:\\Users\\andg2\\Anaconda3\\lib\\site-packages\\sklearn\\model_selection\\_split.py:1978: FutureWarning: The default value of cv will change from 3 to 5 in version 0.22. Specify it explicitly to silence this warning.\n",
      "  warnings.warn(CV_WARNING, FutureWarning)\n"
     ]
    },
    {
     "name": "stdout",
     "output_type": "stream",
     "text": [
      "[0.80937569 0.80288889 0.7979551 ]\n",
      "0.9807407407407407\n"
     ]
    }
   ],
   "source": [
    "#Model Fitting\n",
    "modelRF.fit(x_train,y_train)\n",
    "print(cross_val_score(modelRF, x_train, y_train))\n",
    "print(modelRF.score(x_train,y_train))"
   ]
  },
  {
   "cell_type": "code",
   "execution_count": 52,
   "metadata": {},
   "outputs": [
    {
     "name": "stderr",
     "output_type": "stream",
     "text": [
      "C:\\Users\\andg2\\Anaconda3\\lib\\site-packages\\sklearn\\svm\\base.py:193: FutureWarning: The default value of gamma will change from 'auto' to 'scale' in version 0.22 to account better for unscaled features. Set gamma explicitly to 'auto' or 'scale' to avoid this warning.\n",
      "  \"avoid this warning.\", FutureWarning)\n",
      "C:\\Users\\andg2\\Anaconda3\\lib\\site-packages\\sklearn\\model_selection\\_split.py:1978: FutureWarning: The default value of cv will change from 3 to 5 in version 0.22. Specify it explicitly to silence this warning.\n",
      "  warnings.warn(CV_WARNING, FutureWarning)\n",
      "C:\\Users\\andg2\\Anaconda3\\lib\\site-packages\\sklearn\\svm\\base.py:193: FutureWarning: The default value of gamma will change from 'auto' to 'scale' in version 0.22 to account better for unscaled features. Set gamma explicitly to 'auto' or 'scale' to avoid this warning.\n",
      "  \"avoid this warning.\", FutureWarning)\n",
      "C:\\Users\\andg2\\Anaconda3\\lib\\site-packages\\sklearn\\svm\\base.py:193: FutureWarning: The default value of gamma will change from 'auto' to 'scale' in version 0.22 to account better for unscaled features. Set gamma explicitly to 'auto' or 'scale' to avoid this warning.\n",
      "  \"avoid this warning.\", FutureWarning)\n",
      "C:\\Users\\andg2\\Anaconda3\\lib\\site-packages\\sklearn\\svm\\base.py:193: FutureWarning: The default value of gamma will change from 'auto' to 'scale' in version 0.22 to account better for unscaled features. Set gamma explicitly to 'auto' or 'scale' to avoid this warning.\n",
      "  \"avoid this warning.\", FutureWarning)\n"
     ]
    },
    {
     "name": "stdout",
     "output_type": "stream",
     "text": [
      "[0.77627194 0.77533333 0.77550567]\n",
      "0.9951111111111111\n"
     ]
    }
   ],
   "source": [
    "modelSVC.fit(x_train,y_train)\n",
    "print(cross_val_score(modelSVC, x_train, y_train)) \n",
    "print(modelSVC.score(x_train,y_train))"
   ]
  },
  {
   "cell_type": "code",
   "execution_count": 53,
   "metadata": {},
   "outputs": [
    {
     "name": "stderr",
     "output_type": "stream",
     "text": [
      "C:\\Users\\andg2\\Anaconda3\\lib\\site-packages\\sklearn\\model_selection\\_split.py:1978: FutureWarning: The default value of cv will change from 3 to 5 in version 0.22. Specify it explicitly to silence this warning.\n",
      "  warnings.warn(CV_WARNING, FutureWarning)\n"
     ]
    },
    {
     "name": "stdout",
     "output_type": "stream",
     "text": [
      "[0.81737392 0.82155556 0.81351411]\n",
      "0.8285185185185185\n"
     ]
    }
   ],
   "source": [
    "modelGBC.fit(x_train,y_train)\n",
    "print(cross_val_score(modelGBC, x_train, y_train)) \n",
    "print(modelGBC.score(x_train,y_train))"
   ]
  },
  {
   "cell_type": "markdown",
   "metadata": {},
   "source": [
    "<h2>Fin:Building the Models and Choosing the Right Model<h2>"
   ]
  },
  {
   "cell_type": "markdown",
   "metadata": {},
   "source": [
    "<H2>Inicio:Making Predictions and Evaluating the Results<h2>"
   ]
  },
  {
   "cell_type": "code",
   "execution_count": 54,
   "metadata": {},
   "outputs": [
    {
     "name": "stdout",
     "output_type": "stream",
     "text": [
      "[0 0 0 ... 0 0 0]\n",
      "[0 0 0 ... 0 0 1]\n",
      "[0 0 0 ... 0 0 1]\n"
     ]
    }
   ],
   "source": [
    "predictionsSVC = modelSVC.predict(x_test)\n",
    "print(predictionsSVC)\n",
    "\n",
    "predictionsRF = modelRF.predict(x_test)\n",
    "print(predictionsRF)\n",
    "\n",
    "predictionsGBC = modelGBC.predict(x_test)\n",
    "print(predictionsGBC)"
   ]
  },
  {
   "cell_type": "code",
   "execution_count": 55,
   "metadata": {},
   "outputs": [
    {
     "data": {
      "image/png": "[encoded data removed]",
      "text/plain": [
       "<Figure size 432x288 with 1 Axes>"
      ]
     },
     "metadata": {
      "needs_background": "light"
     },
     "output_type": "display_data"
    },
    {
     "data": {
      "image/png": "[encoded data removed]",
      "text/plain": [
       "<Figure size 432x288 with 1 Axes>"
      ]
     },
     "metadata": {
      "needs_background": "light"
     },
     "output_type": "display_data"
    },
    {
     "data": {
      "image/png": "[encoded data removed]",
      "text/plain": [
       "<Figure size 432x288 with 1 Axes>"
      ]
     },
     "metadata": {
      "needs_background": "light"
     },
     "output_type": "display_data"
    }
   ],
   "source": [
    "plt.hist(predictionsSVC)\n",
    "plt.show()\n",
    "\n",
    "plt.hist(predictionsRF)\n",
    "plt.show()\n",
    "\n",
    "plt.hist(predictionsGBC)\n",
    "plt.show()"
   ]
  },
  {
   "cell_type": "code",
   "execution_count": 56,
   "metadata": {},
   "outputs": [],
   "source": [
    "from sklearn.metrics import mean_squared_error\n",
    "from sklearn.metrics import r2_score"
   ]
  },
  {
   "cell_type": "code",
   "execution_count": 57,
   "metadata": {},
   "outputs": [],
   "source": [
    "from math import sqrt"
   ]
  },
  {
   "cell_type": "code",
   "execution_count": 58,
   "metadata": {},
   "outputs": [
    {
     "name": "stdout",
     "output_type": "stream",
     "text": [
      "0.46714261443612937\n",
      "0.4381780460041329\n",
      "0.41899350299921784\n"
     ]
    }
   ],
   "source": [
    "rmseSVC = sqrt(mean_squared_error(y_test, predictionsSVC))\n",
    "print(rmseSVC)\n",
    "\n",
    "rmseRF = sqrt(mean_squared_error(y_test, predictionsRF))\n",
    "print(rmseRF)\n",
    "\n",
    "rmseGBC = sqrt(mean_squared_error(y_test, predictionsGBC))\n",
    "print(rmseGBC)"
   ]
  },
  {
   "cell_type": "code",
   "execution_count": 63,
   "metadata": {},
   "outputs": [
    {
     "name": "stdout",
     "output_type": "stream",
     "text": [
      "-0.2848081539234477\n",
      "-0.13042183807521268\n",
      "-0.03360330101784492\n"
     ]
    }
   ],
   "source": [
    "predRsquaredSVC = r2_score(y_test,predictionsSVC)\n",
    "print(predRsquaredSVC)\n",
    "\n",
    "predRsquaredRF = r2_score(y_test,predictionsRF)\n",
    "print(predRsquaredRF)\n",
    "\n",
    "predRsquaredGBC = r2_score(y_test,predictionsGBC)\n",
    "print(predRsquaredGBC)"
   ]
  },
  {
   "cell_type": "code",
   "execution_count": 60,
   "metadata": {},
   "outputs": [
    {
     "name": "stdout",
     "output_type": "stream",
     "text": [
      "R Squared: -0.285\n",
      "RMSE: 0.467\n",
      "R Squared: -0.130\n",
      "RMSE: 0.438\n",
      "R Squared: -0.034\n",
      "RMSE: 0.419\n"
     ]
    }
   ],
   "source": [
    "#Make Predictions\n",
    "predictionsSVC = modelSVC.predict(x_test)\n",
    "predRsquaredSVC = r2_score(y_test,predictionsSVC)\n",
    "rmseSVC = sqrt(mean_squared_error(y_test, predictionsSVC))\n",
    "print('R Squared: %.3f' % predRsquaredSVC)\n",
    "print('RMSE: %.3f' % rmseSVC)\n",
    "\n",
    "predictionsRF = modelRF.predict(x_test)\n",
    "predRsquaredRF = r2_score(y_test,predictionsRF)\n",
    "rmseRF = sqrt(mean_squared_error(y_test, predictionsRF))\n",
    "print('R Squared: %.3f' % predRsquaredRF)\n",
    "print('RMSE: %.3f' % rmseRF)\n",
    "\n",
    "predictionsGBC = modelGBC.predict(x_test)\n",
    "predRsquaredGBC = r2_score(y_test,predictionsGBC)\n",
    "rmseGBC = sqrt(mean_squared_error(y_test, predictionsGBC))\n",
    "print('R Squared: %.3f' % predRsquaredGBC)\n",
    "print('RMSE: %.3f' % rmseGBC)"
   ]
  },
  {
   "cell_type": "markdown",
   "metadata": {},
   "source": [
    "corr = rawData.corr()\n",
    "plt.figure(figsize=(20,15))\n",
    "sns.heatmap(corr, annot = True)\n",
    "plt.show()"
   ]
  }
 ],
 "metadata": {
  "kernelspec": {
   "display_name": "Python 3",
   "language": "python",
   "name": "python3"
  },
  "language_info": {
   "codemirror_mode": {
    "name": "ipython",
    "version": 3
   },
   "file_extension": ".py",
   "mimetype": "text/x-python",
   "name": "python",
   "nbconvert_exporter": "python",
   "pygments_lexer": "ipython3",
   "version": "3.7.4"
  }
 },
 "nbformat": 4,
 "nbformat_minor": 2
}
