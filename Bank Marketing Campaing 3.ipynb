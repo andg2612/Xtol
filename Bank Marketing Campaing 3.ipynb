{
 "cells": [
  {
   "cell_type": "markdown",
   "metadata": {},
   "source": [
    "<h1 style=\"color:blue;\">Bank Marketing Campaign</h1>"
   ]
  },
  {
   "cell_type": "code",
   "execution_count": 1,
   "metadata": {},
   "outputs": [],
   "source": [
    "#Importar librerias\n",
    "import numpy as np\n",
    "import pandas as pd\n",
    "import scipy\n",
    "from math import sqrt\n",
    "import matplotlib.pyplot as plt\n",
    "import seaborn as sns\n",
    "from sklearn import preprocessing\n",
    "\n",
    "#estimators\n",
    "from sklearn.ensemble import RandomForestClassifier\n",
    "from sklearn.svm import SVC\n",
    "from sklearn.ensemble import GradientBoostingClassifier\n",
    "from sklearn.model_selection import GridSearchCV\n",
    "\n",
    "\n",
    "#model metrics\n",
    "from sklearn.model_selection import cross_val_score\n",
    "from sklearn.metrics import accuracy_score\n",
    "from sklearn.metrics import precision_score\n",
    "from sklearn.metrics import confusion_matrix\n",
    "\n",
    "#cross validation\n",
    "#from sklearn.cross_validation import train_test_split\n",
    "from sklearn.model_selection import train_test_split\n",
    "\n",
    "from sklearn.preprocessing import LabelEncoder\n",
    "le = LabelEncoder()\n",
    "\n"
   ]
  },
  {
   "cell_type": "code",
   "execution_count": 2,
   "metadata": {},
   "outputs": [],
   "source": [
    "#carga de datos\n",
    "dataOr = pd.read_excel('bank-additional-full.xlsx')"
   ]
  },
  {
   "cell_type": "code",
   "execution_count": 3,
   "metadata": {},
   "outputs": [
    {
     "name": "stdout",
     "output_type": "stream",
     "text": [
      "       age          job  marital            education  default housing loan  \\\n",
      "0       56    housemaid  married             basic.4y       no      no   no   \n",
      "1       57     services  married          high.school  unknown      no   no   \n",
      "2       37     services  married          high.school       no     yes   no   \n",
      "3       40       admin.  married             basic.6y       no      no   no   \n",
      "4       56     services  married          high.school       no      no  yes   \n",
      "...    ...          ...      ...                  ...      ...     ...  ...   \n",
      "41183   73      retired  married  professional.course       no     yes   no   \n",
      "41184   46  blue-collar  married  professional.course       no      no   no   \n",
      "41185   56      retired  married    university.degree       no     yes   no   \n",
      "41186   44   technician  married  professional.course       no      no   no   \n",
      "41187   74      retired  married  professional.course       no     yes   no   \n",
      "\n",
      "         contact month day_of_week  ...  campaign  pdays  previous  \\\n",
      "0      telephone   may         mon  ...         1    999         0   \n",
      "1      telephone   may         mon  ...         1    999         0   \n",
      "2      telephone   may         mon  ...         1    999         0   \n",
      "3      telephone   may         mon  ...         1    999         0   \n",
      "4      telephone   may         mon  ...         1    999         0   \n",
      "...          ...   ...         ...  ...       ...    ...       ...   \n",
      "41183   cellular   nov         fri  ...         1    999         0   \n",
      "41184   cellular   nov         fri  ...         1    999         0   \n",
      "41185   cellular   nov         fri  ...         2    999         0   \n",
      "41186   cellular   nov         fri  ...         1    999         0   \n",
      "41187   cellular   nov         fri  ...         3    999         1   \n",
      "\n",
      "          poutcome emp.var.rate  cons.price.idx  cons.conf.idx  euribor3m  \\\n",
      "0      nonexistent          1.1          93.994          -36.4      4.857   \n",
      "1      nonexistent          1.1          93.994          -36.4      4.857   \n",
      "2      nonexistent          1.1          93.994          -36.4      4.857   \n",
      "3      nonexistent          1.1          93.994          -36.4      4.857   \n",
      "4      nonexistent          1.1          93.994          -36.4      4.857   \n",
      "...            ...          ...             ...            ...        ...   \n",
      "41183  nonexistent         -1.1          94.767          -50.8      1.028   \n",
      "41184  nonexistent         -1.1          94.767          -50.8      1.028   \n",
      "41185  nonexistent         -1.1          94.767          -50.8      1.028   \n",
      "41186  nonexistent         -1.1          94.767          -50.8      1.028   \n",
      "41187      failure         -1.1          94.767          -50.8      1.028   \n",
      "\n",
      "       nr.employed    y  \n",
      "0           5191.0   no  \n",
      "1           5191.0   no  \n",
      "2           5191.0   no  \n",
      "3           5191.0   no  \n",
      "4           5191.0   no  \n",
      "...            ...  ...  \n",
      "41183       4963.6  yes  \n",
      "41184       4963.6   no  \n",
      "41185       4963.6   no  \n",
      "41186       4963.6  yes  \n",
      "41187       4963.6   no  \n",
      "\n",
      "[41188 rows x 21 columns]\n",
      "       age          job  marital            education  default housing loan  \\\n",
      "0       56    housemaid  married             basic.4y       no      no   no   \n",
      "1       57     services  married          high.school  unknown      no   no   \n",
      "2       37     services  married          high.school       no     yes   no   \n",
      "3       40       admin.  married             basic.6y       no      no   no   \n",
      "4       56     services  married          high.school       no      no  yes   \n",
      "...    ...          ...      ...                  ...      ...     ...  ...   \n",
      "41183   73      retired  married  professional.course       no     yes   no   \n",
      "41184   46  blue-collar  married  professional.course       no      no   no   \n",
      "41185   56      retired  married    university.degree       no     yes   no   \n",
      "41186   44   technician  married  professional.course       no      no   no   \n",
      "41187   74      retired  married  professional.course       no     yes   no   \n",
      "\n",
      "         contact month day_of_week  ...  campaign  pdays  previous  \\\n",
      "0      telephone   may         mon  ...         1    999         0   \n",
      "1      telephone   may         mon  ...         1    999         0   \n",
      "2      telephone   may         mon  ...         1    999         0   \n",
      "3      telephone   may         mon  ...         1    999         0   \n",
      "4      telephone   may         mon  ...         1    999         0   \n",
      "...          ...   ...         ...  ...       ...    ...       ...   \n",
      "41183   cellular   nov         fri  ...         1    999         0   \n",
      "41184   cellular   nov         fri  ...         1    999         0   \n",
      "41185   cellular   nov         fri  ...         2    999         0   \n",
      "41186   cellular   nov         fri  ...         1    999         0   \n",
      "41187   cellular   nov         fri  ...         3    999         1   \n",
      "\n",
      "          poutcome emp_var_rate  cons_price_idx  cons_conf_idx  euribor3m  \\\n",
      "0      nonexistent          1.1          93.994          -36.4      4.857   \n",
      "1      nonexistent          1.1          93.994          -36.4      4.857   \n",
      "2      nonexistent          1.1          93.994          -36.4      4.857   \n",
      "3      nonexistent          1.1          93.994          -36.4      4.857   \n",
      "4      nonexistent          1.1          93.994          -36.4      4.857   \n",
      "...            ...          ...             ...            ...        ...   \n",
      "41183  nonexistent         -1.1          94.767          -50.8      1.028   \n",
      "41184  nonexistent         -1.1          94.767          -50.8      1.028   \n",
      "41185  nonexistent         -1.1          94.767          -50.8      1.028   \n",
      "41186  nonexistent         -1.1          94.767          -50.8      1.028   \n",
      "41187      failure         -1.1          94.767          -50.8      1.028   \n",
      "\n",
      "       nr_employed    y  \n",
      "0           5191.0   no  \n",
      "1           5191.0   no  \n",
      "2           5191.0   no  \n",
      "3           5191.0   no  \n",
      "4           5191.0   no  \n",
      "...            ...  ...  \n",
      "41183       4963.6  yes  \n",
      "41184       4963.6   no  \n",
      "41185       4963.6   no  \n",
      "41186       4963.6  yes  \n",
      "41187       4963.6   no  \n",
      "\n",
      "[41188 rows x 21 columns]\n"
     ]
    }
   ],
   "source": [
    "print(dataOr)\n",
    "\n",
    "#Se actualiza nombre de columna\n",
    "dataOr = dataOr.rename(columns={'emp.var.rate': 'emp_var_rate'})\n",
    "dataOr = dataOr.rename(columns={'cons.price.idx': 'cons_price_idx'})\n",
    "dataOr = dataOr.rename(columns={'cons.conf.idx': 'cons_conf_idx'})\n",
    "dataOr = dataOr.rename(columns={'nr.employed': 'nr_employed'})\n",
    "\n",
    "print(dataOr)\n"
   ]
  },
  {
   "cell_type": "code",
   "execution_count": 4,
   "metadata": {},
   "outputs": [
    {
     "data": {
      "text/html": [
       "<div>\n",
       "<style scoped>\n",
       "    .dataframe tbody tr th:only-of-type {\n",
       "        vertical-align: middle;\n",
       "    }\n",
       "\n",
       "    .dataframe tbody tr th {\n",
       "        vertical-align: top;\n",
       "    }\n",
       "\n",
       "    .dataframe thead th {\n",
       "        text-align: right;\n",
       "    }\n",
       "</style>\n",
       "<table border=\"1\" class=\"dataframe\">\n",
       "  <thead>\n",
       "    <tr style=\"text-align: right;\">\n",
       "      <th></th>\n",
       "      <th>age</th>\n",
       "      <th>job</th>\n",
       "      <th>marital</th>\n",
       "      <th>education</th>\n",
       "      <th>default</th>\n",
       "      <th>housing</th>\n",
       "      <th>loan</th>\n",
       "      <th>contact</th>\n",
       "      <th>month</th>\n",
       "      <th>day_of_week</th>\n",
       "      <th>...</th>\n",
       "      <th>campaign</th>\n",
       "      <th>pdays</th>\n",
       "      <th>previous</th>\n",
       "      <th>poutcome</th>\n",
       "      <th>emp_var_rate</th>\n",
       "      <th>cons_price_idx</th>\n",
       "      <th>cons_conf_idx</th>\n",
       "      <th>euribor3m</th>\n",
       "      <th>nr_employed</th>\n",
       "      <th>y</th>\n",
       "    </tr>\n",
       "  </thead>\n",
       "  <tbody>\n",
       "    <tr>\n",
       "      <td>0</td>\n",
       "      <td>56</td>\n",
       "      <td>housemaid</td>\n",
       "      <td>married</td>\n",
       "      <td>basic.4y</td>\n",
       "      <td>no</td>\n",
       "      <td>no</td>\n",
       "      <td>no</td>\n",
       "      <td>telephone</td>\n",
       "      <td>may</td>\n",
       "      <td>mon</td>\n",
       "      <td>...</td>\n",
       "      <td>1</td>\n",
       "      <td>999</td>\n",
       "      <td>0</td>\n",
       "      <td>nonexistent</td>\n",
       "      <td>1.1</td>\n",
       "      <td>93.994</td>\n",
       "      <td>-36.4</td>\n",
       "      <td>4.857</td>\n",
       "      <td>5191.0</td>\n",
       "      <td>no</td>\n",
       "    </tr>\n",
       "    <tr>\n",
       "      <td>1</td>\n",
       "      <td>57</td>\n",
       "      <td>services</td>\n",
       "      <td>married</td>\n",
       "      <td>high.school</td>\n",
       "      <td>unknown</td>\n",
       "      <td>no</td>\n",
       "      <td>no</td>\n",
       "      <td>telephone</td>\n",
       "      <td>may</td>\n",
       "      <td>mon</td>\n",
       "      <td>...</td>\n",
       "      <td>1</td>\n",
       "      <td>999</td>\n",
       "      <td>0</td>\n",
       "      <td>nonexistent</td>\n",
       "      <td>1.1</td>\n",
       "      <td>93.994</td>\n",
       "      <td>-36.4</td>\n",
       "      <td>4.857</td>\n",
       "      <td>5191.0</td>\n",
       "      <td>no</td>\n",
       "    </tr>\n",
       "    <tr>\n",
       "      <td>2</td>\n",
       "      <td>37</td>\n",
       "      <td>services</td>\n",
       "      <td>married</td>\n",
       "      <td>high.school</td>\n",
       "      <td>no</td>\n",
       "      <td>yes</td>\n",
       "      <td>no</td>\n",
       "      <td>telephone</td>\n",
       "      <td>may</td>\n",
       "      <td>mon</td>\n",
       "      <td>...</td>\n",
       "      <td>1</td>\n",
       "      <td>999</td>\n",
       "      <td>0</td>\n",
       "      <td>nonexistent</td>\n",
       "      <td>1.1</td>\n",
       "      <td>93.994</td>\n",
       "      <td>-36.4</td>\n",
       "      <td>4.857</td>\n",
       "      <td>5191.0</td>\n",
       "      <td>no</td>\n",
       "    </tr>\n",
       "    <tr>\n",
       "      <td>3</td>\n",
       "      <td>40</td>\n",
       "      <td>admin.</td>\n",
       "      <td>married</td>\n",
       "      <td>basic.6y</td>\n",
       "      <td>no</td>\n",
       "      <td>no</td>\n",
       "      <td>no</td>\n",
       "      <td>telephone</td>\n",
       "      <td>may</td>\n",
       "      <td>mon</td>\n",
       "      <td>...</td>\n",
       "      <td>1</td>\n",
       "      <td>999</td>\n",
       "      <td>0</td>\n",
       "      <td>nonexistent</td>\n",
       "      <td>1.1</td>\n",
       "      <td>93.994</td>\n",
       "      <td>-36.4</td>\n",
       "      <td>4.857</td>\n",
       "      <td>5191.0</td>\n",
       "      <td>no</td>\n",
       "    </tr>\n",
       "    <tr>\n",
       "      <td>4</td>\n",
       "      <td>56</td>\n",
       "      <td>services</td>\n",
       "      <td>married</td>\n",
       "      <td>high.school</td>\n",
       "      <td>no</td>\n",
       "      <td>no</td>\n",
       "      <td>yes</td>\n",
       "      <td>telephone</td>\n",
       "      <td>may</td>\n",
       "      <td>mon</td>\n",
       "      <td>...</td>\n",
       "      <td>1</td>\n",
       "      <td>999</td>\n",
       "      <td>0</td>\n",
       "      <td>nonexistent</td>\n",
       "      <td>1.1</td>\n",
       "      <td>93.994</td>\n",
       "      <td>-36.4</td>\n",
       "      <td>4.857</td>\n",
       "      <td>5191.0</td>\n",
       "      <td>no</td>\n",
       "    </tr>\n",
       "  </tbody>\n",
       "</table>\n",
       "<p>5 rows × 21 columns</p>\n",
       "</div>"
      ],
      "text/plain": [
       "   age        job  marital    education  default housing loan    contact  \\\n",
       "0   56  housemaid  married     basic.4y       no      no   no  telephone   \n",
       "1   57   services  married  high.school  unknown      no   no  telephone   \n",
       "2   37   services  married  high.school       no     yes   no  telephone   \n",
       "3   40     admin.  married     basic.6y       no      no   no  telephone   \n",
       "4   56   services  married  high.school       no      no  yes  telephone   \n",
       "\n",
       "  month day_of_week  ...  campaign  pdays  previous     poutcome emp_var_rate  \\\n",
       "0   may         mon  ...         1    999         0  nonexistent          1.1   \n",
       "1   may         mon  ...         1    999         0  nonexistent          1.1   \n",
       "2   may         mon  ...         1    999         0  nonexistent          1.1   \n",
       "3   may         mon  ...         1    999         0  nonexistent          1.1   \n",
       "4   may         mon  ...         1    999         0  nonexistent          1.1   \n",
       "\n",
       "   cons_price_idx  cons_conf_idx  euribor3m  nr_employed   y  \n",
       "0          93.994          -36.4      4.857       5191.0  no  \n",
       "1          93.994          -36.4      4.857       5191.0  no  \n",
       "2          93.994          -36.4      4.857       5191.0  no  \n",
       "3          93.994          -36.4      4.857       5191.0  no  \n",
       "4          93.994          -36.4      4.857       5191.0  no  \n",
       "\n",
       "[5 rows x 21 columns]"
      ]
     },
     "execution_count": 4,
     "metadata": {},
     "output_type": "execute_result"
    }
   ],
   "source": [
    "dataOr.head()"
   ]
  },
  {
   "cell_type": "code",
   "execution_count": 5,
   "metadata": {},
   "outputs": [
    {
     "name": "stdout",
     "output_type": "stream",
     "text": [
      "age=No tiene nulos\n",
      "job=No tiene nulos\n",
      "marital=No tiene nulos\n",
      "education=No tiene nulos\n",
      "default=No tiene nulos\n",
      "housing=No tiene nulos\n",
      "loan=No tiene nulos\n",
      "contact=No tiene nulos\n",
      "month=No tiene nulos\n",
      "day_of_week=No tiene nulos\n",
      "duration=No tiene nulos\n",
      "campaign=No tiene nulos\n",
      "pdays=No tiene nulos\n",
      "previous=No tiene nulos\n",
      "poutcome=No tiene nulos\n",
      "emp_var_rate=No tiene nulos\n",
      "cons_price_idx=No tiene nulos\n",
      "cons_conf_idx=No tiene nulos\n",
      "euribor3m=No tiene nulos\n",
      "nr_employed=No tiene nulos\n",
      "y=No tiene nulos\n"
     ]
    }
   ],
   "source": [
    "for column in dataOr:\n",
    "    if dataOr[column].isnull().values.any():\n",
    "        print (column +'='+'Sí tiene nulos')\n",
    "    else:\n",
    "        print (column +'='+'No tiene nulos')"
   ]
  },
  {
   "cell_type": "code",
   "execution_count": 6,
   "metadata": {},
   "outputs": [
    {
     "data": {
      "text/html": [
       "<div>\n",
       "<style scoped>\n",
       "    .dataframe tbody tr th:only-of-type {\n",
       "        vertical-align: middle;\n",
       "    }\n",
       "\n",
       "    .dataframe tbody tr th {\n",
       "        vertical-align: top;\n",
       "    }\n",
       "\n",
       "    .dataframe thead th {\n",
       "        text-align: right;\n",
       "    }\n",
       "</style>\n",
       "<table border=\"1\" class=\"dataframe\">\n",
       "  <thead>\n",
       "    <tr style=\"text-align: right;\">\n",
       "      <th></th>\n",
       "      <th>age</th>\n",
       "      <th>duration</th>\n",
       "      <th>campaign</th>\n",
       "      <th>pdays</th>\n",
       "      <th>previous</th>\n",
       "      <th>emp_var_rate</th>\n",
       "      <th>cons_price_idx</th>\n",
       "      <th>cons_conf_idx</th>\n",
       "      <th>euribor3m</th>\n",
       "      <th>nr_employed</th>\n",
       "    </tr>\n",
       "  </thead>\n",
       "  <tbody>\n",
       "    <tr>\n",
       "      <td>count</td>\n",
       "      <td>41188.00000</td>\n",
       "      <td>41188.000000</td>\n",
       "      <td>41188.000000</td>\n",
       "      <td>41188.000000</td>\n",
       "      <td>41188.000000</td>\n",
       "      <td>41188.000000</td>\n",
       "      <td>41188.000000</td>\n",
       "      <td>41188.000000</td>\n",
       "      <td>41188.000000</td>\n",
       "      <td>41188.000000</td>\n",
       "    </tr>\n",
       "    <tr>\n",
       "      <td>mean</td>\n",
       "      <td>40.02406</td>\n",
       "      <td>258.285010</td>\n",
       "      <td>2.567593</td>\n",
       "      <td>962.475454</td>\n",
       "      <td>0.172963</td>\n",
       "      <td>0.081886</td>\n",
       "      <td>93.575664</td>\n",
       "      <td>-40.502600</td>\n",
       "      <td>3.621291</td>\n",
       "      <td>5167.035911</td>\n",
       "    </tr>\n",
       "    <tr>\n",
       "      <td>std</td>\n",
       "      <td>10.42125</td>\n",
       "      <td>259.279249</td>\n",
       "      <td>2.770014</td>\n",
       "      <td>186.910907</td>\n",
       "      <td>0.494901</td>\n",
       "      <td>1.570960</td>\n",
       "      <td>0.578840</td>\n",
       "      <td>4.628198</td>\n",
       "      <td>1.734447</td>\n",
       "      <td>72.251528</td>\n",
       "    </tr>\n",
       "    <tr>\n",
       "      <td>min</td>\n",
       "      <td>17.00000</td>\n",
       "      <td>0.000000</td>\n",
       "      <td>1.000000</td>\n",
       "      <td>0.000000</td>\n",
       "      <td>0.000000</td>\n",
       "      <td>-3.400000</td>\n",
       "      <td>92.201000</td>\n",
       "      <td>-50.800000</td>\n",
       "      <td>0.634000</td>\n",
       "      <td>4963.600000</td>\n",
       "    </tr>\n",
       "    <tr>\n",
       "      <td>25%</td>\n",
       "      <td>32.00000</td>\n",
       "      <td>102.000000</td>\n",
       "      <td>1.000000</td>\n",
       "      <td>999.000000</td>\n",
       "      <td>0.000000</td>\n",
       "      <td>-1.800000</td>\n",
       "      <td>93.075000</td>\n",
       "      <td>-42.700000</td>\n",
       "      <td>1.344000</td>\n",
       "      <td>5099.100000</td>\n",
       "    </tr>\n",
       "    <tr>\n",
       "      <td>50%</td>\n",
       "      <td>38.00000</td>\n",
       "      <td>180.000000</td>\n",
       "      <td>2.000000</td>\n",
       "      <td>999.000000</td>\n",
       "      <td>0.000000</td>\n",
       "      <td>1.100000</td>\n",
       "      <td>93.749000</td>\n",
       "      <td>-41.800000</td>\n",
       "      <td>4.857000</td>\n",
       "      <td>5191.000000</td>\n",
       "    </tr>\n",
       "    <tr>\n",
       "      <td>75%</td>\n",
       "      <td>47.00000</td>\n",
       "      <td>319.000000</td>\n",
       "      <td>3.000000</td>\n",
       "      <td>999.000000</td>\n",
       "      <td>0.000000</td>\n",
       "      <td>1.400000</td>\n",
       "      <td>93.994000</td>\n",
       "      <td>-36.400000</td>\n",
       "      <td>4.961000</td>\n",
       "      <td>5228.100000</td>\n",
       "    </tr>\n",
       "    <tr>\n",
       "      <td>max</td>\n",
       "      <td>98.00000</td>\n",
       "      <td>4918.000000</td>\n",
       "      <td>56.000000</td>\n",
       "      <td>999.000000</td>\n",
       "      <td>7.000000</td>\n",
       "      <td>1.400000</td>\n",
       "      <td>94.767000</td>\n",
       "      <td>-26.900000</td>\n",
       "      <td>5.045000</td>\n",
       "      <td>5228.100000</td>\n",
       "    </tr>\n",
       "  </tbody>\n",
       "</table>\n",
       "</div>"
      ],
      "text/plain": [
       "               age      duration      campaign         pdays      previous  \\\n",
       "count  41188.00000  41188.000000  41188.000000  41188.000000  41188.000000   \n",
       "mean      40.02406    258.285010      2.567593    962.475454      0.172963   \n",
       "std       10.42125    259.279249      2.770014    186.910907      0.494901   \n",
       "min       17.00000      0.000000      1.000000      0.000000      0.000000   \n",
       "25%       32.00000    102.000000      1.000000    999.000000      0.000000   \n",
       "50%       38.00000    180.000000      2.000000    999.000000      0.000000   \n",
       "75%       47.00000    319.000000      3.000000    999.000000      0.000000   \n",
       "max       98.00000   4918.000000     56.000000    999.000000      7.000000   \n",
       "\n",
       "       emp_var_rate  cons_price_idx  cons_conf_idx     euribor3m   nr_employed  \n",
       "count  41188.000000    41188.000000   41188.000000  41188.000000  41188.000000  \n",
       "mean       0.081886       93.575664     -40.502600      3.621291   5167.035911  \n",
       "std        1.570960        0.578840       4.628198      1.734447     72.251528  \n",
       "min       -3.400000       92.201000     -50.800000      0.634000   4963.600000  \n",
       "25%       -1.800000       93.075000     -42.700000      1.344000   5099.100000  \n",
       "50%        1.100000       93.749000     -41.800000      4.857000   5191.000000  \n",
       "75%        1.400000       93.994000     -36.400000      4.961000   5228.100000  \n",
       "max        1.400000       94.767000     -26.900000      5.045000   5228.100000  "
      ]
     },
     "execution_count": 6,
     "metadata": {},
     "output_type": "execute_result"
    }
   ],
   "source": [
    "dataOr.describe()"
   ]
  },
  {
   "cell_type": "code",
   "execution_count": 7,
   "metadata": {},
   "outputs": [
    {
     "name": "stdout",
     "output_type": "stream",
     "text": [
      "no     36548\n",
      "yes     4640\n",
      "Name: y, dtype: int64\n",
      "no     88.734583\n",
      "yes    11.265417\n",
      "Name: y, dtype: float64\n"
     ]
    }
   ],
   "source": [
    "#Gráficas subscription\n",
    "print(dataOr.y.value_counts())\n",
    "\n",
    "yP = dataOr['y'].value_counts('1')*100\n",
    "print(yP)"
   ]
  },
  {
   "cell_type": "code",
   "execution_count": 8,
   "metadata": {},
   "outputs": [
    {
     "data": {
      "text/html": [
       "<div>\n",
       "<style scoped>\n",
       "    .dataframe tbody tr th:only-of-type {\n",
       "        vertical-align: middle;\n",
       "    }\n",
       "\n",
       "    .dataframe tbody tr th {\n",
       "        vertical-align: top;\n",
       "    }\n",
       "\n",
       "    .dataframe thead th {\n",
       "        text-align: right;\n",
       "    }\n",
       "</style>\n",
       "<table border=\"1\" class=\"dataframe\">\n",
       "  <thead>\n",
       "    <tr style=\"text-align: right;\">\n",
       "      <th></th>\n",
       "      <th>y</th>\n",
       "    </tr>\n",
       "    <tr>\n",
       "      <th>job</th>\n",
       "      <th></th>\n",
       "    </tr>\n",
       "  </thead>\n",
       "  <tbody>\n",
       "    <tr>\n",
       "      <td>admin.</td>\n",
       "      <td>10422</td>\n",
       "    </tr>\n",
       "    <tr>\n",
       "      <td>blue-collar</td>\n",
       "      <td>9254</td>\n",
       "    </tr>\n",
       "    <tr>\n",
       "      <td>entrepreneur</td>\n",
       "      <td>1456</td>\n",
       "    </tr>\n",
       "    <tr>\n",
       "      <td>housemaid</td>\n",
       "      <td>1060</td>\n",
       "    </tr>\n",
       "    <tr>\n",
       "      <td>management</td>\n",
       "      <td>2924</td>\n",
       "    </tr>\n",
       "    <tr>\n",
       "      <td>retired</td>\n",
       "      <td>1720</td>\n",
       "    </tr>\n",
       "    <tr>\n",
       "      <td>self-employed</td>\n",
       "      <td>1421</td>\n",
       "    </tr>\n",
       "    <tr>\n",
       "      <td>services</td>\n",
       "      <td>3969</td>\n",
       "    </tr>\n",
       "    <tr>\n",
       "      <td>student</td>\n",
       "      <td>875</td>\n",
       "    </tr>\n",
       "    <tr>\n",
       "      <td>technician</td>\n",
       "      <td>6743</td>\n",
       "    </tr>\n",
       "    <tr>\n",
       "      <td>unemployed</td>\n",
       "      <td>1014</td>\n",
       "    </tr>\n",
       "    <tr>\n",
       "      <td>unknown</td>\n",
       "      <td>330</td>\n",
       "    </tr>\n",
       "    <tr>\n",
       "      <td>All</td>\n",
       "      <td>41188</td>\n",
       "    </tr>\n",
       "  </tbody>\n",
       "</table>\n",
       "</div>"
      ],
      "text/plain": [
       "                   y\n",
       "job                 \n",
       "admin.         10422\n",
       "blue-collar     9254\n",
       "entrepreneur    1456\n",
       "housemaid       1060\n",
       "management      2924\n",
       "retired         1720\n",
       "self-employed   1421\n",
       "services        3969\n",
       "student          875\n",
       "technician      6743\n",
       "unemployed      1014\n",
       "unknown          330\n",
       "All            41188"
      ]
     },
     "execution_count": 8,
     "metadata": {},
     "output_type": "execute_result"
    }
   ],
   "source": [
    "#Gráficas job\n",
    "dataOr.pivot_table( 'y','job', aggfunc=np.count_nonzero, margins=True)"
   ]
  },
  {
   "cell_type": "code",
   "execution_count": 9,
   "metadata": {},
   "outputs": [
    {
     "data": {
      "image/png": "[encoded data removed]",
      "text/plain": [
       "<Figure size 432x432 with 1 Axes>"
      ]
     },
     "metadata": {
      "needs_background": "light"
     },
     "output_type": "display_data"
    }
   ],
   "source": [
    "subscription = dataOr['y'].value_counts()\n",
    "pSubscription = pd.DataFrame({'y': subscription.index,'values': subscription.values})\n",
    "plt.figure(figsize = (6,6))\n",
    "plt.title('Aceptación de Depósito a plazo\\n ')\n",
    "sns.set_color_codes(\"pastel\")\n",
    "sns.barplot(x = 'y', y='values', data=pSubscription)\n",
    "locs, labels = plt.xticks()\n",
    "plt.show()"
   ]
  },
  {
   "cell_type": "code",
   "execution_count": 10,
   "metadata": {},
   "outputs": [
    {
     "name": "stdout",
     "output_type": "stream",
     "text": [
      "married     24928\n",
      "single      11568\n",
      "divorced     4612\n",
      "unknown        80\n",
      "Name: marital, dtype: int64\n",
      "married     60.522482\n",
      "single      28.085850\n",
      "divorced    11.197436\n",
      "unknown      0.194231\n",
      "Name: marital, dtype: float64\n"
     ]
    }
   ],
   "source": [
    "#Gráficas marital\n",
    "print(dataOr.marital.value_counts())\n",
    "\n",
    "maritalP = dataOr['marital'].value_counts('1')*100\n",
    "print(maritalP)"
   ]
  },
  {
   "cell_type": "code",
   "execution_count": 11,
   "metadata": {},
   "outputs": [
    {
     "data": {
      "text/plain": [
       "<seaborn.axisgrid.FacetGrid at 0x1f2a0166348>"
      ]
     },
     "execution_count": 11,
     "metadata": {},
     "output_type": "execute_result"
    },
    {
     "data": {
      "image/png": "[encoded data removed]",
      "text/plain": [
       "<Figure size 683.25x360 with 1 Axes>"
      ]
     },
     "metadata": {
      "needs_background": "light"
     },
     "output_type": "display_data"
    }
   ],
   "source": [
    "pMarital = sns.catplot('marital', data=dataOr, hue='y', kind='count', aspect=1.75)\n",
    "pMarital.set_xlabels('marital')\n",
    "pMarital.set(title= 'Distribución de aceptación por estado civil')\n"
   ]
  },
  {
   "cell_type": "code",
   "execution_count": 12,
   "metadata": {},
   "outputs": [
    {
     "data": {
      "text/html": [
       "<div>\n",
       "<style scoped>\n",
       "    .dataframe tbody tr th:only-of-type {\n",
       "        vertical-align: middle;\n",
       "    }\n",
       "\n",
       "    .dataframe tbody tr th {\n",
       "        vertical-align: top;\n",
       "    }\n",
       "\n",
       "    .dataframe thead th {\n",
       "        text-align: right;\n",
       "    }\n",
       "</style>\n",
       "<table border=\"1\" class=\"dataframe\">\n",
       "  <thead>\n",
       "    <tr style=\"text-align: right;\">\n",
       "      <th>marital</th>\n",
       "      <th>divorced</th>\n",
       "      <th>married</th>\n",
       "      <th>single</th>\n",
       "      <th>unknown</th>\n",
       "      <th>All</th>\n",
       "    </tr>\n",
       "    <tr>\n",
       "      <th>y</th>\n",
       "      <th></th>\n",
       "      <th></th>\n",
       "      <th></th>\n",
       "      <th></th>\n",
       "      <th></th>\n",
       "    </tr>\n",
       "  </thead>\n",
       "  <tbody>\n",
       "    <tr>\n",
       "      <td>no</td>\n",
       "      <td>4136</td>\n",
       "      <td>22396</td>\n",
       "      <td>9948</td>\n",
       "      <td>68</td>\n",
       "      <td>36548</td>\n",
       "    </tr>\n",
       "    <tr>\n",
       "      <td>yes</td>\n",
       "      <td>476</td>\n",
       "      <td>2532</td>\n",
       "      <td>1620</td>\n",
       "      <td>12</td>\n",
       "      <td>4640</td>\n",
       "    </tr>\n",
       "    <tr>\n",
       "      <td>All</td>\n",
       "      <td>4612</td>\n",
       "      <td>24928</td>\n",
       "      <td>11568</td>\n",
       "      <td>80</td>\n",
       "      <td>41188</td>\n",
       "    </tr>\n",
       "  </tbody>\n",
       "</table>\n",
       "</div>"
      ],
      "text/plain": [
       "marital  divorced  married  single  unknown    All\n",
       "y                                                 \n",
       "no           4136    22396    9948       68  36548\n",
       "yes           476     2532    1620       12   4640\n",
       "All          4612    24928   11568       80  41188"
      ]
     },
     "execution_count": 12,
     "metadata": {},
     "output_type": "execute_result"
    }
   ],
   "source": [
    "dataOr.pivot_table( 'age','y','marital', aggfunc=np.count_nonzero, margins=True)"
   ]
  },
  {
   "cell_type": "code",
   "execution_count": 13,
   "metadata": {},
   "outputs": [
    {
     "name": "stderr",
     "output_type": "stream",
     "text": [
      "No handles with labels found to put in legend.\n"
     ]
    },
    {
     "name": "stdout",
     "output_type": "stream",
     "text": [
      "Job / Subscription (No)\n"
     ]
    },
    {
     "data": {
      "image/png": "[encoded data removed]",
      "text/plain": [
       "<Figure size 720x360 with 1 Axes>"
      ]
     },
     "metadata": {
      "needs_background": "light"
     },
     "output_type": "display_data"
    }
   ],
   "source": [
    "print(\"Job / Subscription (No)\")\n",
    "plt.figure(figsize=(10,5))\n",
    "_JOB_RANGE= [0,1,2,3]\n",
    "\n",
    "\n",
    "married= dataOr['marital'][dataOr['marital']=='married'].count()\n",
    "married_default = dataOr['marital'][(dataOr['marital']=='married')&(dataOr['y']=='no')].count()\n",
    "\n",
    "single=dataOr['marital'][dataOr['marital']=='single'].count()\n",
    "single_default = dataOr['marital'][(dataOr['marital']=='single')&(dataOr['y']=='no')].count()\n",
    "\n",
    "divorced=dataOr['marital'][dataOr['marital']=='divorced'].count()\n",
    "divorced_default = dataOr['marital'][(dataOr['marital']=='divorced')&(dataOr['y']=='no')].count()\n",
    "\n",
    "unknown=dataOr['marital'][dataOr['marital']=='unknown'].count()\n",
    "unknown_default = dataOr['marital'][(dataOr['marital']=='unknown')&(dataOr['y']=='no')].count()\n",
    "\n",
    "\n",
    "job_total = [married,single,divorced,unknown]\n",
    "default_job_total = [married_default,single_default,divorced_default,unknown_default ]\n",
    "\n",
    "plt.bar(_JOB_RANGE,job_total, color='gray')\n",
    "plt.bar(_JOB_RANGE,default_job_total, color='cyan',alpha = 0.7)\n",
    "plt.xticks([0,1,2,3],['married','single','divorced','unknown'])\n",
    "\n",
    "plt.legend()\n",
    "plt.show()\n"
   ]
  },
  {
   "cell_type": "code",
   "execution_count": 14,
   "metadata": {},
   "outputs": [
    {
     "name": "stdout",
     "output_type": "stream",
     "text": [
      "admin.           10422\n",
      "blue-collar       9254\n",
      "technician        6743\n",
      "services          3969\n",
      "management        2924\n",
      "retired           1720\n",
      "entrepreneur      1456\n",
      "self-employed     1421\n",
      "housemaid         1060\n",
      "unemployed        1014\n",
      "student            875\n",
      "unknown            330\n",
      "Name: job, dtype: int64\n",
      "admin.           25.303486\n",
      "blue-collar      22.467709\n",
      "technician       16.371273\n",
      "services          9.636302\n",
      "management        7.099155\n",
      "retired           4.175974\n",
      "entrepreneur      3.535010\n",
      "self-employed     3.450034\n",
      "housemaid         2.573565\n",
      "unemployed        2.461882\n",
      "student           2.124405\n",
      "unknown           0.801204\n",
      "Name: job, dtype: float64\n"
     ]
    }
   ],
   "source": [
    "#Gráficas job\n",
    "print(dataOr.job.value_counts())\n",
    "\n",
    "jobP = dataOr['job'].value_counts('1')*100\n",
    "print(jobP)"
   ]
  },
  {
   "cell_type": "code",
   "execution_count": 15,
   "metadata": {},
   "outputs": [
    {
     "data": {
      "text/html": [
       "<div>\n",
       "<style scoped>\n",
       "    .dataframe tbody tr th:only-of-type {\n",
       "        vertical-align: middle;\n",
       "    }\n",
       "\n",
       "    .dataframe tbody tr th {\n",
       "        vertical-align: top;\n",
       "    }\n",
       "\n",
       "    .dataframe thead th {\n",
       "        text-align: right;\n",
       "    }\n",
       "</style>\n",
       "<table border=\"1\" class=\"dataframe\">\n",
       "  <thead>\n",
       "    <tr style=\"text-align: right;\">\n",
       "      <th>y</th>\n",
       "      <th>no</th>\n",
       "      <th>yes</th>\n",
       "      <th>All</th>\n",
       "    </tr>\n",
       "    <tr>\n",
       "      <th>job</th>\n",
       "      <th></th>\n",
       "      <th></th>\n",
       "      <th></th>\n",
       "    </tr>\n",
       "  </thead>\n",
       "  <tbody>\n",
       "    <tr>\n",
       "      <td>admin.</td>\n",
       "      <td>9070</td>\n",
       "      <td>1352</td>\n",
       "      <td>10422</td>\n",
       "    </tr>\n",
       "    <tr>\n",
       "      <td>blue-collar</td>\n",
       "      <td>8616</td>\n",
       "      <td>638</td>\n",
       "      <td>9254</td>\n",
       "    </tr>\n",
       "    <tr>\n",
       "      <td>entrepreneur</td>\n",
       "      <td>1332</td>\n",
       "      <td>124</td>\n",
       "      <td>1456</td>\n",
       "    </tr>\n",
       "    <tr>\n",
       "      <td>housemaid</td>\n",
       "      <td>954</td>\n",
       "      <td>106</td>\n",
       "      <td>1060</td>\n",
       "    </tr>\n",
       "    <tr>\n",
       "      <td>management</td>\n",
       "      <td>2596</td>\n",
       "      <td>328</td>\n",
       "      <td>2924</td>\n",
       "    </tr>\n",
       "    <tr>\n",
       "      <td>retired</td>\n",
       "      <td>1286</td>\n",
       "      <td>434</td>\n",
       "      <td>1720</td>\n",
       "    </tr>\n",
       "    <tr>\n",
       "      <td>self-employed</td>\n",
       "      <td>1272</td>\n",
       "      <td>149</td>\n",
       "      <td>1421</td>\n",
       "    </tr>\n",
       "    <tr>\n",
       "      <td>services</td>\n",
       "      <td>3646</td>\n",
       "      <td>323</td>\n",
       "      <td>3969</td>\n",
       "    </tr>\n",
       "    <tr>\n",
       "      <td>student</td>\n",
       "      <td>600</td>\n",
       "      <td>275</td>\n",
       "      <td>875</td>\n",
       "    </tr>\n",
       "    <tr>\n",
       "      <td>technician</td>\n",
       "      <td>6013</td>\n",
       "      <td>730</td>\n",
       "      <td>6743</td>\n",
       "    </tr>\n",
       "    <tr>\n",
       "      <td>unemployed</td>\n",
       "      <td>870</td>\n",
       "      <td>144</td>\n",
       "      <td>1014</td>\n",
       "    </tr>\n",
       "    <tr>\n",
       "      <td>unknown</td>\n",
       "      <td>293</td>\n",
       "      <td>37</td>\n",
       "      <td>330</td>\n",
       "    </tr>\n",
       "    <tr>\n",
       "      <td>All</td>\n",
       "      <td>36548</td>\n",
       "      <td>4640</td>\n",
       "      <td>41188</td>\n",
       "    </tr>\n",
       "  </tbody>\n",
       "</table>\n",
       "</div>"
      ],
      "text/plain": [
       "y                 no   yes    All\n",
       "job                              \n",
       "admin.          9070  1352  10422\n",
       "blue-collar     8616   638   9254\n",
       "entrepreneur    1332   124   1456\n",
       "housemaid        954   106   1060\n",
       "management      2596   328   2924\n",
       "retired         1286   434   1720\n",
       "self-employed   1272   149   1421\n",
       "services        3646   323   3969\n",
       "student          600   275    875\n",
       "technician      6013   730   6743\n",
       "unemployed       870   144   1014\n",
       "unknown          293    37    330\n",
       "All            36548  4640  41188"
      ]
     },
     "execution_count": 15,
     "metadata": {},
     "output_type": "execute_result"
    }
   ],
   "source": [
    "#Gráficas job\n",
    "#dataOr.pivot_table( 'marital','y','job' aggfunc=np.count_nonzero, margins=True)\n",
    "dataOr.pivot_table( 'age','job','y', aggfunc=np.count_nonzero, margins=True)"
   ]
  },
  {
   "cell_type": "code",
   "execution_count": 16,
   "metadata": {},
   "outputs": [
    {
     "data": {
      "text/plain": [
       "<seaborn.axisgrid.FacetGrid at 0x1f29f763588>"
      ]
     },
     "execution_count": 16,
     "metadata": {},
     "output_type": "execute_result"
    },
    {
     "data": {
      "image/png": "[encoded data removed]",
      "text/plain": [
       "<Figure size 1043.25x360 with 1 Axes>"
      ]
     },
     "metadata": {
      "needs_background": "light"
     },
     "output_type": "display_data"
    }
   ],
   "source": [
    "pJob = sns.catplot('job', data=dataOr, hue='y', kind='count', aspect=2.75)\n",
    "pJob.set_xlabels('job')\n",
    "pJob.set(title= 'Distribución de aceptación por estado tipo trabajo')"
   ]
  },
  {
   "cell_type": "code",
   "execution_count": 17,
   "metadata": {},
   "outputs": [
    {
     "name": "stdout",
     "output_type": "stream",
     "text": [
      "Job / Subscription (No)\n"
     ]
    },
    {
     "name": "stderr",
     "output_type": "stream",
     "text": [
      "No handles with labels found to put in legend.\n"
     ]
    },
    {
     "data": {
      "image/png": "[encoded data removed]",
      "text/plain": [
       "<Figure size 1080x360 with 1 Axes>"
      ]
     },
     "metadata": {
      "needs_background": "light"
     },
     "output_type": "display_data"
    }
   ],
   "source": [
    "#Gráfica Job-Suscripción\n",
    "print(\"Job / Subscription (No)\")\n",
    "plt.figure(figsize=(15,5))\n",
    "_JOB_RANGE= [0,1,2,3,4,5,6,7,8,9,10,11]\n",
    "\n",
    "\n",
    "housemaid= dataOr['job'][dataOr['job']=='housemaid'].count()\n",
    "housemaid_default = dataOr['job'][(dataOr['job']=='housemaid')&(dataOr['y']=='no')].count()\n",
    "\n",
    "services=dataOr['job'][dataOr['job']=='services'].count()\n",
    "services_default = dataOr['job'][(dataOr['job']=='services')&(dataOr['y']=='no')].count()\n",
    "\n",
    "admin=dataOr['job'][dataOr['job']=='admin.'].count()\n",
    "admin_default = dataOr['job'][(dataOr['job']=='admin.')&(dataOr['y']=='no')].count()\n",
    "\n",
    "blueCollar=dataOr['job'][dataOr['job']=='blue-collar'].count()\n",
    "blueCollar_default = dataOr['job'][(dataOr['job']=='blue-collar')&(dataOr['y']=='no')].count()\n",
    "\n",
    "technician=dataOr['job'][dataOr['job']=='technician'].count()\n",
    "technician_default = dataOr['job'][(dataOr['job']=='technician')&(dataOr['y']=='no')].count()\n",
    "\n",
    "retired=dataOr['job'][dataOr['job']=='retired'].count()\n",
    "retired_default = dataOr['job'][(dataOr['job']=='retired')&(dataOr['y']=='no')].count()\n",
    "\n",
    "management=dataOr['job'][dataOr['job']=='management'].count()\n",
    "management_default = dataOr['job'][(dataOr['job']=='management')&(dataOr['y']=='no')].count()\n",
    "\n",
    "unemployed=dataOr['job'][dataOr['job']=='unemployed'].count()\n",
    "unemployed_default = dataOr['job'][(dataOr['job']=='unemployed')&(dataOr['y']=='no')].count()\n",
    "\n",
    "selfEmployed=dataOr['job'][dataOr['job']=='self-employed'].count()\n",
    "selfEmployed_default = dataOr['job'][(dataOr['job']=='self-employed')&(dataOr['y']=='no')].count()\n",
    "\n",
    "unknown=dataOr['job'][dataOr['job']=='unknown'].count()\n",
    "unknown_default = dataOr['job'][(dataOr['job']=='unknown')&(dataOr['y']=='no')].count()\n",
    "\n",
    "entrepreneur=dataOr['job'][dataOr['job']=='entrepreneur'].count()\n",
    "entrepreneur_default = dataOr['job'][(dataOr['job']=='entrepreneur')&(dataOr['y']=='no')].count()\n",
    "\n",
    "student=dataOr['job'][dataOr['job']=='student'].count()\n",
    "student_default = dataOr['job'][(dataOr['job']=='student')&(dataOr['y']=='no')].count()\n",
    "\n",
    "job_total = [admin,blueCollar,technician,housemaid,services,retired,management,unemployed,selfEmployed,unknown,entrepreneur,student]\n",
    "default_job_total = [admin_default,blueCollar_default,technician_default,housemaid_default,services_default,retired_default,management_default,unemployed_default,selfEmployed_default,unknown_default,entrepreneur_default,student_default]\n",
    "\n",
    "plt.bar(_JOB_RANGE,job_total, color='gray')\n",
    "plt.bar(_JOB_RANGE,default_job_total, color='cyan',alpha = 0.7)\n",
    "plt.xticks([0,1,2,3,4,5,6,7,8,9,10,11],['admin','blue-collar','technician','housemaid','services','retired','management','unemployed','selfEmployed','unknown','entrepreneur','student'])\n",
    "\n",
    "plt.legend()\n",
    "plt.show()"
   ]
  },
  {
   "cell_type": "code",
   "execution_count": 18,
   "metadata": {},
   "outputs": [
    {
     "name": "stdout",
     "output_type": "stream",
     "text": [
      "university.degree      12168\n",
      "high.school             9515\n",
      "basic.9y                6045\n",
      "professional.course     5243\n",
      "basic.4y                4176\n",
      "basic.6y                2292\n",
      "unknown                 1731\n",
      "illiterate                18\n",
      "Name: education, dtype: int64\n",
      "university.degree      29.542585\n",
      "high.school            23.101389\n",
      "basic.9y               14.676605\n",
      "professional.course    12.729436\n",
      "basic.4y               10.138875\n",
      "basic.6y                5.564728\n",
      "unknown                 4.202680\n",
      "illiterate              0.043702\n",
      "Name: education, dtype: float64\n"
     ]
    }
   ],
   "source": [
    "#Gráficas education\n",
    "print(dataOr.education.value_counts())\n",
    "\n",
    "educationP = dataOr['education'].value_counts('1')*100\n",
    "print(educationP)"
   ]
  },
  {
   "cell_type": "code",
   "execution_count": 19,
   "metadata": {},
   "outputs": [
    {
     "data": {
      "text/plain": [
       "<seaborn.axisgrid.FacetGrid at 0x1f29f41b2c8>"
      ]
     },
     "execution_count": 19,
     "metadata": {},
     "output_type": "execute_result"
    },
    {
     "data": {
      "image/png": "[encoded data removed]",
      "text/plain": [
       "<Figure size 683.25x360 with 1 Axes>"
      ]
     },
     "metadata": {
      "needs_background": "light"
     },
     "output_type": "display_data"
    }
   ],
   "source": [
    "pEducation = sns.catplot('education', data=dataOr, hue='y', kind='count', aspect=1.75)\n",
    "pEducation.set_xlabels('education')\n",
    "pEducation.set(title= 'Distribución de aceptación por education')\n"
   ]
  },
  {
   "cell_type": "code",
   "execution_count": 20,
   "metadata": {},
   "outputs": [
    {
     "data": {
      "text/html": [
       "<div>\n",
       "<style scoped>\n",
       "    .dataframe tbody tr th:only-of-type {\n",
       "        vertical-align: middle;\n",
       "    }\n",
       "\n",
       "    .dataframe tbody tr th {\n",
       "        vertical-align: top;\n",
       "    }\n",
       "\n",
       "    .dataframe thead th {\n",
       "        text-align: right;\n",
       "    }\n",
       "</style>\n",
       "<table border=\"1\" class=\"dataframe\">\n",
       "  <thead>\n",
       "    <tr style=\"text-align: right;\">\n",
       "      <th>y</th>\n",
       "      <th>no</th>\n",
       "      <th>yes</th>\n",
       "      <th>All</th>\n",
       "    </tr>\n",
       "    <tr>\n",
       "      <th>education</th>\n",
       "      <th></th>\n",
       "      <th></th>\n",
       "      <th></th>\n",
       "    </tr>\n",
       "  </thead>\n",
       "  <tbody>\n",
       "    <tr>\n",
       "      <td>basic.4y</td>\n",
       "      <td>3748</td>\n",
       "      <td>428</td>\n",
       "      <td>4176</td>\n",
       "    </tr>\n",
       "    <tr>\n",
       "      <td>basic.6y</td>\n",
       "      <td>2104</td>\n",
       "      <td>188</td>\n",
       "      <td>2292</td>\n",
       "    </tr>\n",
       "    <tr>\n",
       "      <td>basic.9y</td>\n",
       "      <td>5572</td>\n",
       "      <td>473</td>\n",
       "      <td>6045</td>\n",
       "    </tr>\n",
       "    <tr>\n",
       "      <td>high.school</td>\n",
       "      <td>8484</td>\n",
       "      <td>1031</td>\n",
       "      <td>9515</td>\n",
       "    </tr>\n",
       "    <tr>\n",
       "      <td>illiterate</td>\n",
       "      <td>14</td>\n",
       "      <td>4</td>\n",
       "      <td>18</td>\n",
       "    </tr>\n",
       "    <tr>\n",
       "      <td>professional.course</td>\n",
       "      <td>4648</td>\n",
       "      <td>595</td>\n",
       "      <td>5243</td>\n",
       "    </tr>\n",
       "    <tr>\n",
       "      <td>university.degree</td>\n",
       "      <td>10498</td>\n",
       "      <td>1670</td>\n",
       "      <td>12168</td>\n",
       "    </tr>\n",
       "    <tr>\n",
       "      <td>unknown</td>\n",
       "      <td>1480</td>\n",
       "      <td>251</td>\n",
       "      <td>1731</td>\n",
       "    </tr>\n",
       "    <tr>\n",
       "      <td>All</td>\n",
       "      <td>36548</td>\n",
       "      <td>4640</td>\n",
       "      <td>41188</td>\n",
       "    </tr>\n",
       "  </tbody>\n",
       "</table>\n",
       "</div>"
      ],
      "text/plain": [
       "y                       no   yes    All\n",
       "education                              \n",
       "basic.4y              3748   428   4176\n",
       "basic.6y              2104   188   2292\n",
       "basic.9y              5572   473   6045\n",
       "high.school           8484  1031   9515\n",
       "illiterate              14     4     18\n",
       "professional.course   4648   595   5243\n",
       "university.degree    10498  1670  12168\n",
       "unknown               1480   251   1731\n",
       "All                  36548  4640  41188"
      ]
     },
     "execution_count": 20,
     "metadata": {},
     "output_type": "execute_result"
    }
   ],
   "source": [
    "dataOr.pivot_table( 'age','education','y', aggfunc=np.count_nonzero, margins=True)"
   ]
  },
  {
   "cell_type": "code",
   "execution_count": 21,
   "metadata": {},
   "outputs": [
    {
     "name": "stdout",
     "output_type": "stream",
     "text": [
      "no         32588\n",
      "unknown     8597\n",
      "yes            3\n",
      "Name: default, dtype: int64\n",
      "no         79.120132\n",
      "unknown    20.872584\n",
      "yes         0.007284\n",
      "Name: default, dtype: float64\n"
     ]
    }
   ],
   "source": [
    "#Gráficas default\n",
    "print(dataOr.default.value_counts())\n",
    "\n",
    "defaultP = dataOr['default'].value_counts('1')*100\n",
    "print(defaultP)"
   ]
  },
  {
   "cell_type": "code",
   "execution_count": 22,
   "metadata": {},
   "outputs": [
    {
     "data": {
      "text/plain": [
       "<seaborn.axisgrid.FacetGrid at 0x1f29e031448>"
      ]
     },
     "execution_count": 22,
     "metadata": {},
     "output_type": "execute_result"
    },
    {
     "data": {
      "image/png": "[encoded data removed]",
      "text/plain": [
       "<Figure size 683.25x360 with 1 Axes>"
      ]
     },
     "metadata": {
      "needs_background": "light"
     },
     "output_type": "display_data"
    }
   ],
   "source": [
    "pDefault = sns.catplot('default', data=dataOr, hue='y', kind='count', aspect=1.75)\n",
    "pDefault.set_xlabels('default')\n",
    "pDefault.set(title= 'Distribución de aceptación por Incumplimiento crediticio')\n"
   ]
  },
  {
   "cell_type": "code",
   "execution_count": 23,
   "metadata": {},
   "outputs": [
    {
     "data": {
      "text/html": [
       "<div>\n",
       "<style scoped>\n",
       "    .dataframe tbody tr th:only-of-type {\n",
       "        vertical-align: middle;\n",
       "    }\n",
       "\n",
       "    .dataframe tbody tr th {\n",
       "        vertical-align: top;\n",
       "    }\n",
       "\n",
       "    .dataframe thead th {\n",
       "        text-align: right;\n",
       "    }\n",
       "</style>\n",
       "<table border=\"1\" class=\"dataframe\">\n",
       "  <thead>\n",
       "    <tr style=\"text-align: right;\">\n",
       "      <th>default</th>\n",
       "      <th>no</th>\n",
       "      <th>unknown</th>\n",
       "      <th>yes</th>\n",
       "      <th>All</th>\n",
       "    </tr>\n",
       "    <tr>\n",
       "      <th>y</th>\n",
       "      <th></th>\n",
       "      <th></th>\n",
       "      <th></th>\n",
       "      <th></th>\n",
       "    </tr>\n",
       "  </thead>\n",
       "  <tbody>\n",
       "    <tr>\n",
       "      <td>no</td>\n",
       "      <td>28391.0</td>\n",
       "      <td>8154.0</td>\n",
       "      <td>3.0</td>\n",
       "      <td>36548</td>\n",
       "    </tr>\n",
       "    <tr>\n",
       "      <td>yes</td>\n",
       "      <td>4197.0</td>\n",
       "      <td>443.0</td>\n",
       "      <td>NaN</td>\n",
       "      <td>4640</td>\n",
       "    </tr>\n",
       "    <tr>\n",
       "      <td>All</td>\n",
       "      <td>32588.0</td>\n",
       "      <td>8597.0</td>\n",
       "      <td>3.0</td>\n",
       "      <td>41188</td>\n",
       "    </tr>\n",
       "  </tbody>\n",
       "</table>\n",
       "</div>"
      ],
      "text/plain": [
       "default       no  unknown  yes    All\n",
       "y                                    \n",
       "no       28391.0   8154.0  3.0  36548\n",
       "yes       4197.0    443.0  NaN   4640\n",
       "All      32588.0   8597.0  3.0  41188"
      ]
     },
     "execution_count": 23,
     "metadata": {},
     "output_type": "execute_result"
    }
   ],
   "source": [
    "dataOr.pivot_table( 'age','y','default', aggfunc=np.count_nonzero, margins=True)"
   ]
  },
  {
   "cell_type": "code",
   "execution_count": 24,
   "metadata": {},
   "outputs": [
    {
     "data": {
      "text/plain": [
       "Text(0.5, 1.0, \"Distribución por edad'\")"
      ]
     },
     "execution_count": 24,
     "metadata": {},
     "output_type": "execute_result"
    },
    {
     "data": {
      "image/png": "[encoded data removed]",
      "text/plain": [
       "<Figure size 432x288 with 1 Axes>"
      ]
     },
     "metadata": {
      "needs_background": "light"
     },
     "output_type": "display_data"
    }
   ],
   "source": [
    "#Gráficas Edad\n",
    "AGE = dataOr['age'].dropna()\n",
    "\n",
    "age_dist = sns.distplot(AGE)\n",
    "age_dist.set_title(\"Distribución por edad'\")"
   ]
  },
  {
   "cell_type": "code",
   "execution_count": 25,
   "metadata": {},
   "outputs": [
    {
     "data": {
      "text/plain": [
       "<seaborn.axisgrid.FacetGrid at 0x1f29ed10d08>"
      ]
     },
     "execution_count": 25,
     "metadata": {},
     "output_type": "execute_result"
    },
    {
     "data": {
      "image/png": "[encoded data removed]",
      "text/plain": [
       "<Figure size 917.25x216 with 1 Axes>"
      ]
     },
     "metadata": {
      "needs_background": "light"
     },
     "output_type": "display_data"
    }
   ],
   "source": [
    "#1=male, 2=female\n",
    "fig = sns.FacetGrid(dataOr, hue='y', aspect=4)\n",
    "fig.map(sns.kdeplot, 'age', shade=True)\n",
    "oldest = dataOr['age'].max()\n",
    "fig.set(xlim=(0,oldest))\n",
    "fig.set(title='Distribución de Aceptación por edad')\n",
    "fig.add_legend()"
   ]
  },
  {
   "cell_type": "code",
   "execution_count": 26,
   "metadata": {},
   "outputs": [
    {
     "name": "stdout",
     "output_type": "stream",
     "text": [
      "yes        21576\n",
      "no         18622\n",
      "unknown      990\n",
      "Name: housing, dtype: int64\n",
      "yes        52.384190\n",
      "no         45.212198\n",
      "unknown     2.403613\n",
      "Name: housing, dtype: float64\n"
     ]
    }
   ],
   "source": [
    "#Gráficas housing\n",
    "print(dataOr.housing.value_counts())\n",
    "\n",
    "housingP = dataOr['housing'].value_counts('1')*100\n",
    "print(housingP)"
   ]
  },
  {
   "cell_type": "code",
   "execution_count": 27,
   "metadata": {},
   "outputs": [
    {
     "data": {
      "text/plain": [
       "<seaborn.axisgrid.FacetGrid at 0x1f29eda6808>"
      ]
     },
     "execution_count": 27,
     "metadata": {},
     "output_type": "execute_result"
    },
    {
     "data": {
      "image/png": "[encoded data removed]",
      "text/plain": [
       "<Figure size 683.25x360 with 1 Axes>"
      ]
     },
     "metadata": {
      "needs_background": "light"
     },
     "output_type": "display_data"
    }
   ],
   "source": [
    "phousing = sns.catplot('housing', data=dataOr, hue='y', kind='count', aspect=1.75)\n",
    "phousing.set_xlabels('housing')\n",
    "phousing.set(title= 'Distribución de aceptación por Crédito de vivienda')"
   ]
  },
  {
   "cell_type": "code",
   "execution_count": 28,
   "metadata": {},
   "outputs": [
    {
     "data": {
      "text/html": [
       "<div>\n",
       "<style scoped>\n",
       "    .dataframe tbody tr th:only-of-type {\n",
       "        vertical-align: middle;\n",
       "    }\n",
       "\n",
       "    .dataframe tbody tr th {\n",
       "        vertical-align: top;\n",
       "    }\n",
       "\n",
       "    .dataframe thead th {\n",
       "        text-align: right;\n",
       "    }\n",
       "</style>\n",
       "<table border=\"1\" class=\"dataframe\">\n",
       "  <thead>\n",
       "    <tr style=\"text-align: right;\">\n",
       "      <th>housing</th>\n",
       "      <th>no</th>\n",
       "      <th>unknown</th>\n",
       "      <th>yes</th>\n",
       "      <th>All</th>\n",
       "    </tr>\n",
       "    <tr>\n",
       "      <th>y</th>\n",
       "      <th></th>\n",
       "      <th></th>\n",
       "      <th></th>\n",
       "      <th></th>\n",
       "    </tr>\n",
       "  </thead>\n",
       "  <tbody>\n",
       "    <tr>\n",
       "      <td>no</td>\n",
       "      <td>16596</td>\n",
       "      <td>883</td>\n",
       "      <td>19069</td>\n",
       "      <td>36548</td>\n",
       "    </tr>\n",
       "    <tr>\n",
       "      <td>yes</td>\n",
       "      <td>2026</td>\n",
       "      <td>107</td>\n",
       "      <td>2507</td>\n",
       "      <td>4640</td>\n",
       "    </tr>\n",
       "    <tr>\n",
       "      <td>All</td>\n",
       "      <td>18622</td>\n",
       "      <td>990</td>\n",
       "      <td>21576</td>\n",
       "      <td>41188</td>\n",
       "    </tr>\n",
       "  </tbody>\n",
       "</table>\n",
       "</div>"
      ],
      "text/plain": [
       "housing     no  unknown    yes    All\n",
       "y                                    \n",
       "no       16596      883  19069  36548\n",
       "yes       2026      107   2507   4640\n",
       "All      18622      990  21576  41188"
      ]
     },
     "execution_count": 28,
     "metadata": {},
     "output_type": "execute_result"
    }
   ],
   "source": [
    "dataOr.pivot_table( 'age','y','housing', aggfunc=np.count_nonzero, margins=True)"
   ]
  },
  {
   "cell_type": "code",
   "execution_count": 29,
   "metadata": {},
   "outputs": [
    {
     "name": "stdout",
     "output_type": "stream",
     "text": [
      "no         33950\n",
      "yes         6248\n",
      "unknown      990\n",
      "Name: loan, dtype: int64\n",
      "no         82.426920\n",
      "yes        15.169467\n",
      "unknown     2.403613\n",
      "Name: loan, dtype: float64\n"
     ]
    }
   ],
   "source": [
    "#Gráficas loan\n",
    "print(dataOr.loan.value_counts())\n",
    "\n",
    "loanP = dataOr['loan'].value_counts('1')*100\n",
    "print(loanP)"
   ]
  },
  {
   "cell_type": "code",
   "execution_count": 30,
   "metadata": {},
   "outputs": [
    {
     "data": {
      "text/plain": [
       "<seaborn.axisgrid.FacetGrid at 0x1f29e991288>"
      ]
     },
     "execution_count": 30,
     "metadata": {},
     "output_type": "execute_result"
    },
    {
     "data": {
      "image/png": "[encoded data removed]",
      "text/plain": [
       "<Figure size 683.25x360 with 1 Axes>"
      ]
     },
     "metadata": {
      "needs_background": "light"
     },
     "output_type": "display_data"
    }
   ],
   "source": [
    "pLoan = sns.catplot('loan', data=dataOr, hue='y', kind='count', aspect=1.75)\n",
    "pLoan.set_xlabels('loan')\n",
    "pLoan.set(title= 'Distribución de aceptación por crédito personal')"
   ]
  },
  {
   "cell_type": "code",
   "execution_count": 31,
   "metadata": {},
   "outputs": [
    {
     "data": {
      "text/html": [
       "<div>\n",
       "<style scoped>\n",
       "    .dataframe tbody tr th:only-of-type {\n",
       "        vertical-align: middle;\n",
       "    }\n",
       "\n",
       "    .dataframe tbody tr th {\n",
       "        vertical-align: top;\n",
       "    }\n",
       "\n",
       "    .dataframe thead th {\n",
       "        text-align: right;\n",
       "    }\n",
       "</style>\n",
       "<table border=\"1\" class=\"dataframe\">\n",
       "  <thead>\n",
       "    <tr style=\"text-align: right;\">\n",
       "      <th>loan</th>\n",
       "      <th>no</th>\n",
       "      <th>unknown</th>\n",
       "      <th>yes</th>\n",
       "      <th>All</th>\n",
       "    </tr>\n",
       "    <tr>\n",
       "      <th>y</th>\n",
       "      <th></th>\n",
       "      <th></th>\n",
       "      <th></th>\n",
       "      <th></th>\n",
       "    </tr>\n",
       "  </thead>\n",
       "  <tbody>\n",
       "    <tr>\n",
       "      <td>no</td>\n",
       "      <td>30100</td>\n",
       "      <td>883</td>\n",
       "      <td>5565</td>\n",
       "      <td>36548</td>\n",
       "    </tr>\n",
       "    <tr>\n",
       "      <td>yes</td>\n",
       "      <td>3850</td>\n",
       "      <td>107</td>\n",
       "      <td>683</td>\n",
       "      <td>4640</td>\n",
       "    </tr>\n",
       "    <tr>\n",
       "      <td>All</td>\n",
       "      <td>33950</td>\n",
       "      <td>990</td>\n",
       "      <td>6248</td>\n",
       "      <td>41188</td>\n",
       "    </tr>\n",
       "  </tbody>\n",
       "</table>\n",
       "</div>"
      ],
      "text/plain": [
       "loan     no  unknown   yes    All\n",
       "y                                \n",
       "no    30100      883  5565  36548\n",
       "yes    3850      107   683   4640\n",
       "All   33950      990  6248  41188"
      ]
     },
     "execution_count": 31,
     "metadata": {},
     "output_type": "execute_result"
    }
   ],
   "source": [
    "dataOr.pivot_table( 'age','y','loan', aggfunc=np.count_nonzero, margins=True)"
   ]
  },
  {
   "cell_type": "code",
   "execution_count": 32,
   "metadata": {},
   "outputs": [
    {
     "name": "stdout",
     "output_type": "stream",
     "text": [
      "cellular     26144\n",
      "telephone    15044\n",
      "Name: contact, dtype: int64\n",
      "cellular     63.474798\n",
      "telephone    36.525202\n",
      "Name: contact, dtype: float64\n"
     ]
    }
   ],
   "source": [
    "#Gráficas contact\n",
    "print(dataOr.contact.value_counts())\n",
    "\n",
    "contactP = dataOr['contact'].value_counts('1')*100\n",
    "print(contactP)"
   ]
  },
  {
   "cell_type": "code",
   "execution_count": 33,
   "metadata": {},
   "outputs": [
    {
     "data": {
      "text/plain": [
       "<seaborn.axisgrid.FacetGrid at 0x1f29f0fa548>"
      ]
     },
     "execution_count": 33,
     "metadata": {},
     "output_type": "execute_result"
    },
    {
     "data": {
      "image/png": "[encoded data removed]",
      "text/plain": [
       "<Figure size 683.25x360 with 1 Axes>"
      ]
     },
     "metadata": {
      "needs_background": "light"
     },
     "output_type": "display_data"
    }
   ],
   "source": [
    "pContact = sns.catplot('contact', data=dataOr, hue='y', kind='count', aspect=1.75)\n",
    "pContact.set_xlabels('contact')\n",
    "pContact.set(title= 'Distribución de aceptación por tipo de contacto')"
   ]
  },
  {
   "cell_type": "code",
   "execution_count": 34,
   "metadata": {},
   "outputs": [
    {
     "data": {
      "text/html": [
       "<div>\n",
       "<style scoped>\n",
       "    .dataframe tbody tr th:only-of-type {\n",
       "        vertical-align: middle;\n",
       "    }\n",
       "\n",
       "    .dataframe tbody tr th {\n",
       "        vertical-align: top;\n",
       "    }\n",
       "\n",
       "    .dataframe thead th {\n",
       "        text-align: right;\n",
       "    }\n",
       "</style>\n",
       "<table border=\"1\" class=\"dataframe\">\n",
       "  <thead>\n",
       "    <tr style=\"text-align: right;\">\n",
       "      <th>contact</th>\n",
       "      <th>cellular</th>\n",
       "      <th>telephone</th>\n",
       "      <th>All</th>\n",
       "    </tr>\n",
       "    <tr>\n",
       "      <th>y</th>\n",
       "      <th></th>\n",
       "      <th></th>\n",
       "      <th></th>\n",
       "    </tr>\n",
       "  </thead>\n",
       "  <tbody>\n",
       "    <tr>\n",
       "      <td>no</td>\n",
       "      <td>22291</td>\n",
       "      <td>14257</td>\n",
       "      <td>36548</td>\n",
       "    </tr>\n",
       "    <tr>\n",
       "      <td>yes</td>\n",
       "      <td>3853</td>\n",
       "      <td>787</td>\n",
       "      <td>4640</td>\n",
       "    </tr>\n",
       "    <tr>\n",
       "      <td>All</td>\n",
       "      <td>26144</td>\n",
       "      <td>15044</td>\n",
       "      <td>41188</td>\n",
       "    </tr>\n",
       "  </tbody>\n",
       "</table>\n",
       "</div>"
      ],
      "text/plain": [
       "contact  cellular  telephone    All\n",
       "y                                  \n",
       "no          22291      14257  36548\n",
       "yes          3853        787   4640\n",
       "All         26144      15044  41188"
      ]
     },
     "execution_count": 34,
     "metadata": {},
     "output_type": "execute_result"
    }
   ],
   "source": [
    "dataOr.pivot_table( 'age','y','contact', aggfunc=np.count_nonzero, margins=True)"
   ]
  },
  {
   "cell_type": "code",
   "execution_count": 35,
   "metadata": {},
   "outputs": [
    {
     "name": "stdout",
     "output_type": "stream",
     "text": [
      "may    13769\n",
      "jul     7174\n",
      "aug     6178\n",
      "jun     5318\n",
      "nov     4101\n",
      "apr     2632\n",
      "oct      718\n",
      "sep      570\n",
      "mar      546\n",
      "dec      182\n",
      "Name: month, dtype: int64\n",
      "may    33.429640\n",
      "jul    17.417694\n",
      "aug    14.999514\n",
      "jun    12.911528\n",
      "nov     9.956784\n",
      "apr     6.390211\n",
      "oct     1.743226\n",
      "sep     1.383898\n",
      "mar     1.325629\n",
      "dec     0.441876\n",
      "Name: month, dtype: float64\n"
     ]
    }
   ],
   "source": [
    "#Gráficas month\n",
    "print(dataOr.month.value_counts())\n",
    "\n",
    "monthP = dataOr['month'].value_counts('1')*100\n",
    "print(monthP)"
   ]
  },
  {
   "cell_type": "code",
   "execution_count": 36,
   "metadata": {},
   "outputs": [
    {
     "data": {
      "text/plain": [
       "<seaborn.axisgrid.FacetGrid at 0x1f29f074848>"
      ]
     },
     "execution_count": 36,
     "metadata": {},
     "output_type": "execute_result"
    },
    {
     "data": {
      "image/png": "[encoded data removed]",
      "text/plain": [
       "<Figure size 683.25x360 with 1 Axes>"
      ]
     },
     "metadata": {
      "needs_background": "light"
     },
     "output_type": "display_data"
    }
   ],
   "source": [
    "pmonth = sns.catplot('month', data=dataOr, hue='y', kind='count', aspect=1.75)\n",
    "pmonth.set_xlabels('month')\n",
    "pmonth.set(title= 'Distribución de aceptación por education')"
   ]
  },
  {
   "cell_type": "code",
   "execution_count": 37,
   "metadata": {},
   "outputs": [
    {
     "data": {
      "text/html": [
       "<div>\n",
       "<style scoped>\n",
       "    .dataframe tbody tr th:only-of-type {\n",
       "        vertical-align: middle;\n",
       "    }\n",
       "\n",
       "    .dataframe tbody tr th {\n",
       "        vertical-align: top;\n",
       "    }\n",
       "\n",
       "    .dataframe thead th {\n",
       "        text-align: right;\n",
       "    }\n",
       "</style>\n",
       "<table border=\"1\" class=\"dataframe\">\n",
       "  <thead>\n",
       "    <tr style=\"text-align: right;\">\n",
       "      <th>month</th>\n",
       "      <th>apr</th>\n",
       "      <th>aug</th>\n",
       "      <th>dec</th>\n",
       "      <th>jul</th>\n",
       "      <th>jun</th>\n",
       "      <th>mar</th>\n",
       "      <th>may</th>\n",
       "      <th>nov</th>\n",
       "      <th>oct</th>\n",
       "      <th>sep</th>\n",
       "      <th>All</th>\n",
       "    </tr>\n",
       "    <tr>\n",
       "      <th>y</th>\n",
       "      <th></th>\n",
       "      <th></th>\n",
       "      <th></th>\n",
       "      <th></th>\n",
       "      <th></th>\n",
       "      <th></th>\n",
       "      <th></th>\n",
       "      <th></th>\n",
       "      <th></th>\n",
       "      <th></th>\n",
       "      <th></th>\n",
       "    </tr>\n",
       "  </thead>\n",
       "  <tbody>\n",
       "    <tr>\n",
       "      <td>no</td>\n",
       "      <td>2093</td>\n",
       "      <td>5523</td>\n",
       "      <td>93</td>\n",
       "      <td>6525</td>\n",
       "      <td>4759</td>\n",
       "      <td>270</td>\n",
       "      <td>12883</td>\n",
       "      <td>3685</td>\n",
       "      <td>403</td>\n",
       "      <td>314</td>\n",
       "      <td>36548</td>\n",
       "    </tr>\n",
       "    <tr>\n",
       "      <td>yes</td>\n",
       "      <td>539</td>\n",
       "      <td>655</td>\n",
       "      <td>89</td>\n",
       "      <td>649</td>\n",
       "      <td>559</td>\n",
       "      <td>276</td>\n",
       "      <td>886</td>\n",
       "      <td>416</td>\n",
       "      <td>315</td>\n",
       "      <td>256</td>\n",
       "      <td>4640</td>\n",
       "    </tr>\n",
       "    <tr>\n",
       "      <td>All</td>\n",
       "      <td>2632</td>\n",
       "      <td>6178</td>\n",
       "      <td>182</td>\n",
       "      <td>7174</td>\n",
       "      <td>5318</td>\n",
       "      <td>546</td>\n",
       "      <td>13769</td>\n",
       "      <td>4101</td>\n",
       "      <td>718</td>\n",
       "      <td>570</td>\n",
       "      <td>41188</td>\n",
       "    </tr>\n",
       "  </tbody>\n",
       "</table>\n",
       "</div>"
      ],
      "text/plain": [
       "month   apr   aug  dec   jul   jun  mar    may   nov  oct  sep    All\n",
       "y                                                                    \n",
       "no     2093  5523   93  6525  4759  270  12883  3685  403  314  36548\n",
       "yes     539   655   89   649   559  276    886   416  315  256   4640\n",
       "All    2632  6178  182  7174  5318  546  13769  4101  718  570  41188"
      ]
     },
     "execution_count": 37,
     "metadata": {},
     "output_type": "execute_result"
    }
   ],
   "source": [
    "dataOr.pivot_table( 'age','y','month', aggfunc=np.count_nonzero, margins=True)"
   ]
  },
  {
   "cell_type": "code",
   "execution_count": 38,
   "metadata": {},
   "outputs": [
    {
     "name": "stdout",
     "output_type": "stream",
     "text": [
      "thu    8623\n",
      "mon    8514\n",
      "wed    8134\n",
      "tue    8090\n",
      "fri    7827\n",
      "Name: day_of_week, dtype: int64\n",
      "thu    20.935709\n",
      "mon    20.671069\n",
      "wed    19.748470\n",
      "tue    19.641643\n",
      "fri    19.003108\n",
      "Name: day_of_week, dtype: float64\n"
     ]
    }
   ],
   "source": [
    "#Gráficas day_of_week\n",
    "print(dataOr.day_of_week.value_counts())\n",
    "\n",
    "dayOfWeekP = dataOr['day_of_week'].value_counts('1')*100\n",
    "print(dayOfWeekP)"
   ]
  },
  {
   "cell_type": "code",
   "execution_count": 39,
   "metadata": {},
   "outputs": [
    {
     "data": {
      "text/plain": [
       "<seaborn.axisgrid.FacetGrid at 0x1f29f627708>"
      ]
     },
     "execution_count": 39,
     "metadata": {},
     "output_type": "execute_result"
    },
    {
     "data": {
      "image/png": "[encoded data removed]",
      "text/plain": [
       "<Figure size 683.25x360 with 1 Axes>"
      ]
     },
     "metadata": {
      "needs_background": "light"
     },
     "output_type": "display_data"
    }
   ],
   "source": [
    "pDayOfWeek = sns.catplot('day_of_week', data=dataOr, hue='y', kind='count', aspect=1.75)\n",
    "pDayOfWeek.set_xlabels('day_of_week')\n",
    "pDayOfWeek.set(title= 'Distribución de aceptación por day_of_week')"
   ]
  },
  {
   "cell_type": "code",
   "execution_count": 40,
   "metadata": {},
   "outputs": [
    {
     "data": {
      "text/html": [
       "<div>\n",
       "<style scoped>\n",
       "    .dataframe tbody tr th:only-of-type {\n",
       "        vertical-align: middle;\n",
       "    }\n",
       "\n",
       "    .dataframe tbody tr th {\n",
       "        vertical-align: top;\n",
       "    }\n",
       "\n",
       "    .dataframe thead th {\n",
       "        text-align: right;\n",
       "    }\n",
       "</style>\n",
       "<table border=\"1\" class=\"dataframe\">\n",
       "  <thead>\n",
       "    <tr style=\"text-align: right;\">\n",
       "      <th>day_of_week</th>\n",
       "      <th>fri</th>\n",
       "      <th>mon</th>\n",
       "      <th>thu</th>\n",
       "      <th>tue</th>\n",
       "      <th>wed</th>\n",
       "      <th>All</th>\n",
       "    </tr>\n",
       "    <tr>\n",
       "      <th>y</th>\n",
       "      <th></th>\n",
       "      <th></th>\n",
       "      <th></th>\n",
       "      <th></th>\n",
       "      <th></th>\n",
       "      <th></th>\n",
       "    </tr>\n",
       "  </thead>\n",
       "  <tbody>\n",
       "    <tr>\n",
       "      <td>no</td>\n",
       "      <td>6981</td>\n",
       "      <td>7667</td>\n",
       "      <td>7578</td>\n",
       "      <td>7137</td>\n",
       "      <td>7185</td>\n",
       "      <td>36548</td>\n",
       "    </tr>\n",
       "    <tr>\n",
       "      <td>yes</td>\n",
       "      <td>846</td>\n",
       "      <td>847</td>\n",
       "      <td>1045</td>\n",
       "      <td>953</td>\n",
       "      <td>949</td>\n",
       "      <td>4640</td>\n",
       "    </tr>\n",
       "    <tr>\n",
       "      <td>All</td>\n",
       "      <td>7827</td>\n",
       "      <td>8514</td>\n",
       "      <td>8623</td>\n",
       "      <td>8090</td>\n",
       "      <td>8134</td>\n",
       "      <td>41188</td>\n",
       "    </tr>\n",
       "  </tbody>\n",
       "</table>\n",
       "</div>"
      ],
      "text/plain": [
       "day_of_week   fri   mon   thu   tue   wed    All\n",
       "y                                               \n",
       "no           6981  7667  7578  7137  7185  36548\n",
       "yes           846   847  1045   953   949   4640\n",
       "All          7827  8514  8623  8090  8134  41188"
      ]
     },
     "execution_count": 40,
     "metadata": {},
     "output_type": "execute_result"
    }
   ],
   "source": [
    "dataOr.pivot_table( 'age','y','day_of_week', aggfunc=np.count_nonzero, margins=True)"
   ]
  },
  {
   "cell_type": "code",
   "execution_count": 41,
   "metadata": {},
   "outputs": [
    {
     "name": "stdout",
     "output_type": "stream",
     "text": [
      "1     17642\n",
      "2     10570\n",
      "3      5341\n",
      "4      2651\n",
      "5      1599\n",
      "6       979\n",
      "7       629\n",
      "8       400\n",
      "9       283\n",
      "10      225\n",
      "11      177\n",
      "12      125\n",
      "13       92\n",
      "14       69\n",
      "17       58\n",
      "15       51\n",
      "16       51\n",
      "18       33\n",
      "20       30\n",
      "19       26\n",
      "21       24\n",
      "22       17\n",
      "23       16\n",
      "24       15\n",
      "27       11\n",
      "29       10\n",
      "25        8\n",
      "26        8\n",
      "28        8\n",
      "30        7\n",
      "31        7\n",
      "35        5\n",
      "33        4\n",
      "32        4\n",
      "34        3\n",
      "40        2\n",
      "42        2\n",
      "43        2\n",
      "37        1\n",
      "39        1\n",
      "41        1\n",
      "56        1\n",
      "Name: campaign, dtype: int64\n",
      "1     42.832864\n",
      "2     25.662814\n",
      "3     12.967369\n",
      "4      6.436341\n",
      "5      3.882199\n",
      "6      2.376906\n",
      "7      1.527144\n",
      "8      0.971157\n",
      "9      0.687093\n",
      "10     0.546276\n",
      "11     0.429737\n",
      "12     0.303486\n",
      "13     0.223366\n",
      "14     0.167525\n",
      "17     0.140818\n",
      "15     0.123822\n",
      "16     0.123822\n",
      "18     0.080120\n",
      "20     0.072837\n",
      "19     0.063125\n",
      "21     0.058269\n",
      "22     0.041274\n",
      "23     0.038846\n",
      "24     0.036418\n",
      "27     0.026707\n",
      "29     0.024279\n",
      "25     0.019423\n",
      "26     0.019423\n",
      "28     0.019423\n",
      "30     0.016995\n",
      "31     0.016995\n",
      "35     0.012139\n",
      "33     0.009712\n",
      "32     0.009712\n",
      "34     0.007284\n",
      "40     0.004856\n",
      "42     0.004856\n",
      "43     0.004856\n",
      "37     0.002428\n",
      "39     0.002428\n",
      "41     0.002428\n",
      "56     0.002428\n",
      "Name: campaign, dtype: float64\n"
     ]
    }
   ],
   "source": [
    "#Gráficas campaign\n",
    "print(dataOr.campaign.value_counts())\n",
    "\n",
    "campaignP = dataOr['campaign'].value_counts('1')*100\n",
    "print(campaignP)"
   ]
  },
  {
   "cell_type": "code",
   "execution_count": 42,
   "metadata": {},
   "outputs": [
    {
     "data": {
      "text/plain": [
       "<seaborn.axisgrid.FacetGrid at 0x1f29f6d87c8>"
      ]
     },
     "execution_count": 42,
     "metadata": {},
     "output_type": "execute_result"
    },
    {
     "data": {
      "image/png": "[encoded data removed]",
      "text/plain": [
       "<Figure size 683.25x360 with 1 Axes>"
      ]
     },
     "metadata": {
      "needs_background": "light"
     },
     "output_type": "display_data"
    }
   ],
   "source": [
    "pCampaign = sns.catplot('campaign', data=dataOr, hue='y', kind='count', aspect=1.75)\n",
    "pCampaign.set_xlabels('campaign')\n",
    "pCampaign.set(title= 'Distribución de aceptación por education')"
   ]
  },
  {
   "cell_type": "code",
   "execution_count": 43,
   "metadata": {},
   "outputs": [
    {
     "data": {
      "text/html": [
       "<div>\n",
       "<style scoped>\n",
       "    .dataframe tbody tr th:only-of-type {\n",
       "        vertical-align: middle;\n",
       "    }\n",
       "\n",
       "    .dataframe tbody tr th {\n",
       "        vertical-align: top;\n",
       "    }\n",
       "\n",
       "    .dataframe thead th {\n",
       "        text-align: right;\n",
       "    }\n",
       "</style>\n",
       "<table border=\"1\" class=\"dataframe\">\n",
       "  <thead>\n",
       "    <tr style=\"text-align: right;\">\n",
       "      <th>campaign</th>\n",
       "      <th>1</th>\n",
       "      <th>2</th>\n",
       "      <th>3</th>\n",
       "      <th>4</th>\n",
       "      <th>5</th>\n",
       "      <th>6</th>\n",
       "      <th>7</th>\n",
       "      <th>8</th>\n",
       "      <th>9</th>\n",
       "      <th>10</th>\n",
       "      <th>...</th>\n",
       "      <th>34</th>\n",
       "      <th>35</th>\n",
       "      <th>37</th>\n",
       "      <th>39</th>\n",
       "      <th>40</th>\n",
       "      <th>41</th>\n",
       "      <th>42</th>\n",
       "      <th>43</th>\n",
       "      <th>56</th>\n",
       "      <th>All</th>\n",
       "    </tr>\n",
       "    <tr>\n",
       "      <th>y</th>\n",
       "      <th></th>\n",
       "      <th></th>\n",
       "      <th></th>\n",
       "      <th></th>\n",
       "      <th></th>\n",
       "      <th></th>\n",
       "      <th></th>\n",
       "      <th></th>\n",
       "      <th></th>\n",
       "      <th></th>\n",
       "      <th></th>\n",
       "      <th></th>\n",
       "      <th></th>\n",
       "      <th></th>\n",
       "      <th></th>\n",
       "      <th></th>\n",
       "      <th></th>\n",
       "      <th></th>\n",
       "      <th></th>\n",
       "      <th></th>\n",
       "      <th></th>\n",
       "    </tr>\n",
       "  </thead>\n",
       "  <tbody>\n",
       "    <tr>\n",
       "      <td>no</td>\n",
       "      <td>15342.0</td>\n",
       "      <td>9359.0</td>\n",
       "      <td>4767.0</td>\n",
       "      <td>2402.0</td>\n",
       "      <td>1479.0</td>\n",
       "      <td>904.0</td>\n",
       "      <td>591.0</td>\n",
       "      <td>383.0</td>\n",
       "      <td>266.0</td>\n",
       "      <td>213.0</td>\n",
       "      <td>...</td>\n",
       "      <td>3.0</td>\n",
       "      <td>5.0</td>\n",
       "      <td>1.0</td>\n",
       "      <td>1.0</td>\n",
       "      <td>2.0</td>\n",
       "      <td>1.0</td>\n",
       "      <td>2.0</td>\n",
       "      <td>2.0</td>\n",
       "      <td>1.0</td>\n",
       "      <td>36548</td>\n",
       "    </tr>\n",
       "    <tr>\n",
       "      <td>yes</td>\n",
       "      <td>2300.0</td>\n",
       "      <td>1211.0</td>\n",
       "      <td>574.0</td>\n",
       "      <td>249.0</td>\n",
       "      <td>120.0</td>\n",
       "      <td>75.0</td>\n",
       "      <td>38.0</td>\n",
       "      <td>17.0</td>\n",
       "      <td>17.0</td>\n",
       "      <td>12.0</td>\n",
       "      <td>...</td>\n",
       "      <td>NaN</td>\n",
       "      <td>NaN</td>\n",
       "      <td>NaN</td>\n",
       "      <td>NaN</td>\n",
       "      <td>NaN</td>\n",
       "      <td>NaN</td>\n",
       "      <td>NaN</td>\n",
       "      <td>NaN</td>\n",
       "      <td>NaN</td>\n",
       "      <td>4640</td>\n",
       "    </tr>\n",
       "    <tr>\n",
       "      <td>All</td>\n",
       "      <td>17642.0</td>\n",
       "      <td>10570.0</td>\n",
       "      <td>5341.0</td>\n",
       "      <td>2651.0</td>\n",
       "      <td>1599.0</td>\n",
       "      <td>979.0</td>\n",
       "      <td>629.0</td>\n",
       "      <td>400.0</td>\n",
       "      <td>283.0</td>\n",
       "      <td>225.0</td>\n",
       "      <td>...</td>\n",
       "      <td>3.0</td>\n",
       "      <td>5.0</td>\n",
       "      <td>1.0</td>\n",
       "      <td>1.0</td>\n",
       "      <td>2.0</td>\n",
       "      <td>1.0</td>\n",
       "      <td>2.0</td>\n",
       "      <td>2.0</td>\n",
       "      <td>1.0</td>\n",
       "      <td>41188</td>\n",
       "    </tr>\n",
       "  </tbody>\n",
       "</table>\n",
       "<p>3 rows × 43 columns</p>\n",
       "</div>"
      ],
      "text/plain": [
       "campaign        1        2       3       4       5      6      7      8  \\\n",
       "y                                                                         \n",
       "no        15342.0   9359.0  4767.0  2402.0  1479.0  904.0  591.0  383.0   \n",
       "yes        2300.0   1211.0   574.0   249.0   120.0   75.0   38.0   17.0   \n",
       "All       17642.0  10570.0  5341.0  2651.0  1599.0  979.0  629.0  400.0   \n",
       "\n",
       "campaign      9     10  ...   34   35   37   39   40   41   42   43   56  \\\n",
       "y                       ...                                                \n",
       "no        266.0  213.0  ...  3.0  5.0  1.0  1.0  2.0  1.0  2.0  2.0  1.0   \n",
       "yes        17.0   12.0  ...  NaN  NaN  NaN  NaN  NaN  NaN  NaN  NaN  NaN   \n",
       "All       283.0  225.0  ...  3.0  5.0  1.0  1.0  2.0  1.0  2.0  2.0  1.0   \n",
       "\n",
       "campaign    All  \n",
       "y                \n",
       "no        36548  \n",
       "yes        4640  \n",
       "All       41188  \n",
       "\n",
       "[3 rows x 43 columns]"
      ]
     },
     "execution_count": 43,
     "metadata": {},
     "output_type": "execute_result"
    }
   ],
   "source": [
    "dataOr.pivot_table( 'age','y','campaign', aggfunc=np.count_nonzero, margins=True)"
   ]
  },
  {
   "cell_type": "code",
   "execution_count": 44,
   "metadata": {},
   "outputs": [
    {
     "name": "stdout",
     "output_type": "stream",
     "text": [
      "nonexistent    35563\n",
      "failure         4252\n",
      "success         1373\n",
      "Name: poutcome, dtype: int64\n",
      "nonexistent    86.343110\n",
      "failure        10.323395\n",
      "success         3.333495\n",
      "Name: poutcome, dtype: float64\n"
     ]
    }
   ],
   "source": [
    "#Gráficas pOutcome\n",
    "print(dataOr.poutcome.value_counts())\n",
    "\n",
    "outcomeP = dataOr['poutcome'].value_counts('1')*100\n",
    "print(outcomeP)"
   ]
  },
  {
   "cell_type": "code",
   "execution_count": 45,
   "metadata": {},
   "outputs": [
    {
     "data": {
      "text/plain": [
       "<seaborn.axisgrid.FacetGrid at 0x1f29e8a99c8>"
      ]
     },
     "execution_count": 45,
     "metadata": {},
     "output_type": "execute_result"
    },
    {
     "data": {
      "image/png": "[encoded data removed]",
      "text/plain": [
       "<Figure size 683.25x360 with 1 Axes>"
      ]
     },
     "metadata": {
      "needs_background": "light"
     },
     "output_type": "display_data"
    }
   ],
   "source": [
    "pOutcome = sns.catplot('poutcome', data=dataOr, hue='y', kind='count', aspect=1.75)\n",
    "pOutcome.set_xlabels('pOutcome')\n",
    "pOutcome.set(title= 'Distribución de aceptación por resultado de la campaña anterior')"
   ]
  },
  {
   "cell_type": "code",
   "execution_count": 46,
   "metadata": {},
   "outputs": [
    {
     "data": {
      "text/html": [
       "<div>\n",
       "<style scoped>\n",
       "    .dataframe tbody tr th:only-of-type {\n",
       "        vertical-align: middle;\n",
       "    }\n",
       "\n",
       "    .dataframe tbody tr th {\n",
       "        vertical-align: top;\n",
       "    }\n",
       "\n",
       "    .dataframe thead th {\n",
       "        text-align: right;\n",
       "    }\n",
       "</style>\n",
       "<table border=\"1\" class=\"dataframe\">\n",
       "  <thead>\n",
       "    <tr style=\"text-align: right;\">\n",
       "      <th>poutcome</th>\n",
       "      <th>failure</th>\n",
       "      <th>nonexistent</th>\n",
       "      <th>success</th>\n",
       "      <th>All</th>\n",
       "    </tr>\n",
       "    <tr>\n",
       "      <th>y</th>\n",
       "      <th></th>\n",
       "      <th></th>\n",
       "      <th></th>\n",
       "      <th></th>\n",
       "    </tr>\n",
       "  </thead>\n",
       "  <tbody>\n",
       "    <tr>\n",
       "      <td>no</td>\n",
       "      <td>3647</td>\n",
       "      <td>32422</td>\n",
       "      <td>479</td>\n",
       "      <td>36548</td>\n",
       "    </tr>\n",
       "    <tr>\n",
       "      <td>yes</td>\n",
       "      <td>605</td>\n",
       "      <td>3141</td>\n",
       "      <td>894</td>\n",
       "      <td>4640</td>\n",
       "    </tr>\n",
       "    <tr>\n",
       "      <td>All</td>\n",
       "      <td>4252</td>\n",
       "      <td>35563</td>\n",
       "      <td>1373</td>\n",
       "      <td>41188</td>\n",
       "    </tr>\n",
       "  </tbody>\n",
       "</table>\n",
       "</div>"
      ],
      "text/plain": [
       "poutcome  failure  nonexistent  success    All\n",
       "y                                             \n",
       "no           3647        32422      479  36548\n",
       "yes           605         3141      894   4640\n",
       "All          4252        35563     1373  41188"
      ]
     },
     "execution_count": 46,
     "metadata": {},
     "output_type": "execute_result"
    }
   ],
   "source": [
    "dataOr.pivot_table( 'age','y','poutcome', aggfunc=np.count_nonzero, margins=True)"
   ]
  },
  {
   "cell_type": "code",
   "execution_count": 47,
   "metadata": {},
   "outputs": [],
   "source": [
    "data=dataOr\n",
    "dataDV = pd.get_dummies(dataOr[['job','marital','education','default','housing','loan','contact','month','day_of_week','poutcome','y']],prefix=['job','marital','education','default','housing','loan','contact','month','day_of_week','poutcome','y'],drop_first=  True)\n",
    "\n",
    "\n",
    "data = pd.concat([data,dataDV],axis=1)\n",
    "#data= pd.concat([data,temp],axis=1)"
   ]
  },
  {
   "cell_type": "code",
   "execution_count": 48,
   "metadata": {},
   "outputs": [
    {
     "name": "stdout",
     "output_type": "stream",
     "text": [
      "       age          job  marital            education  default housing loan  \\\n",
      "0       56    housemaid  married             basic.4y       no      no   no   \n",
      "1       57     services  married          high.school  unknown      no   no   \n",
      "2       37     services  married          high.school       no     yes   no   \n",
      "3       40       admin.  married             basic.6y       no      no   no   \n",
      "4       56     services  married          high.school       no      no  yes   \n",
      "...    ...          ...      ...                  ...      ...     ...  ...   \n",
      "41183   73      retired  married  professional.course       no     yes   no   \n",
      "41184   46  blue-collar  married  professional.course       no      no   no   \n",
      "41185   56      retired  married    university.degree       no     yes   no   \n",
      "41186   44   technician  married  professional.course       no      no   no   \n",
      "41187   74      retired  married  professional.course       no     yes   no   \n",
      "\n",
      "         contact month day_of_week  ...  campaign  pdays  previous  \\\n",
      "0      telephone   may         mon  ...         1    999         0   \n",
      "1      telephone   may         mon  ...         1    999         0   \n",
      "2      telephone   may         mon  ...         1    999         0   \n",
      "3      telephone   may         mon  ...         1    999         0   \n",
      "4      telephone   may         mon  ...         1    999         0   \n",
      "...          ...   ...         ...  ...       ...    ...       ...   \n",
      "41183   cellular   nov         fri  ...         1    999         0   \n",
      "41184   cellular   nov         fri  ...         1    999         0   \n",
      "41185   cellular   nov         fri  ...         2    999         0   \n",
      "41186   cellular   nov         fri  ...         1    999         0   \n",
      "41187   cellular   nov         fri  ...         3    999         1   \n",
      "\n",
      "          poutcome emp_var_rate  cons_price_idx  cons_conf_idx  euribor3m  \\\n",
      "0      nonexistent          1.1          93.994          -36.4      4.857   \n",
      "1      nonexistent          1.1          93.994          -36.4      4.857   \n",
      "2      nonexistent          1.1          93.994          -36.4      4.857   \n",
      "3      nonexistent          1.1          93.994          -36.4      4.857   \n",
      "4      nonexistent          1.1          93.994          -36.4      4.857   \n",
      "...            ...          ...             ...            ...        ...   \n",
      "41183  nonexistent         -1.1          94.767          -50.8      1.028   \n",
      "41184  nonexistent         -1.1          94.767          -50.8      1.028   \n",
      "41185  nonexistent         -1.1          94.767          -50.8      1.028   \n",
      "41186  nonexistent         -1.1          94.767          -50.8      1.028   \n",
      "41187      failure         -1.1          94.767          -50.8      1.028   \n",
      "\n",
      "       nr_employed    y  \n",
      "0           5191.0   no  \n",
      "1           5191.0   no  \n",
      "2           5191.0   no  \n",
      "3           5191.0   no  \n",
      "4           5191.0   no  \n",
      "...            ...  ...  \n",
      "41183       4963.6  yes  \n",
      "41184       4963.6   no  \n",
      "41185       4963.6   no  \n",
      "41186       4963.6  yes  \n",
      "41187       4963.6   no  \n",
      "\n",
      "[41188 rows x 21 columns]\n",
      "Index(['age', 'job', 'marital', 'education', 'default', 'housing', 'loan',\n",
      "       'contact', 'month', 'day_of_week', 'duration', 'campaign', 'pdays',\n",
      "       'previous', 'poutcome', 'emp_var_rate', 'cons_price_idx',\n",
      "       'cons_conf_idx', 'euribor3m', 'nr_employed', 'y'],\n",
      "      dtype='object')\n"
     ]
    }
   ],
   "source": [
    "print(dataOr)\n",
    "print(dataOr.columns)"
   ]
  },
  {
   "cell_type": "code",
   "execution_count": 49,
   "metadata": {},
   "outputs": [],
   "source": [
    "#eliminar columnas\n",
    "data.drop(['job','marital','education','default','housing','loan','contact','month','day_of_week','poutcome','y'], axis='columns', inplace=True)"
   ]
  },
  {
   "cell_type": "code",
   "execution_count": 50,
   "metadata": {},
   "outputs": [
    {
     "data": {
      "text/html": [
       "<div>\n",
       "<style scoped>\n",
       "    .dataframe tbody tr th:only-of-type {\n",
       "        vertical-align: middle;\n",
       "    }\n",
       "\n",
       "    .dataframe tbody tr th {\n",
       "        vertical-align: top;\n",
       "    }\n",
       "\n",
       "    .dataframe thead th {\n",
       "        text-align: right;\n",
       "    }\n",
       "</style>\n",
       "<table border=\"1\" class=\"dataframe\">\n",
       "  <thead>\n",
       "    <tr style=\"text-align: right;\">\n",
       "      <th></th>\n",
       "      <th>age</th>\n",
       "      <th>duration</th>\n",
       "      <th>campaign</th>\n",
       "      <th>pdays</th>\n",
       "      <th>previous</th>\n",
       "      <th>emp_var_rate</th>\n",
       "      <th>cons_price_idx</th>\n",
       "      <th>cons_conf_idx</th>\n",
       "      <th>euribor3m</th>\n",
       "      <th>nr_employed</th>\n",
       "      <th>...</th>\n",
       "      <th>month_nov</th>\n",
       "      <th>month_oct</th>\n",
       "      <th>month_sep</th>\n",
       "      <th>day_of_week_mon</th>\n",
       "      <th>day_of_week_thu</th>\n",
       "      <th>day_of_week_tue</th>\n",
       "      <th>day_of_week_wed</th>\n",
       "      <th>poutcome_nonexistent</th>\n",
       "      <th>poutcome_success</th>\n",
       "      <th>y_yes</th>\n",
       "    </tr>\n",
       "  </thead>\n",
       "  <tbody>\n",
       "    <tr>\n",
       "      <td>0</td>\n",
       "      <td>56</td>\n",
       "      <td>261</td>\n",
       "      <td>1</td>\n",
       "      <td>999</td>\n",
       "      <td>0</td>\n",
       "      <td>1.1</td>\n",
       "      <td>93.994</td>\n",
       "      <td>-36.4</td>\n",
       "      <td>4.857</td>\n",
       "      <td>5191.0</td>\n",
       "      <td>...</td>\n",
       "      <td>0</td>\n",
       "      <td>0</td>\n",
       "      <td>0</td>\n",
       "      <td>1</td>\n",
       "      <td>0</td>\n",
       "      <td>0</td>\n",
       "      <td>0</td>\n",
       "      <td>1</td>\n",
       "      <td>0</td>\n",
       "      <td>0</td>\n",
       "    </tr>\n",
       "    <tr>\n",
       "      <td>1</td>\n",
       "      <td>57</td>\n",
       "      <td>149</td>\n",
       "      <td>1</td>\n",
       "      <td>999</td>\n",
       "      <td>0</td>\n",
       "      <td>1.1</td>\n",
       "      <td>93.994</td>\n",
       "      <td>-36.4</td>\n",
       "      <td>4.857</td>\n",
       "      <td>5191.0</td>\n",
       "      <td>...</td>\n",
       "      <td>0</td>\n",
       "      <td>0</td>\n",
       "      <td>0</td>\n",
       "      <td>1</td>\n",
       "      <td>0</td>\n",
       "      <td>0</td>\n",
       "      <td>0</td>\n",
       "      <td>1</td>\n",
       "      <td>0</td>\n",
       "      <td>0</td>\n",
       "    </tr>\n",
       "    <tr>\n",
       "      <td>2</td>\n",
       "      <td>37</td>\n",
       "      <td>226</td>\n",
       "      <td>1</td>\n",
       "      <td>999</td>\n",
       "      <td>0</td>\n",
       "      <td>1.1</td>\n",
       "      <td>93.994</td>\n",
       "      <td>-36.4</td>\n",
       "      <td>4.857</td>\n",
       "      <td>5191.0</td>\n",
       "      <td>...</td>\n",
       "      <td>0</td>\n",
       "      <td>0</td>\n",
       "      <td>0</td>\n",
       "      <td>1</td>\n",
       "      <td>0</td>\n",
       "      <td>0</td>\n",
       "      <td>0</td>\n",
       "      <td>1</td>\n",
       "      <td>0</td>\n",
       "      <td>0</td>\n",
       "    </tr>\n",
       "    <tr>\n",
       "      <td>3</td>\n",
       "      <td>40</td>\n",
       "      <td>151</td>\n",
       "      <td>1</td>\n",
       "      <td>999</td>\n",
       "      <td>0</td>\n",
       "      <td>1.1</td>\n",
       "      <td>93.994</td>\n",
       "      <td>-36.4</td>\n",
       "      <td>4.857</td>\n",
       "      <td>5191.0</td>\n",
       "      <td>...</td>\n",
       "      <td>0</td>\n",
       "      <td>0</td>\n",
       "      <td>0</td>\n",
       "      <td>1</td>\n",
       "      <td>0</td>\n",
       "      <td>0</td>\n",
       "      <td>0</td>\n",
       "      <td>1</td>\n",
       "      <td>0</td>\n",
       "      <td>0</td>\n",
       "    </tr>\n",
       "    <tr>\n",
       "      <td>4</td>\n",
       "      <td>56</td>\n",
       "      <td>307</td>\n",
       "      <td>1</td>\n",
       "      <td>999</td>\n",
       "      <td>0</td>\n",
       "      <td>1.1</td>\n",
       "      <td>93.994</td>\n",
       "      <td>-36.4</td>\n",
       "      <td>4.857</td>\n",
       "      <td>5191.0</td>\n",
       "      <td>...</td>\n",
       "      <td>0</td>\n",
       "      <td>0</td>\n",
       "      <td>0</td>\n",
       "      <td>1</td>\n",
       "      <td>0</td>\n",
       "      <td>0</td>\n",
       "      <td>0</td>\n",
       "      <td>1</td>\n",
       "      <td>0</td>\n",
       "      <td>0</td>\n",
       "    </tr>\n",
       "  </tbody>\n",
       "</table>\n",
       "<p>5 rows × 54 columns</p>\n",
       "</div>"
      ],
      "text/plain": [
       "   age  duration  campaign  pdays  previous  emp_var_rate  cons_price_idx  \\\n",
       "0   56       261         1    999         0           1.1          93.994   \n",
       "1   57       149         1    999         0           1.1          93.994   \n",
       "2   37       226         1    999         0           1.1          93.994   \n",
       "3   40       151         1    999         0           1.1          93.994   \n",
       "4   56       307         1    999         0           1.1          93.994   \n",
       "\n",
       "   cons_conf_idx  euribor3m  nr_employed  ...  month_nov  month_oct  \\\n",
       "0          -36.4      4.857       5191.0  ...          0          0   \n",
       "1          -36.4      4.857       5191.0  ...          0          0   \n",
       "2          -36.4      4.857       5191.0  ...          0          0   \n",
       "3          -36.4      4.857       5191.0  ...          0          0   \n",
       "4          -36.4      4.857       5191.0  ...          0          0   \n",
       "\n",
       "   month_sep  day_of_week_mon  day_of_week_thu  day_of_week_tue  \\\n",
       "0          0                1                0                0   \n",
       "1          0                1                0                0   \n",
       "2          0                1                0                0   \n",
       "3          0                1                0                0   \n",
       "4          0                1                0                0   \n",
       "\n",
       "   day_of_week_wed  poutcome_nonexistent  poutcome_success  y_yes  \n",
       "0                0                     1                 0      0  \n",
       "1                0                     1                 0      0  \n",
       "2                0                     1                 0      0  \n",
       "3                0                     1                 0      0  \n",
       "4                0                     1                 0      0  \n",
       "\n",
       "[5 rows x 54 columns]"
      ]
     },
     "execution_count": 50,
     "metadata": {},
     "output_type": "execute_result"
    }
   ],
   "source": [
    "data.head()"
   ]
  },
  {
   "cell_type": "code",
   "execution_count": 51,
   "metadata": {},
   "outputs": [],
   "source": [
    "features = ['age', 'campaign', 'pdays', 'previous', 'emp_var_rate',\n",
    "        'cons_conf_idx', 'euribor3m', 'nr_employed',\n",
    "       'job_blue-collar', 'job_entrepreneur', 'job_housemaid',\n",
    "       'job_management', 'job_retired', 'job_self-employed', 'job_services',\n",
    "       'job_student', 'job_technician', 'job_unemployed', 'job_unknown',\n",
    "       'marital_married', 'marital_single', 'marital_unknown',\n",
    "       'education_basic.6y', 'education_basic.9y', 'education_high.school',\n",
    "       'education_illiterate', 'education_professional.course',\n",
    "       'education_university.degree', 'education_unknown', 'default_unknown',\n",
    "       'default_yes', 'housing_unknown', 'housing_yes', 'loan_unknown',\n",
    "       'loan_yes', 'contact_telephone', 'month_aug', 'month_dec', 'month_jul',\n",
    "       'month_jun', 'month_mar', 'month_may', 'month_nov', 'month_oct',\n",
    "       'month_sep', 'day_of_week_mon', 'day_of_week_thu', 'day_of_week_tue',\n",
    "       'day_of_week_wed', 'poutcome_nonexistent', 'poutcome_success']\n",
    "x = data.loc[:,features].values\n",
    "y = data.loc[:,['y_yes']].values #target var"
   ]
  },
  {
   "cell_type": "code",
   "execution_count": 52,
   "metadata": {},
   "outputs": [],
   "source": [
    "#Estandarizar datos\n",
    "from sklearn.preprocessing import StandardScaler\n",
    "X = StandardScaler().fit_transform(x) "
   ]
  },
  {
   "cell_type": "code",
   "execution_count": 53,
   "metadata": {},
   "outputs": [
    {
     "data": {
      "text/html": [
       "<div>\n",
       "<style scoped>\n",
       "    .dataframe tbody tr th:only-of-type {\n",
       "        vertical-align: middle;\n",
       "    }\n",
       "\n",
       "    .dataframe tbody tr th {\n",
       "        vertical-align: top;\n",
       "    }\n",
       "\n",
       "    .dataframe thead th {\n",
       "        text-align: right;\n",
       "    }\n",
       "</style>\n",
       "<table border=\"1\" class=\"dataframe\">\n",
       "  <thead>\n",
       "    <tr style=\"text-align: right;\">\n",
       "      <th></th>\n",
       "      <th>age</th>\n",
       "      <th>campaign</th>\n",
       "      <th>pdays</th>\n",
       "      <th>previous</th>\n",
       "      <th>emp_var_rate</th>\n",
       "      <th>cons_conf_idx</th>\n",
       "      <th>euribor3m</th>\n",
       "      <th>nr_employed</th>\n",
       "      <th>job_blue-collar</th>\n",
       "      <th>job_entrepreneur</th>\n",
       "      <th>...</th>\n",
       "      <th>month_may</th>\n",
       "      <th>month_nov</th>\n",
       "      <th>month_oct</th>\n",
       "      <th>month_sep</th>\n",
       "      <th>day_of_week_mon</th>\n",
       "      <th>day_of_week_thu</th>\n",
       "      <th>day_of_week_tue</th>\n",
       "      <th>day_of_week_wed</th>\n",
       "      <th>poutcome_nonexistent</th>\n",
       "      <th>poutcome_success</th>\n",
       "    </tr>\n",
       "  </thead>\n",
       "  <tbody>\n",
       "    <tr>\n",
       "      <td>0</td>\n",
       "      <td>1.533034</td>\n",
       "      <td>-0.565922</td>\n",
       "      <td>0.195414</td>\n",
       "      <td>-0.349494</td>\n",
       "      <td>0.648092</td>\n",
       "      <td>0.886447</td>\n",
       "      <td>0.71246</td>\n",
       "      <td>0.33168</td>\n",
       "      <td>-0.538317</td>\n",
       "      <td>-0.19143</td>\n",
       "      <td>...</td>\n",
       "      <td>1.411155</td>\n",
       "      <td>-0.332532</td>\n",
       "      <td>-0.133197</td>\n",
       "      <td>-0.118462</td>\n",
       "      <td>1.959</td>\n",
       "      <td>-0.514581</td>\n",
       "      <td>-0.494394</td>\n",
       "      <td>-0.496067</td>\n",
       "      <td>0.397706</td>\n",
       "      <td>-0.1857</td>\n",
       "    </tr>\n",
       "    <tr>\n",
       "      <td>1</td>\n",
       "      <td>1.628993</td>\n",
       "      <td>-0.565922</td>\n",
       "      <td>0.195414</td>\n",
       "      <td>-0.349494</td>\n",
       "      <td>0.648092</td>\n",
       "      <td>0.886447</td>\n",
       "      <td>0.71246</td>\n",
       "      <td>0.33168</td>\n",
       "      <td>-0.538317</td>\n",
       "      <td>-0.19143</td>\n",
       "      <td>...</td>\n",
       "      <td>1.411155</td>\n",
       "      <td>-0.332532</td>\n",
       "      <td>-0.133197</td>\n",
       "      <td>-0.118462</td>\n",
       "      <td>1.959</td>\n",
       "      <td>-0.514581</td>\n",
       "      <td>-0.494394</td>\n",
       "      <td>-0.496067</td>\n",
       "      <td>0.397706</td>\n",
       "      <td>-0.1857</td>\n",
       "    </tr>\n",
       "    <tr>\n",
       "      <td>2</td>\n",
       "      <td>-0.290186</td>\n",
       "      <td>-0.565922</td>\n",
       "      <td>0.195414</td>\n",
       "      <td>-0.349494</td>\n",
       "      <td>0.648092</td>\n",
       "      <td>0.886447</td>\n",
       "      <td>0.71246</td>\n",
       "      <td>0.33168</td>\n",
       "      <td>-0.538317</td>\n",
       "      <td>-0.19143</td>\n",
       "      <td>...</td>\n",
       "      <td>1.411155</td>\n",
       "      <td>-0.332532</td>\n",
       "      <td>-0.133197</td>\n",
       "      <td>-0.118462</td>\n",
       "      <td>1.959</td>\n",
       "      <td>-0.514581</td>\n",
       "      <td>-0.494394</td>\n",
       "      <td>-0.496067</td>\n",
       "      <td>0.397706</td>\n",
       "      <td>-0.1857</td>\n",
       "    </tr>\n",
       "    <tr>\n",
       "      <td>3</td>\n",
       "      <td>-0.002309</td>\n",
       "      <td>-0.565922</td>\n",
       "      <td>0.195414</td>\n",
       "      <td>-0.349494</td>\n",
       "      <td>0.648092</td>\n",
       "      <td>0.886447</td>\n",
       "      <td>0.71246</td>\n",
       "      <td>0.33168</td>\n",
       "      <td>-0.538317</td>\n",
       "      <td>-0.19143</td>\n",
       "      <td>...</td>\n",
       "      <td>1.411155</td>\n",
       "      <td>-0.332532</td>\n",
       "      <td>-0.133197</td>\n",
       "      <td>-0.118462</td>\n",
       "      <td>1.959</td>\n",
       "      <td>-0.514581</td>\n",
       "      <td>-0.494394</td>\n",
       "      <td>-0.496067</td>\n",
       "      <td>0.397706</td>\n",
       "      <td>-0.1857</td>\n",
       "    </tr>\n",
       "    <tr>\n",
       "      <td>4</td>\n",
       "      <td>1.533034</td>\n",
       "      <td>-0.565922</td>\n",
       "      <td>0.195414</td>\n",
       "      <td>-0.349494</td>\n",
       "      <td>0.648092</td>\n",
       "      <td>0.886447</td>\n",
       "      <td>0.71246</td>\n",
       "      <td>0.33168</td>\n",
       "      <td>-0.538317</td>\n",
       "      <td>-0.19143</td>\n",
       "      <td>...</td>\n",
       "      <td>1.411155</td>\n",
       "      <td>-0.332532</td>\n",
       "      <td>-0.133197</td>\n",
       "      <td>-0.118462</td>\n",
       "      <td>1.959</td>\n",
       "      <td>-0.514581</td>\n",
       "      <td>-0.494394</td>\n",
       "      <td>-0.496067</td>\n",
       "      <td>0.397706</td>\n",
       "      <td>-0.1857</td>\n",
       "    </tr>\n",
       "  </tbody>\n",
       "</table>\n",
       "<p>5 rows × 51 columns</p>\n",
       "</div>"
      ],
      "text/plain": [
       "        age  campaign     pdays  previous  emp_var_rate  cons_conf_idx  \\\n",
       "0  1.533034 -0.565922  0.195414 -0.349494      0.648092       0.886447   \n",
       "1  1.628993 -0.565922  0.195414 -0.349494      0.648092       0.886447   \n",
       "2 -0.290186 -0.565922  0.195414 -0.349494      0.648092       0.886447   \n",
       "3 -0.002309 -0.565922  0.195414 -0.349494      0.648092       0.886447   \n",
       "4  1.533034 -0.565922  0.195414 -0.349494      0.648092       0.886447   \n",
       "\n",
       "   euribor3m  nr_employed  job_blue-collar  job_entrepreneur  ...  month_may  \\\n",
       "0    0.71246      0.33168        -0.538317          -0.19143  ...   1.411155   \n",
       "1    0.71246      0.33168        -0.538317          -0.19143  ...   1.411155   \n",
       "2    0.71246      0.33168        -0.538317          -0.19143  ...   1.411155   \n",
       "3    0.71246      0.33168        -0.538317          -0.19143  ...   1.411155   \n",
       "4    0.71246      0.33168        -0.538317          -0.19143  ...   1.411155   \n",
       "\n",
       "   month_nov  month_oct  month_sep  day_of_week_mon  day_of_week_thu  \\\n",
       "0  -0.332532  -0.133197  -0.118462            1.959        -0.514581   \n",
       "1  -0.332532  -0.133197  -0.118462            1.959        -0.514581   \n",
       "2  -0.332532  -0.133197  -0.118462            1.959        -0.514581   \n",
       "3  -0.332532  -0.133197  -0.118462            1.959        -0.514581   \n",
       "4  -0.332532  -0.133197  -0.118462            1.959        -0.514581   \n",
       "\n",
       "   day_of_week_tue  day_of_week_wed  poutcome_nonexistent  poutcome_success  \n",
       "0        -0.494394        -0.496067              0.397706           -0.1857  \n",
       "1        -0.494394        -0.496067              0.397706           -0.1857  \n",
       "2        -0.494394        -0.496067              0.397706           -0.1857  \n",
       "3        -0.494394        -0.496067              0.397706           -0.1857  \n",
       "4        -0.494394        -0.496067              0.397706           -0.1857  \n",
       "\n",
       "[5 rows x 51 columns]"
      ]
     },
     "execution_count": 53,
     "metadata": {},
     "output_type": "execute_result"
    }
   ],
   "source": [
    "pd.DataFrame(data = X, columns = features).head()"
   ]
  },
  {
   "cell_type": "code",
   "execution_count": 54,
   "metadata": {},
   "outputs": [
    {
     "data": {
      "text/html": [
       "<div>\n",
       "<style scoped>\n",
       "    .dataframe tbody tr th:only-of-type {\n",
       "        vertical-align: middle;\n",
       "    }\n",
       "\n",
       "    .dataframe tbody tr th {\n",
       "        vertical-align: top;\n",
       "    }\n",
       "\n",
       "    .dataframe thead th {\n",
       "        text-align: right;\n",
       "    }\n",
       "</style>\n",
       "<table border=\"1\" class=\"dataframe\">\n",
       "  <thead>\n",
       "    <tr style=\"text-align: right;\">\n",
       "      <th></th>\n",
       "      <th>PC1</th>\n",
       "      <th>PC2</th>\n",
       "      <th>PC3</th>\n",
       "      <th>PC4</th>\n",
       "      <th>PC5</th>\n",
       "      <th>PC6</th>\n",
       "      <th>PC7</th>\n",
       "      <th>PC8</th>\n",
       "      <th>PC9</th>\n",
       "      <th>PC10</th>\n",
       "      <th>PC11</th>\n",
       "      <th>PC12</th>\n",
       "      <th>PC13</th>\n",
       "      <th>PC14</th>\n",
       "      <th>PC15</th>\n",
       "      <th>PC16</th>\n",
       "      <th>PC17</th>\n",
       "      <th>PC18</th>\n",
       "      <th>PC19</th>\n",
       "      <th>PC20</th>\n",
       "    </tr>\n",
       "  </thead>\n",
       "  <tbody>\n",
       "    <tr>\n",
       "      <td>0</td>\n",
       "      <td>-39.900938</td>\n",
       "      <td>-17.768965</td>\n",
       "      <td>16.307537</td>\n",
       "      <td>2.983188</td>\n",
       "      <td>-1.629326</td>\n",
       "      <td>0.920589</td>\n",
       "      <td>-0.246118</td>\n",
       "      <td>-0.309408</td>\n",
       "      <td>-0.432924</td>\n",
       "      <td>0.372244</td>\n",
       "      <td>-0.267643</td>\n",
       "      <td>-0.045665</td>\n",
       "      <td>0.623493</td>\n",
       "      <td>-0.187433</td>\n",
       "      <td>0.125232</td>\n",
       "      <td>0.285309</td>\n",
       "      <td>-0.488988</td>\n",
       "      <td>-0.479217</td>\n",
       "      <td>-0.015739</td>\n",
       "      <td>-0.118605</td>\n",
       "    </tr>\n",
       "    <tr>\n",
       "      <td>1</td>\n",
       "      <td>-39.899276</td>\n",
       "      <td>-17.769317</td>\n",
       "      <td>17.303803</td>\n",
       "      <td>2.905296</td>\n",
       "      <td>-1.632370</td>\n",
       "      <td>1.035139</td>\n",
       "      <td>-0.413561</td>\n",
       "      <td>-0.724136</td>\n",
       "      <td>0.215089</td>\n",
       "      <td>0.749315</td>\n",
       "      <td>-0.671057</td>\n",
       "      <td>-0.415379</td>\n",
       "      <td>0.455954</td>\n",
       "      <td>-0.339511</td>\n",
       "      <td>0.099638</td>\n",
       "      <td>0.319071</td>\n",
       "      <td>-0.674249</td>\n",
       "      <td>0.419043</td>\n",
       "      <td>0.300384</td>\n",
       "      <td>-0.163321</td>\n",
       "    </tr>\n",
       "    <tr>\n",
       "      <td>2</td>\n",
       "      <td>-39.937321</td>\n",
       "      <td>-17.778238</td>\n",
       "      <td>-2.647455</td>\n",
       "      <td>4.296464</td>\n",
       "      <td>-1.560193</td>\n",
       "      <td>0.923594</td>\n",
       "      <td>-0.518473</td>\n",
       "      <td>-0.225222</td>\n",
       "      <td>0.531085</td>\n",
       "      <td>0.075771</td>\n",
       "      <td>-1.251086</td>\n",
       "      <td>-0.428374</td>\n",
       "      <td>0.453382</td>\n",
       "      <td>-0.306770</td>\n",
       "      <td>0.068201</td>\n",
       "      <td>0.269865</td>\n",
       "      <td>-0.427027</td>\n",
       "      <td>-0.305558</td>\n",
       "      <td>-0.061054</td>\n",
       "      <td>-0.219943</td>\n",
       "    </tr>\n",
       "    <tr>\n",
       "      <td>3</td>\n",
       "      <td>-39.931586</td>\n",
       "      <td>-17.777170</td>\n",
       "      <td>0.350805</td>\n",
       "      <td>4.095050</td>\n",
       "      <td>-1.570759</td>\n",
       "      <td>0.949913</td>\n",
       "      <td>-0.554626</td>\n",
       "      <td>-0.075502</td>\n",
       "      <td>-0.423223</td>\n",
       "      <td>0.373716</td>\n",
       "      <td>-0.218711</td>\n",
       "      <td>-0.064990</td>\n",
       "      <td>0.642534</td>\n",
       "      <td>-0.196433</td>\n",
       "      <td>0.103453</td>\n",
       "      <td>0.287298</td>\n",
       "      <td>-0.461024</td>\n",
       "      <td>-0.370863</td>\n",
       "      <td>0.066595</td>\n",
       "      <td>-0.130403</td>\n",
       "    </tr>\n",
       "    <tr>\n",
       "      <td>4</td>\n",
       "      <td>-39.900997</td>\n",
       "      <td>-17.768829</td>\n",
       "      <td>16.299749</td>\n",
       "      <td>2.975454</td>\n",
       "      <td>-1.628747</td>\n",
       "      <td>0.956479</td>\n",
       "      <td>-0.273566</td>\n",
       "      <td>-0.629763</td>\n",
       "      <td>0.207465</td>\n",
       "      <td>0.774551</td>\n",
       "      <td>-0.862395</td>\n",
       "      <td>-0.383441</td>\n",
       "      <td>0.443426</td>\n",
       "      <td>-0.297008</td>\n",
       "      <td>0.135691</td>\n",
       "      <td>0.261869</td>\n",
       "      <td>-0.600768</td>\n",
       "      <td>-0.425443</td>\n",
       "      <td>-0.020672</td>\n",
       "      <td>0.861454</td>\n",
       "    </tr>\n",
       "  </tbody>\n",
       "</table>\n",
       "</div>"
      ],
      "text/plain": [
       "         PC1        PC2        PC3       PC4       PC5       PC6       PC7  \\\n",
       "0 -39.900938 -17.768965  16.307537  2.983188 -1.629326  0.920589 -0.246118   \n",
       "1 -39.899276 -17.769317  17.303803  2.905296 -1.632370  1.035139 -0.413561   \n",
       "2 -39.937321 -17.778238  -2.647455  4.296464 -1.560193  0.923594 -0.518473   \n",
       "3 -39.931586 -17.777170   0.350805  4.095050 -1.570759  0.949913 -0.554626   \n",
       "4 -39.900997 -17.768829  16.299749  2.975454 -1.628747  0.956479 -0.273566   \n",
       "\n",
       "        PC8       PC9      PC10      PC11      PC12      PC13      PC14  \\\n",
       "0 -0.309408 -0.432924  0.372244 -0.267643 -0.045665  0.623493 -0.187433   \n",
       "1 -0.724136  0.215089  0.749315 -0.671057 -0.415379  0.455954 -0.339511   \n",
       "2 -0.225222  0.531085  0.075771 -1.251086 -0.428374  0.453382 -0.306770   \n",
       "3 -0.075502 -0.423223  0.373716 -0.218711 -0.064990  0.642534 -0.196433   \n",
       "4 -0.629763  0.207465  0.774551 -0.862395 -0.383441  0.443426 -0.297008   \n",
       "\n",
       "       PC15      PC16      PC17      PC18      PC19      PC20  \n",
       "0  0.125232  0.285309 -0.488988 -0.479217 -0.015739 -0.118605  \n",
       "1  0.099638  0.319071 -0.674249  0.419043  0.300384 -0.163321  \n",
       "2  0.068201  0.269865 -0.427027 -0.305558 -0.061054 -0.219943  \n",
       "3  0.103453  0.287298 -0.461024 -0.370863  0.066595 -0.130403  \n",
       "4  0.135691  0.261869 -0.600768 -0.425443 -0.020672  0.861454  "
      ]
     },
     "execution_count": 54,
     "metadata": {},
     "output_type": "execute_result"
    }
   ],
   "source": [
    "# PCA\n",
    "from sklearn.decomposition import PCA\n",
    "pca = PCA(n_components=20)\n",
    "principalComponents = pca.fit_transform (x)\n",
    "principalDf = pd.DataFrame(data = principalComponents, columns=['PC1','PC2','PC3','PC4','PC5','PC6','PC7','PC8','PC9','PC10','PC11','PC12','PC13','PC14','PC15','PC16','PC17','PC18','PC19','PC20']) #PC = Principal component \n",
    "principalDf.head()"
   ]
  },
  {
   "cell_type": "code",
   "execution_count": 55,
   "metadata": {},
   "outputs": [
    {
     "data": {
      "text/html": [
       "<div>\n",
       "<style scoped>\n",
       "    .dataframe tbody tr th:only-of-type {\n",
       "        vertical-align: middle;\n",
       "    }\n",
       "\n",
       "    .dataframe tbody tr th {\n",
       "        vertical-align: top;\n",
       "    }\n",
       "\n",
       "    .dataframe thead th {\n",
       "        text-align: right;\n",
       "    }\n",
       "</style>\n",
       "<table border=\"1\" class=\"dataframe\">\n",
       "  <thead>\n",
       "    <tr style=\"text-align: right;\">\n",
       "      <th></th>\n",
       "      <th>PC1</th>\n",
       "      <th>PC2</th>\n",
       "      <th>PC3</th>\n",
       "      <th>PC4</th>\n",
       "      <th>PC5</th>\n",
       "      <th>PC6</th>\n",
       "      <th>PC7</th>\n",
       "      <th>PC8</th>\n",
       "      <th>PC9</th>\n",
       "      <th>PC10</th>\n",
       "      <th>...</th>\n",
       "      <th>PC12</th>\n",
       "      <th>PC13</th>\n",
       "      <th>PC14</th>\n",
       "      <th>PC15</th>\n",
       "      <th>PC16</th>\n",
       "      <th>PC17</th>\n",
       "      <th>PC18</th>\n",
       "      <th>PC19</th>\n",
       "      <th>PC20</th>\n",
       "      <th>y_yes</th>\n",
       "    </tr>\n",
       "  </thead>\n",
       "  <tbody>\n",
       "    <tr>\n",
       "      <td>0</td>\n",
       "      <td>-39.900938</td>\n",
       "      <td>-17.768965</td>\n",
       "      <td>16.307537</td>\n",
       "      <td>2.983188</td>\n",
       "      <td>-1.629326</td>\n",
       "      <td>0.920589</td>\n",
       "      <td>-0.246118</td>\n",
       "      <td>-0.309408</td>\n",
       "      <td>-0.432924</td>\n",
       "      <td>0.372244</td>\n",
       "      <td>...</td>\n",
       "      <td>-0.045665</td>\n",
       "      <td>0.623493</td>\n",
       "      <td>-0.187433</td>\n",
       "      <td>0.125232</td>\n",
       "      <td>0.285309</td>\n",
       "      <td>-0.488988</td>\n",
       "      <td>-0.479217</td>\n",
       "      <td>-0.015739</td>\n",
       "      <td>-0.118605</td>\n",
       "      <td>0</td>\n",
       "    </tr>\n",
       "    <tr>\n",
       "      <td>1</td>\n",
       "      <td>-39.899276</td>\n",
       "      <td>-17.769317</td>\n",
       "      <td>17.303803</td>\n",
       "      <td>2.905296</td>\n",
       "      <td>-1.632370</td>\n",
       "      <td>1.035139</td>\n",
       "      <td>-0.413561</td>\n",
       "      <td>-0.724136</td>\n",
       "      <td>0.215089</td>\n",
       "      <td>0.749315</td>\n",
       "      <td>...</td>\n",
       "      <td>-0.415379</td>\n",
       "      <td>0.455954</td>\n",
       "      <td>-0.339511</td>\n",
       "      <td>0.099638</td>\n",
       "      <td>0.319071</td>\n",
       "      <td>-0.674249</td>\n",
       "      <td>0.419043</td>\n",
       "      <td>0.300384</td>\n",
       "      <td>-0.163321</td>\n",
       "      <td>0</td>\n",
       "    </tr>\n",
       "    <tr>\n",
       "      <td>2</td>\n",
       "      <td>-39.937321</td>\n",
       "      <td>-17.778238</td>\n",
       "      <td>-2.647455</td>\n",
       "      <td>4.296464</td>\n",
       "      <td>-1.560193</td>\n",
       "      <td>0.923594</td>\n",
       "      <td>-0.518473</td>\n",
       "      <td>-0.225222</td>\n",
       "      <td>0.531085</td>\n",
       "      <td>0.075771</td>\n",
       "      <td>...</td>\n",
       "      <td>-0.428374</td>\n",
       "      <td>0.453382</td>\n",
       "      <td>-0.306770</td>\n",
       "      <td>0.068201</td>\n",
       "      <td>0.269865</td>\n",
       "      <td>-0.427027</td>\n",
       "      <td>-0.305558</td>\n",
       "      <td>-0.061054</td>\n",
       "      <td>-0.219943</td>\n",
       "      <td>0</td>\n",
       "    </tr>\n",
       "    <tr>\n",
       "      <td>3</td>\n",
       "      <td>-39.931586</td>\n",
       "      <td>-17.777170</td>\n",
       "      <td>0.350805</td>\n",
       "      <td>4.095050</td>\n",
       "      <td>-1.570759</td>\n",
       "      <td>0.949913</td>\n",
       "      <td>-0.554626</td>\n",
       "      <td>-0.075502</td>\n",
       "      <td>-0.423223</td>\n",
       "      <td>0.373716</td>\n",
       "      <td>...</td>\n",
       "      <td>-0.064990</td>\n",
       "      <td>0.642534</td>\n",
       "      <td>-0.196433</td>\n",
       "      <td>0.103453</td>\n",
       "      <td>0.287298</td>\n",
       "      <td>-0.461024</td>\n",
       "      <td>-0.370863</td>\n",
       "      <td>0.066595</td>\n",
       "      <td>-0.130403</td>\n",
       "      <td>0</td>\n",
       "    </tr>\n",
       "    <tr>\n",
       "      <td>4</td>\n",
       "      <td>-39.900997</td>\n",
       "      <td>-17.768829</td>\n",
       "      <td>16.299749</td>\n",
       "      <td>2.975454</td>\n",
       "      <td>-1.628747</td>\n",
       "      <td>0.956479</td>\n",
       "      <td>-0.273566</td>\n",
       "      <td>-0.629763</td>\n",
       "      <td>0.207465</td>\n",
       "      <td>0.774551</td>\n",
       "      <td>...</td>\n",
       "      <td>-0.383441</td>\n",
       "      <td>0.443426</td>\n",
       "      <td>-0.297008</td>\n",
       "      <td>0.135691</td>\n",
       "      <td>0.261869</td>\n",
       "      <td>-0.600768</td>\n",
       "      <td>-0.425443</td>\n",
       "      <td>-0.020672</td>\n",
       "      <td>0.861454</td>\n",
       "      <td>0</td>\n",
       "    </tr>\n",
       "  </tbody>\n",
       "</table>\n",
       "<p>5 rows × 21 columns</p>\n",
       "</div>"
      ],
      "text/plain": [
       "         PC1        PC2        PC3       PC4       PC5       PC6       PC7  \\\n",
       "0 -39.900938 -17.768965  16.307537  2.983188 -1.629326  0.920589 -0.246118   \n",
       "1 -39.899276 -17.769317  17.303803  2.905296 -1.632370  1.035139 -0.413561   \n",
       "2 -39.937321 -17.778238  -2.647455  4.296464 -1.560193  0.923594 -0.518473   \n",
       "3 -39.931586 -17.777170   0.350805  4.095050 -1.570759  0.949913 -0.554626   \n",
       "4 -39.900997 -17.768829  16.299749  2.975454 -1.628747  0.956479 -0.273566   \n",
       "\n",
       "        PC8       PC9      PC10  ...      PC12      PC13      PC14      PC15  \\\n",
       "0 -0.309408 -0.432924  0.372244  ... -0.045665  0.623493 -0.187433  0.125232   \n",
       "1 -0.724136  0.215089  0.749315  ... -0.415379  0.455954 -0.339511  0.099638   \n",
       "2 -0.225222  0.531085  0.075771  ... -0.428374  0.453382 -0.306770  0.068201   \n",
       "3 -0.075502 -0.423223  0.373716  ... -0.064990  0.642534 -0.196433  0.103453   \n",
       "4 -0.629763  0.207465  0.774551  ... -0.383441  0.443426 -0.297008  0.135691   \n",
       "\n",
       "       PC16      PC17      PC18      PC19      PC20  y_yes  \n",
       "0  0.285309 -0.488988 -0.479217 -0.015739 -0.118605      0  \n",
       "1  0.319071 -0.674249  0.419043  0.300384 -0.163321      0  \n",
       "2  0.269865 -0.427027 -0.305558 -0.061054 -0.219943      0  \n",
       "3  0.287298 -0.461024 -0.370863  0.066595 -0.130403      0  \n",
       "4  0.261869 -0.600768 -0.425443 -0.020672  0.861454      0  \n",
       "\n",
       "[5 rows x 21 columns]"
      ]
     },
     "execution_count": 55,
     "metadata": {},
     "output_type": "execute_result"
    }
   ],
   "source": [
    "finalDf = pd.concat([principalDf,data[['y_yes']]], axis = 1)\n",
    "finalDf.head()"
   ]
  },
  {
   "cell_type": "markdown",
   "metadata": {},
   "source": [
    "# gráfica\n",
    "fig = plt.figure(figsize=(10,5))\n",
    "ax = fig.add_subplot(1,1,1)\n",
    "ax.set_xlabel('Principal Component 1', fontsize = 15)\n",
    "ax.set_ylabel('Principal Component 2', fontsize = 15)\n",
    "ax.set_title('2 Component PCA', fontsize = 20)\n",
    "\n",
    "targets = [1,0]\n",
    "\n",
    "colors = ['r','g']\n",
    "\n",
    "for target, color in zip(targets,colors):\n",
    "    indicesToKeep = finalDf['y_yes'] == target\n",
    "    ax.scatter(finalDf.loc[indicesToKeep, 'PC1']\n",
    "               , finalDf.loc[indicesToKeep, 'PC2']\n",
    "               , c = color\n",
    "               , s = 50)\n",
    "ax.legend(targets)\n",
    "plt.show()"
   ]
  },
  {
   "cell_type": "code",
   "execution_count": 56,
   "metadata": {},
   "outputs": [
    {
     "data": {
      "text/plain": [
       "array([8.87408575e-01, 1.09076205e-01, 2.70382587e-03, 5.09691612e-04,\n",
       "       1.86239005e-04, 1.64243648e-05, 9.71508658e-06, 7.55312100e-06,\n",
       "       6.54988461e-06, 6.20246259e-06, 5.95915443e-06, 5.29194322e-06,\n",
       "       5.14246013e-06, 5.07757696e-06, 4.87789970e-06, 4.77069222e-06,\n",
       "       4.51871222e-06, 3.67322391e-06, 3.22766397e-06, 3.17425420e-06])"
      ]
     },
     "execution_count": 56,
     "metadata": {},
     "output_type": "execute_result"
    }
   ],
   "source": [
    "pca.explained_variance_ratio_"
   ]
  },
  {
   "cell_type": "code",
   "execution_count": 57,
   "metadata": {},
   "outputs": [],
   "source": [
    "size= 0.30\n",
    "seed= 3000"
   ]
  },
  {
   "cell_type": "code",
   "execution_count": 58,
   "metadata": {},
   "outputs": [],
   "source": [
    "x_train, x_test = train_test_split(finalDf, test_size=size, random_state=seed, shuffle=True )"
   ]
  },
  {
   "cell_type": "code",
   "execution_count": 59,
   "metadata": {},
   "outputs": [
    {
     "name": "stdout",
     "output_type": "stream",
     "text": [
      "             PC1         PC2        PC3       PC4       PC5       PC6  \\\n",
      "12841 -45.970555  -54.305198   2.868804 -2.823792 -1.978803  0.361354   \n",
      "11257 -45.986157  -54.320032  -6.010195 -1.299155 -1.922313  0.437513   \n",
      "28627 -24.975202   73.094471  10.564967 -6.592546  0.597981 -0.476877   \n",
      "23108 -45.975999  -54.379088  -6.608007  4.466287 -1.777685 -0.585832   \n",
      "40833  -2.965473  206.599618  -7.734807  5.890667  2.800679  2.565694   \n",
      "\n",
      "            PC7       PC8       PC9      PC10  ...      PC12      PC13  \\\n",
      "12841  0.907841 -0.831315  0.714721 -0.100150  ... -0.290128 -0.150843   \n",
      "11257 -0.586929  0.167271 -0.420451  0.406200  ...  0.247162 -0.341741   \n",
      "28627 -0.091242  0.408474  0.138136 -0.261966  ...  0.282554 -0.486144   \n",
      "23108  0.115676  0.946607 -0.589589  0.549159  ... -0.262096 -0.164001   \n",
      "40833  1.843164  1.055410  0.146994 -0.477963  ... -0.596180  0.795520   \n",
      "\n",
      "           PC14      PC15      PC16      PC17      PC18      PC19      PC20  \\\n",
      "12841  0.189412 -0.808655 -0.231521  0.306495 -0.244744  0.079415 -0.157636   \n",
      "11257 -0.827982  0.135168  0.128225  0.865969 -0.221588 -0.384919 -0.038541   \n",
      "28627 -0.741183  0.015545 -0.286257  0.113260 -0.090991 -0.151653 -0.181457   \n",
      "23108  0.416171 -0.784815 -0.080447 -0.229786  0.155322 -0.564740 -0.070463   \n",
      "40833 -0.494908 -0.028471 -0.348051 -0.089187  0.104700 -0.192514 -0.217477   \n",
      "\n",
      "       y_yes  \n",
      "12841      0  \n",
      "11257      0  \n",
      "28627      1  \n",
      "23108      0  \n",
      "40833      0  \n",
      "\n",
      "[5 rows x 21 columns]\n",
      "             PC1        PC2        PC3       PC4       PC5       PC6  \\\n",
      "23468 -45.966950 -54.413580   1.379816  3.701321  5.186253 -0.671011   \n",
      "2049  -39.933407 -17.777004  -0.663295  4.160606 -1.564699  0.919764   \n",
      "15200 -46.004692 -54.324031 -14.076542 -1.730627  0.078362  0.059762   \n",
      "34474 -24.985960  73.100443   1.625133 -5.041326 -1.345707 -0.429587   \n",
      "6270  -39.940012 -17.817197  -0.630065  3.953501  5.418026  0.963326   \n",
      "\n",
      "            PC7       PC8       PC9      PC10  ...      PC12      PC13  \\\n",
      "23468  0.022404  0.729214  0.570594 -0.244443  ...  1.054161  0.222823   \n",
      "2049   0.000129 -0.797072  0.019533  0.636247  ... -0.293772  0.539463   \n",
      "15200  0.709207 -0.248718  1.067828 -0.198280  ... -0.210282 -0.630769   \n",
      "34474 -0.021056 -0.600460  0.749073 -0.009017  ...  0.013830 -0.946573   \n",
      "6270  -1.190936 -0.189571  0.039884 -0.902072  ... -0.084634 -0.071387   \n",
      "\n",
      "           PC14      PC15      PC16      PC17      PC18      PC19      PC20  \\\n",
      "23468  0.746763  0.726992 -0.355378  0.020483  0.116073 -0.402446 -0.148060   \n",
      "2049  -0.266539  0.122967  0.303578 -0.493986 -0.402399 -0.039639 -0.146117   \n",
      "15200 -0.690661 -0.034040  0.048765 -0.260912  0.609889  0.547210 -0.242332   \n",
      "34474 -0.159862  0.176886  1.028493 -0.330827 -0.026169 -0.190645  0.828620   \n",
      "6270   0.370646 -0.843300  0.068432 -0.008961  0.204424  0.148880 -0.214150   \n",
      "\n",
      "       y_yes  \n",
      "23468      0  \n",
      "2049       0  \n",
      "15200      0  \n",
      "34474      1  \n",
      "6270       0  \n",
      "\n",
      "[5 rows x 21 columns]\n",
      "28831\n",
      "12357\n"
     ]
    }
   ],
   "source": [
    "print(x_train.head())\n",
    "print(x_test.head())\n",
    "\n",
    "print(len(x_train.index))\n",
    "print(len(x_test.index))"
   ]
  },
  {
   "cell_type": "code",
   "execution_count": 60,
   "metadata": {},
   "outputs": [],
   "source": [
    "y_train, y_test = train_test_split(y, test_size=size, random_state=seed, shuffle=True )"
   ]
  },
  {
   "cell_type": "code",
   "execution_count": 61,
   "metadata": {},
   "outputs": [
    {
     "data": {
      "text/plain": [
       "array([[0],\n",
       "       [0],\n",
       "       [0],\n",
       "       ...,\n",
       "       [0],\n",
       "       [1],\n",
       "       [0]], dtype=uint8)"
      ]
     },
     "execution_count": 61,
     "metadata": {},
     "output_type": "execute_result"
    }
   ],
   "source": [
    "y"
   ]
  },
  {
   "cell_type": "code",
   "execution_count": 62,
   "metadata": {},
   "outputs": [],
   "source": [
    "modelSVC = SVC(C=10.0, cache_size=100, class_weight=None, coef0=0.0,\n",
    "    decision_function_shape='ovr', degree=3, gamma='auto_deprecated',\n",
    "    kernel='rbf', max_iter=-1, probability=False, random_state=seed,\n",
    "    shrinking=True, tol=0.10, verbose=False)\n",
    "modelRF = RandomForestClassifier(n_jobs=1, \n",
    "                              random_state=seed,\n",
    "                              verbose=False,\n",
    "                              bootstrap=True, \n",
    "                              class_weight=None, \n",
    "                              criterion='gini',\n",
    "                              max_depth=None, \n",
    "                              max_features='auto', \n",
    "                              max_leaf_nodes=None, \n",
    "                              min_impurity_decrease=0.0, min_impurity_split=None,\n",
    "                              min_samples_leaf=1, min_samples_split=2,\n",
    "                              min_weight_fraction_leaf=0.0, n_estimators=1000,\n",
    "                              oob_score=False,\n",
    "                              warm_start=False)\n",
    "modelGBC = GradientBoostingClassifier(criterion='friedman_mse', init=None,\n",
    "                           learning_rate=0.10, loss='deviance', max_depth=10,\n",
    "                           max_features=None, max_leaf_nodes=None,\n",
    "                           min_impurity_decrease=0.0, min_impurity_split=None,\n",
    "                           min_samples_leaf=1, min_samples_split=2,\n",
    "                           min_weight_fraction_leaf=0.0, n_estimators=150,\n",
    "                           n_iter_no_change=None, presort='auto',\n",
    "                           random_state=seed, subsample=1.0, tol=0.0001,\n",
    "                           validation_fraction=0.1, verbose=0,\n",
    "                           warm_start=False)"
   ]
  },
  {
   "cell_type": "code",
   "execution_count": 63,
   "metadata": {},
   "outputs": [
    {
     "name": "stderr",
     "output_type": "stream",
     "text": [
      "C:\\Users\\andg2\\Anaconda3\\lib\\site-packages\\ipykernel_launcher.py:1: DataConversionWarning: A column-vector y was passed when a 1d array was expected. Please change the shape of y to (n_samples,), for example using ravel().\n",
      "  \"\"\"Entry point for launching an IPython kernel.\n"
     ]
    },
    {
     "data": {
      "text/plain": [
       "RandomForestClassifier(bootstrap=True, class_weight=None, criterion='gini',\n",
       "                       max_depth=None, max_features='auto', max_leaf_nodes=None,\n",
       "                       min_impurity_decrease=0.0, min_impurity_split=None,\n",
       "                       min_samples_leaf=1, min_samples_split=2,\n",
       "                       min_weight_fraction_leaf=0.0, n_estimators=1000,\n",
       "                       n_jobs=1, oob_score=False, random_state=3000,\n",
       "                       verbose=False, warm_start=False)"
      ]
     },
     "execution_count": 63,
     "metadata": {},
     "output_type": "execute_result"
    }
   ],
   "source": [
    "modelRF.fit(x_train,y_train)"
   ]
  },
  {
   "cell_type": "code",
   "execution_count": 64,
   "metadata": {},
   "outputs": [
    {
     "name": "stderr",
     "output_type": "stream",
     "text": [
      "C:\\Users\\andg2\\Anaconda3\\lib\\site-packages\\sklearn\\utils\\validation.py:724: DataConversionWarning: A column-vector y was passed when a 1d array was expected. Please change the shape of y to (n_samples, ), for example using ravel().\n",
      "  y = column_or_1d(y, warn=True)\n",
      "C:\\Users\\andg2\\Anaconda3\\lib\\site-packages\\sklearn\\svm\\base.py:193: FutureWarning: The default value of gamma will change from 'auto' to 'scale' in version 0.22 to account better for unscaled features. Set gamma explicitly to 'auto' or 'scale' to avoid this warning.\n",
      "  \"avoid this warning.\", FutureWarning)\n"
     ]
    },
    {
     "data": {
      "text/plain": [
       "SVC(C=10.0, cache_size=100, class_weight=None, coef0=0.0,\n",
       "    decision_function_shape='ovr', degree=3, gamma='auto_deprecated',\n",
       "    kernel='rbf', max_iter=-1, probability=False, random_state=3000,\n",
       "    shrinking=True, tol=0.1, verbose=False)"
      ]
     },
     "execution_count": 64,
     "metadata": {},
     "output_type": "execute_result"
    }
   ],
   "source": [
    "modelSVC.fit(x_train,y_train)"
   ]
  },
  {
   "cell_type": "code",
   "execution_count": 65,
   "metadata": {},
   "outputs": [
    {
     "name": "stderr",
     "output_type": "stream",
     "text": [
      "C:\\Users\\andg2\\Anaconda3\\lib\\site-packages\\sklearn\\ensemble\\gradient_boosting.py:1450: DataConversionWarning: A column-vector y was passed when a 1d array was expected. Please change the shape of y to (n_samples, ), for example using ravel().\n",
      "  y = column_or_1d(y, warn=True)\n"
     ]
    },
    {
     "data": {
      "text/plain": [
       "GradientBoostingClassifier(criterion='friedman_mse', init=None,\n",
       "                           learning_rate=0.1, loss='deviance', max_depth=10,\n",
       "                           max_features=None, max_leaf_nodes=None,\n",
       "                           min_impurity_decrease=0.0, min_impurity_split=None,\n",
       "                           min_samples_leaf=1, min_samples_split=2,\n",
       "                           min_weight_fraction_leaf=0.0, n_estimators=150,\n",
       "                           n_iter_no_change=None, presort='auto',\n",
       "                           random_state=3000, subsample=1.0, tol=0.0001,\n",
       "                           validation_fraction=0.1, verbose=0,\n",
       "                           warm_start=False)"
      ]
     },
     "execution_count": 65,
     "metadata": {},
     "output_type": "execute_result"
    }
   ],
   "source": [
    "modelGBC.fit(x_train,y_train)"
   ]
  },
  {
   "cell_type": "code",
   "execution_count": 66,
   "metadata": {},
   "outputs": [],
   "source": [
    "from sklearn.model_selection import cross_val_score"
   ]
  },
  {
   "cell_type": "code",
   "execution_count": 67,
   "metadata": {},
   "outputs": [
    {
     "name": "stderr",
     "output_type": "stream",
     "text": [
      "C:\\Users\\andg2\\Anaconda3\\lib\\site-packages\\sklearn\\model_selection\\_split.py:1978: FutureWarning: The default value of cv will change from 3 to 5 in version 0.22. Specify it explicitly to silence this warning.\n",
      "  warnings.warn(CV_WARNING, FutureWarning)\n",
      "C:\\Users\\andg2\\Anaconda3\\lib\\site-packages\\sklearn\\model_selection\\_validation.py:516: DataConversionWarning: A column-vector y was passed when a 1d array was expected. Please change the shape of y to (n_samples,), for example using ravel().\n",
      "  estimator.fit(X_train, y_train, **fit_params)\n",
      "C:\\Users\\andg2\\Anaconda3\\lib\\site-packages\\sklearn\\model_selection\\_validation.py:516: DataConversionWarning: A column-vector y was passed when a 1d array was expected. Please change the shape of y to (n_samples,), for example using ravel().\n",
      "  estimator.fit(X_train, y_train, **fit_params)\n",
      "C:\\Users\\andg2\\Anaconda3\\lib\\site-packages\\sklearn\\model_selection\\_validation.py:516: DataConversionWarning: A column-vector y was passed when a 1d array was expected. Please change the shape of y to (n_samples,), for example using ravel().\n",
      "  estimator.fit(X_train, y_train, **fit_params)\n"
     ]
    },
    {
     "name": "stdout",
     "output_type": "stream",
     "text": [
      "[1. 1. 1.]\n"
     ]
    }
   ],
   "source": [
    "print(cross_val_score(modelRF, x_train, y_train)) "
   ]
  },
  {
   "cell_type": "code",
   "execution_count": 68,
   "metadata": {},
   "outputs": [
    {
     "name": "stderr",
     "output_type": "stream",
     "text": [
      "C:\\Users\\andg2\\Anaconda3\\lib\\site-packages\\ipykernel_launcher.py:2: DataConversionWarning: A column-vector y was passed when a 1d array was expected. Please change the shape of y to (n_samples,), for example using ravel().\n",
      "  \n",
      "C:\\Users\\andg2\\Anaconda3\\lib\\site-packages\\sklearn\\model_selection\\_split.py:1978: FutureWarning: The default value of cv will change from 3 to 5 in version 0.22. Specify it explicitly to silence this warning.\n",
      "  warnings.warn(CV_WARNING, FutureWarning)\n",
      "C:\\Users\\andg2\\Anaconda3\\lib\\site-packages\\sklearn\\model_selection\\_validation.py:516: DataConversionWarning: A column-vector y was passed when a 1d array was expected. Please change the shape of y to (n_samples,), for example using ravel().\n",
      "  estimator.fit(X_train, y_train, **fit_params)\n",
      "C:\\Users\\andg2\\Anaconda3\\lib\\site-packages\\sklearn\\model_selection\\_validation.py:516: DataConversionWarning: A column-vector y was passed when a 1d array was expected. Please change the shape of y to (n_samples,), for example using ravel().\n",
      "  estimator.fit(X_train, y_train, **fit_params)\n",
      "C:\\Users\\andg2\\Anaconda3\\lib\\site-packages\\sklearn\\model_selection\\_validation.py:516: DataConversionWarning: A column-vector y was passed when a 1d array was expected. Please change the shape of y to (n_samples,), for example using ravel().\n",
      "  estimator.fit(X_train, y_train, **fit_params)\n"
     ]
    },
    {
     "name": "stdout",
     "output_type": "stream",
     "text": [
      "[1. 1. 1.]\n",
      "1.0\n"
     ]
    }
   ],
   "source": [
    "#Modelos\n",
    "modelRF.fit(x_train,y_train)\n",
    "print(cross_val_score(modelRF, x_train, y_train))\n",
    "print(modelRF.score(x_train,y_train))"
   ]
  },
  {
   "cell_type": "code",
   "execution_count": 69,
   "metadata": {},
   "outputs": [
    {
     "name": "stderr",
     "output_type": "stream",
     "text": [
      "C:\\Users\\andg2\\Anaconda3\\lib\\site-packages\\sklearn\\utils\\validation.py:724: DataConversionWarning: A column-vector y was passed when a 1d array was expected. Please change the shape of y to (n_samples, ), for example using ravel().\n",
      "  y = column_or_1d(y, warn=True)\n",
      "C:\\Users\\andg2\\Anaconda3\\lib\\site-packages\\sklearn\\svm\\base.py:193: FutureWarning: The default value of gamma will change from 'auto' to 'scale' in version 0.22 to account better for unscaled features. Set gamma explicitly to 'auto' or 'scale' to avoid this warning.\n",
      "  \"avoid this warning.\", FutureWarning)\n",
      "C:\\Users\\andg2\\Anaconda3\\lib\\site-packages\\sklearn\\model_selection\\_split.py:1978: FutureWarning: The default value of cv will change from 3 to 5 in version 0.22. Specify it explicitly to silence this warning.\n",
      "  warnings.warn(CV_WARNING, FutureWarning)\n",
      "C:\\Users\\andg2\\Anaconda3\\lib\\site-packages\\sklearn\\utils\\validation.py:724: DataConversionWarning: A column-vector y was passed when a 1d array was expected. Please change the shape of y to (n_samples, ), for example using ravel().\n",
      "  y = column_or_1d(y, warn=True)\n",
      "C:\\Users\\andg2\\Anaconda3\\lib\\site-packages\\sklearn\\svm\\base.py:193: FutureWarning: The default value of gamma will change from 'auto' to 'scale' in version 0.22 to account better for unscaled features. Set gamma explicitly to 'auto' or 'scale' to avoid this warning.\n",
      "  \"avoid this warning.\", FutureWarning)\n",
      "C:\\Users\\andg2\\Anaconda3\\lib\\site-packages\\sklearn\\utils\\validation.py:724: DataConversionWarning: A column-vector y was passed when a 1d array was expected. Please change the shape of y to (n_samples, ), for example using ravel().\n",
      "  y = column_or_1d(y, warn=True)\n",
      "C:\\Users\\andg2\\Anaconda3\\lib\\site-packages\\sklearn\\svm\\base.py:193: FutureWarning: The default value of gamma will change from 'auto' to 'scale' in version 0.22 to account better for unscaled features. Set gamma explicitly to 'auto' or 'scale' to avoid this warning.\n",
      "  \"avoid this warning.\", FutureWarning)\n",
      "C:\\Users\\andg2\\Anaconda3\\lib\\site-packages\\sklearn\\utils\\validation.py:724: DataConversionWarning: A column-vector y was passed when a 1d array was expected. Please change the shape of y to (n_samples, ), for example using ravel().\n",
      "  y = column_or_1d(y, warn=True)\n",
      "C:\\Users\\andg2\\Anaconda3\\lib\\site-packages\\sklearn\\svm\\base.py:193: FutureWarning: The default value of gamma will change from 'auto' to 'scale' in version 0.22 to account better for unscaled features. Set gamma explicitly to 'auto' or 'scale' to avoid this warning.\n",
      "  \"avoid this warning.\", FutureWarning)\n"
     ]
    },
    {
     "name": "stdout",
     "output_type": "stream",
     "text": [
      "[0.98418479 0.98512122 0.98480591]\n",
      "0.9999653151122057\n"
     ]
    }
   ],
   "source": [
    "modelSVC.fit(x_train,y_train)\n",
    "print(cross_val_score(modelSVC, x_train, y_train)) \n",
    "print(modelSVC.score(x_train,y_train))"
   ]
  },
  {
   "cell_type": "code",
   "execution_count": 70,
   "metadata": {},
   "outputs": [
    {
     "name": "stderr",
     "output_type": "stream",
     "text": [
      "C:\\Users\\andg2\\Anaconda3\\lib\\site-packages\\sklearn\\ensemble\\gradient_boosting.py:1450: DataConversionWarning: A column-vector y was passed when a 1d array was expected. Please change the shape of y to (n_samples, ), for example using ravel().\n",
      "  y = column_or_1d(y, warn=True)\n",
      "C:\\Users\\andg2\\Anaconda3\\lib\\site-packages\\sklearn\\model_selection\\_split.py:1978: FutureWarning: The default value of cv will change from 3 to 5 in version 0.22. Specify it explicitly to silence this warning.\n",
      "  warnings.warn(CV_WARNING, FutureWarning)\n",
      "C:\\Users\\andg2\\Anaconda3\\lib\\site-packages\\sklearn\\ensemble\\gradient_boosting.py:1450: DataConversionWarning: A column-vector y was passed when a 1d array was expected. Please change the shape of y to (n_samples, ), for example using ravel().\n",
      "  y = column_or_1d(y, warn=True)\n",
      "C:\\Users\\andg2\\Anaconda3\\lib\\site-packages\\sklearn\\ensemble\\gradient_boosting.py:1450: DataConversionWarning: A column-vector y was passed when a 1d array was expected. Please change the shape of y to (n_samples, ), for example using ravel().\n",
      "  y = column_or_1d(y, warn=True)\n",
      "C:\\Users\\andg2\\Anaconda3\\lib\\site-packages\\sklearn\\ensemble\\gradient_boosting.py:1450: DataConversionWarning: A column-vector y was passed when a 1d array was expected. Please change the shape of y to (n_samples, ), for example using ravel().\n",
      "  y = column_or_1d(y, warn=True)\n"
     ]
    },
    {
     "name": "stdout",
     "output_type": "stream",
     "text": [
      "[1. 1. 1.]\n",
      "1.0\n"
     ]
    }
   ],
   "source": [
    "modelGBC.fit(x_train,y_train)\n",
    "print(cross_val_score(modelGBC, x_train, y_train)) \n",
    "print(modelGBC.score(x_train,y_train))"
   ]
  },
  {
   "cell_type": "code",
   "execution_count": 71,
   "metadata": {},
   "outputs": [
    {
     "name": "stdout",
     "output_type": "stream",
     "text": [
      "[0 0 0 ... 0 0 0]\n"
     ]
    }
   ],
   "source": [
    "predictionsRF = modelRF.predict(x_test)\n",
    "print(predictionsRF)"
   ]
  },
  {
   "cell_type": "code",
   "execution_count": 72,
   "metadata": {},
   "outputs": [
    {
     "name": "stdout",
     "output_type": "stream",
     "text": [
      "[0 0 0 ... 0 0 0]\n"
     ]
    }
   ],
   "source": [
    "predictionsSVC = modelSVC.predict(x_test)\n",
    "print(predictionsSVC)"
   ]
  },
  {
   "cell_type": "code",
   "execution_count": 73,
   "metadata": {},
   "outputs": [
    {
     "name": "stdout",
     "output_type": "stream",
     "text": [
      "[0 0 0 ... 0 0 0]\n"
     ]
    }
   ],
   "source": [
    "predictionsGBC = modelGBC.predict(x_test)\n",
    "print(predictionsGBC)"
   ]
  },
  {
   "cell_type": "code",
   "execution_count": 74,
   "metadata": {},
   "outputs": [
    {
     "data": {
      "image/png": "[encoded data removed]",
      "text/plain": [
       "<Figure size 432x288 with 1 Axes>"
      ]
     },
     "metadata": {
      "needs_background": "light"
     },
     "output_type": "display_data"
    }
   ],
   "source": [
    "plt.hist(predictionsRF)\n",
    "plt.show()"
   ]
  },
  {
   "cell_type": "code",
   "execution_count": 75,
   "metadata": {},
   "outputs": [
    {
     "data": {
      "image/png": "[encoded data removed]",
      "text/plain": [
       "<Figure size 432x288 with 1 Axes>"
      ]
     },
     "metadata": {
      "needs_background": "light"
     },
     "output_type": "display_data"
    }
   ],
   "source": [
    "plt.hist(predictionsSVC)\n",
    "plt.show()"
   ]
  },
  {
   "cell_type": "code",
   "execution_count": 76,
   "metadata": {},
   "outputs": [
    {
     "data": {
      "image/png": "[encoded data removed]",
      "text/plain": [
       "<Figure size 432x288 with 1 Axes>"
      ]
     },
     "metadata": {
      "needs_background": "light"
     },
     "output_type": "display_data"
    }
   ],
   "source": [
    "plt.hist(predictionsGBC)\n",
    "plt.show()"
   ]
  },
  {
   "cell_type": "code",
   "execution_count": 77,
   "metadata": {},
   "outputs": [],
   "source": [
    "from math import sqrt"
   ]
  },
  {
   "cell_type": "code",
   "execution_count": 78,
   "metadata": {},
   "outputs": [
    {
     "name": "stdout",
     "output_type": "stream",
     "text": [
      "Model RF:\n",
      "Accuracy: 1.0\n",
      "Precision: 1.0\n",
      "Correlation Matrix:\n",
      "[[10986     0]\n",
      " [    0  1371]]\n"
     ]
    }
   ],
   "source": [
    "print('Model RF:')\n",
    "accRF = accuracy_score(y_test, predictionsRF)\n",
    "print('Accuracy:', accRF)\n",
    "precRF = precision_score(y_test, predictionsRF)\n",
    "print('Precision:', precRF)\n",
    "matRF = confusion_matrix(y_test, predictionsRF)\n",
    "print('Correlation Matrix:')\n",
    "print(matRF)"
   ]
  },
  {
   "cell_type": "code",
   "execution_count": 79,
   "metadata": {},
   "outputs": [
    {
     "name": "stdout",
     "output_type": "stream",
     "text": [
      "Model SVC\n",
      "Accuracy: 0.9910981629845431\n",
      "Precision: 0.9592134013109979\n",
      "Correlation Matrix:\n",
      "[[10930    56]\n",
      " [   54  1317]]\n"
     ]
    }
   ],
   "source": [
    "print('Model SVC')\n",
    "accSVC = accuracy_score(y_test, predictionsSVC)\n",
    "print('Accuracy:', accSVC)\n",
    "precSVC = precision_score(y_test, predictionsSVC)\n",
    "print('Precision:', precSVC)\n",
    "matSVC = confusion_matrix(y_test, predictionsSVC)\n",
    "print('Correlation Matrix:')\n",
    "print(matSVC)"
   ]
  },
  {
   "cell_type": "code",
   "execution_count": 80,
   "metadata": {},
   "outputs": [
    {
     "name": "stdout",
     "output_type": "stream",
     "text": [
      "Model GBC:\n",
      "Accuracy: 1.0\n",
      "Precision: 1.0\n",
      "Correlation Matrix:\n",
      "[[10986     0]\n",
      " [    0  1371]]\n"
     ]
    }
   ],
   "source": [
    "print('Model GBC:')\n",
    "accGBC = accuracy_score(y_test, predictionsGBC)\n",
    "print('Accuracy:', accGBC)\n",
    "precGBC = precision_score(y_test, predictionsGBC)\n",
    "print('Precision:', precGBC)\n",
    "matGBC = confusion_matrix(y_test, predictionsGBC)\n",
    "print('Correlation Matrix:')\n",
    "print(matGBC)"
   ]
  },
  {
   "cell_type": "code",
   "execution_count": 81,
   "metadata": {},
   "outputs": [
    {
     "data": {
      "text/plain": [
       "<matplotlib.axes._subplots.AxesSubplot at 0x1f29e8639c8>"
      ]
     },
     "execution_count": 81,
     "metadata": {},
     "output_type": "execute_result"
    },
    {
     "data": {
      "image/png": "[encoded data removed]",
      "text/plain": [
       "<Figure size 720x720 with 2 Axes>"
      ]
     },
     "metadata": {
      "needs_background": "light"
     },
     "output_type": "display_data"
    }
   ],
   "source": [
    "corr = dataOr.drop('age',axis=1).corr()\n",
    "f, ax = plt.subplots(figsize=(10, 10))\n",
    "\n",
    "cmap = sns.diverging_palette(30, 110, as_cmap=True)\n",
    "\n",
    "sns.heatmap(corr, cmap=cmap, vmin=0,vmax=1, center=0,\n",
    "            square=True, linewidths=.5)"
   ]
  },
  {
   "cell_type": "code",
   "execution_count": 82,
   "metadata": {},
   "outputs": [
    {
     "data": {
      "text/plain": [
       "<matplotlib.axes._subplots.AxesSubplot at 0x1f29e32bf88>"
      ]
     },
     "execution_count": 82,
     "metadata": {},
     "output_type": "execute_result"
    },
    {
     "data": {
      "image/png": "[encoded data removed]",
      "text/plain": [
       "<Figure size 1440x720 with 2 Axes>"
      ]
     },
     "metadata": {
      "needs_background": "light"
     },
     "output_type": "display_data"
    }
   ],
   "source": [
    "corr = data.drop('age',axis=1).corr()\n",
    "f, ax = plt.subplots(figsize=(20, 10))\n",
    "\n",
    "cmap = sns.diverging_palette(30, 110, as_cmap=True)\n",
    "\n",
    "sns.heatmap(corr, cmap=cmap, vmin=0,vmax=1, center=0,\n",
    "            square=True, linewidths=.5)"
   ]
  },
  {
   "cell_type": "code",
   "execution_count": 83,
   "metadata": {},
   "outputs": [
    {
     "name": "stdout",
     "output_type": "stream",
     "text": [
      "                                      age      duration   campaign  \\\n",
      "age                            108.602451     -2.339147   0.132603   \n",
      "duration                        -2.339147  67225.728877 -51.494888   \n",
      "campaign                         0.132603    -51.494888   7.672975   \n",
      "pdays                          -66.945400  -2305.683015  27.224921   \n",
      "previous                         0.125661      2.648520  -0.108494   \n",
      "emp_var_rate                    -0.006069    -11.391802   0.656017   \n",
      "cons_price_idx                   0.005168      0.797272   0.204971   \n",
      "cons_conf_idx                    6.239801     -9.807412  -0.176061   \n",
      "euribor3m                        0.194622    -14.793831   0.649236   \n",
      "nr_employed                    -13.346160   -837.439866  28.838822   \n",
      "job_blue-collar                 -0.105219      1.405917  -0.002052   \n",
      "job_entrepreneur                 0.060067      0.176148  -0.001127   \n",
      "job_housemaid                    0.140930     -0.201523   0.001854   \n",
      "job_management                   0.166039     -0.087100  -0.006498   \n",
      "job_retired                      0.918873      0.644251  -0.003794   \n",
      "job_self-employed               -0.002578      0.202078   0.003216   \n",
      "job_services                    -0.202139      0.010897   0.001948   \n",
      "job_student                     -0.300169      0.539578  -0.009849   \n",
      "job_technician                  -0.248264     -1.318373   0.001596   \n",
      "job_unemployed                  -0.007148     -0.217472  -0.000086   \n",
      "job_unknown                      0.044384     -0.149102   0.000648   \n",
      "marital_married                  1.381825     -0.512267   0.003158   \n",
      "marital_single                  -1.928238      0.909826  -0.009491   \n",
      "marital_unknown                  0.000487      0.105742   0.001204   \n",
      "education_basic.6y               0.023645      0.341097  -0.000629   \n",
      "education_basic.9y              -0.141318      0.441307  -0.005174   \n",
      "education_high.school           -0.468010      0.601067   0.000227   \n",
      "education_illiterate             0.003704      0.008082  -0.000127   \n",
      "education_professional.course    0.007135     -0.732107   0.002358   \n",
      "education_university.degree     -0.338232     -1.495375  -0.001201   \n",
      "education_unknown                0.145297      0.172546   0.001202   \n",
      "default_unknown                  0.698816     -1.221071   0.037158   \n",
      "default_yes                      0.000168     -0.011286  -0.000090   \n",
      "housing_unknown                 -0.001744     -0.194458  -0.000168   \n",
      "housing_yes                     -0.007360     -0.881015  -0.014941   \n",
      "loan_unknown                    -0.001744     -0.194458  -0.000168   \n",
      "loan_yes                        -0.026910      0.011272   0.005261   \n",
      "contact_telephone                0.035230     -3.327960   0.103191   \n",
      "month_aug                        0.243022     -3.878112   0.014845   \n",
      "month_dec                        0.032185      0.385877  -0.001804   \n",
      "month_jul                       -0.172181      2.637297   0.103360   \n",
      "month_jun                       -0.033310     -2.030220   0.065155   \n",
      "month_mar                        0.010000     -0.163562  -0.004829   \n",
      "month_may                       -0.331956      0.985109  -0.042736   \n",
      "month_nov                        0.093751     -1.237595  -0.065547   \n",
      "month_oct                        0.072298      0.524422  -0.017810   \n",
      "month_sep                        0.049780      0.545549  -0.010987   \n",
      "day_of_week_mon                  0.080296     -2.422016   0.016158   \n",
      "day_of_week_thu                 -0.090550      1.547099   0.005794   \n",
      "day_of_week_tue                  0.079233      0.426427  -0.027650   \n",
      "day_of_week_wed                 -0.098203      1.500564  -0.023255   \n",
      "poutcome_nonexistent            -0.058602     -1.038576   0.083369   \n",
      "poutcome_success                 0.066646      2.088710  -0.025307   \n",
      "y_yes                            0.100162     33.223215  -0.058116   \n",
      "\n",
      "                                      pdays   previous  emp_var_rate  \\\n",
      "age                              -66.945400   0.125661     -0.006069   \n",
      "duration                       -2305.683015   2.648520    -11.391802   \n",
      "campaign                          27.224921  -0.108494      0.656017   \n",
      "pdays                          34935.687284 -54.346448     79.574823   \n",
      "previous                         -54.346448   0.244927     -0.326918   \n",
      "emp_var_rate                      79.574823  -0.326918      2.467915   \n",
      "cons_price_idx                     8.535132  -0.058190      0.705038   \n",
      "cons_conf_idx                    -79.016677  -0.116670      1.425360   \n",
      "euribor3m                         96.250874  -0.390128      2.649121   \n",
      "nr_employed                     5031.877477 -17.926342    102.944953   \n",
      "job_blue-collar                    5.096903  -0.011329      0.037547   \n",
      "job_entrepreneur                   0.664305  -0.001210      0.002716   \n",
      "job_housemaid                     -0.048801  -0.000907      0.009047   \n",
      "job_management                     0.012183   0.000856     -0.006714   \n",
      "job_retired                       -2.695214   0.006446     -0.032582   \n",
      "job_self-employed                  0.488052  -0.001014      0.000423   \n",
      "job_services                       1.686258  -0.001736      0.009008   \n",
      "job_student                       -2.597325   0.007470     -0.031652   \n",
      "job_technician                     0.316411  -0.003139      0.031545   \n",
      "job_unemployed                    -0.668636   0.000646     -0.004767   \n",
      "job_unknown                       -0.190276  -0.000148      0.002211   \n",
      "marital_married                    2.888336  -0.010504      0.061577   \n",
      "marital_single                    -3.529319   0.010784     -0.070181   \n",
      "marital_unknown                   -0.049288   0.000198     -0.000589   \n",
      "education_basic.6y                 0.995709  -0.002438      0.008306   \n",
      "education_basic.9y                 2.444846  -0.004627      0.011353   \n",
      "education_high.school              0.434993   0.002993     -0.011308   \n",
      "education_illiterate              -0.008147  -0.000027     -0.000094   \n",
      "education_professional.course     -0.217612  -0.001259      0.011600   \n",
      "education_university.degree       -3.151609   0.005739     -0.032490   \n",
      "education_unknown                 -0.825625   0.002248     -0.000958   \n",
      "default_unknown                    6.080499  -0.020637      0.129743   \n",
      "default_yes                        0.002660   0.000012      0.000060   \n",
      "housing_unknown                    0.058205   0.000286      0.000758   \n",
      "housing_yes                       -1.000641   0.005054     -0.046968   \n",
      "loan_unknown                       0.058205   0.000286      0.000758   \n",
      "loan_yes                          -0.005770  -0.000381      0.000672   \n",
      "contact_telephone                 10.617192  -0.050721      0.297718   \n",
      "month_aug                         -0.211993  -0.008633      0.099789   \n",
      "month_dec                         -0.947472   0.001955     -0.012939   \n",
      "month_jul                          3.522861  -0.021920      0.187599   \n",
      "month_jun                          1.000159  -0.011601      0.078309   \n",
      "month_mar                         -1.683871   0.004117     -0.024947   \n",
      "month_may                          6.233095  -0.002926     -0.082526   \n",
      "month_nov                         -0.948426   0.012011     -0.049822   \n",
      "month_oct                         -3.147750   0.008275     -0.043938   \n",
      "month_sep                         -3.376430   0.009115     -0.031267   \n",
      "day_of_week_mon                    0.078034  -0.000403     -0.011539   \n",
      "day_of_week_thu                   -0.622547   0.000304     -0.004904   \n",
      "day_of_week_tue                   -0.542099   0.000018      0.009101   \n",
      "day_of_week_wed                    0.075938  -0.000774      0.016759   \n",
      "poutcome_nonexistent              31.537194  -0.149345      0.254896   \n",
      "poutcome_success                 -31.898580   0.046556     -0.072443   \n",
      "y_yes                            -19.201231   0.036017     -0.148181   \n",
      "\n",
      "                               cons_price_idx  cons_conf_idx   euribor3m  \\\n",
      "age                                  0.005168       6.239801    0.194622   \n",
      "duration                             0.797272      -9.807412  -14.793831   \n",
      "campaign                             0.204971      -0.176061    0.649236   \n",
      "pdays                                8.535132     -79.016677   96.250874   \n",
      "previous                            -0.058190      -0.116670   -0.390128   \n",
      "emp_var_rate                         0.705038       1.425360    2.649121   \n",
      "cons_price_idx                       0.335056       0.158023    0.690961   \n",
      "cons_conf_idx                        0.158023      21.420215    2.229089   \n",
      "euribor3m                            0.690961       2.229089    3.008308   \n",
      "nr_employed                         21.832546      33.611125  118.443421   \n",
      "job_blue-collar                      0.018197      -0.196196    0.033861   \n",
      "job_entrepreneur                     0.001050      -0.027611    0.006004   \n",
      "job_housemaid                        0.002597       0.025925    0.009995   \n",
      "job_management                      -0.003756       0.000932   -0.000708   \n",
      "job_retired                         -0.006050       0.080578   -0.035548   \n",
      "job_self-employed                   -0.000541       0.000500    0.002349   \n",
      "job_services                         0.005685      -0.075883    0.007506   \n",
      "job_student                         -0.005185       0.006693   -0.036903   \n",
      "job_technician                      -0.002324       0.094142    0.032598   \n",
      "job_unemployed                      -0.000293       0.012187   -0.003809   \n",
      "job_unknown                          0.001148       0.013659    0.002626   \n",
      "marital_married                      0.013135       0.140380    0.075377   \n",
      "marital_single                      -0.016393      -0.116867   -0.085339   \n",
      "marital_unknown                     -0.000203      -0.000617   -0.000599   \n",
      "education_basic.6y                   0.004140      -0.034796    0.008439   \n",
      "education_basic.9y                   0.007006      -0.120960    0.011253   \n",
      "education_high.school                0.002124      -0.101196   -0.015047   \n",
      "education_illiterate                -0.000113       0.000242   -0.000046   \n",
      "education_professional.course       -0.000738       0.048181    0.011351   \n",
      "education_university.degree         -0.024284       0.155633   -0.027070   \n",
      "education_unknown                    0.003486       0.026258   -0.002110   \n",
      "default_unknown                      0.039596       0.049566    0.137630   \n",
      "default_yes                         -0.000016       0.000177    0.000078   \n",
      "housing_unknown                      0.001451       0.005130    0.000763   \n",
      "housing_yes                         -0.023683      -0.079736   -0.051033   \n",
      "loan_unknown                         0.001451       0.005130    0.000763   \n",
      "loan_yes                            -0.001234      -0.022700   -0.000303   \n",
      "contact_telephone                    0.164853       0.560723    0.333870   \n",
      "month_aug                           -0.039690       0.735807    0.101899   \n",
      "month_dec                           -0.003802       0.030021   -0.012178   \n",
      "month_jul                            0.055609      -0.325295    0.185396   \n",
      "month_jun                            0.086476      -0.139038    0.082070   \n",
      "month_mar                           -0.006341      -0.028475   -0.032592   \n",
      "month_may                           -0.015640      -0.025632   -0.109527   \n",
      "month_nov                           -0.037311      -0.073298    0.010139   \n",
      "month_oct                           -0.006983       0.103231   -0.042207   \n",
      "month_sep                           -0.003172       0.091470   -0.038564   \n",
      "day_of_week_mon                      0.000299      -0.077558   -0.016350   \n",
      "day_of_week_thu                     -0.004037      -0.052492   -0.009708   \n",
      "day_of_week_tue                      0.000280       0.091998    0.015664   \n",
      "day_of_week_wed                      0.002876       0.043687    0.020854   \n",
      "poutcome_nonexistent                 0.060479       0.158491    0.290896   \n",
      "poutcome_success                    -0.008044       0.070473   -0.087497   \n",
      "y_yes                               -0.024929       0.080304   -0.168778   \n",
      "\n",
      "                               nr_employed  ...     month_nov     month_oct  \\\n",
      "age                             -13.346160  ...  9.375114e-02  7.229768e-02   \n",
      "duration                       -837.439866  ... -1.237595e+00  5.244218e-01   \n",
      "campaign                         28.838822  ... -6.554731e-02 -1.780978e-02   \n",
      "pdays                          5031.877477  ... -9.484264e-01 -3.147750e+00   \n",
      "previous                        -17.926342  ...  1.201056e-02  8.274761e-03   \n",
      "emp_var_rate                    102.944953  ... -4.982185e-02 -4.393847e-02   \n",
      "cons_price_idx                   21.832546  ... -3.731106e-02 -6.982786e-03   \n",
      "cons_conf_idx                    33.611125  ... -7.329828e-02  1.032308e-01   \n",
      "euribor3m                       118.443421  ...  1.013945e-02 -4.220746e-02   \n",
      "nr_employed                    5220.283250  ...  5.969561e-01 -2.583735e+00   \n",
      "job_blue-collar                   1.927605  ... -7.754892e-03 -2.678470e-03   \n",
      "job_entrepreneur                  0.327973  ...  3.011368e-03 -2.520546e-04   \n",
      "job_housemaid                     0.321542  ... -4.501883e-04  1.266911e-05   \n",
      "job_management                   -0.027361  ...  6.552156e-03  6.814390e-07   \n",
      "job_retired                      -1.869786  ... -8.560147e-04  2.331233e-03   \n",
      "job_self-employed                 0.125532  ...  1.372135e-03 -9.156394e-05   \n",
      "job_services                      0.439832  ... -1.801169e-03 -8.786425e-04   \n",
      "job_student                      -1.722867  ... -8.041823e-04  9.164729e-04   \n",
      "job_technician                    1.410007  ... -1.077668e-03 -3.752984e-05   \n",
      "job_unemployed                   -0.243225  ...  1.287742e-03  2.506540e-04   \n",
      "job_unknown                       0.047239  ... -6.278045e-04  5.456463e-05   \n",
      "marital_married                   2.912934  ...  7.762887e-04 -8.631710e-04   \n",
      "marital_single                   -3.324503  ... -2.957261e-03  1.149479e-03   \n",
      "marital_unknown                  -0.018729  ... -2.344009e-05  3.897878e-05   \n",
      "education_basic.6y                0.427501  ... -1.631813e-03 -4.359323e-04   \n",
      "education_basic.9y                0.771729  ... -1.866792e-03 -1.344551e-03   \n",
      "education_high.school            -0.471552  ... -1.296233e-03  2.748510e-05   \n",
      "education_illiterate              0.002072  ...  2.932428e-05 -7.618441e-06   \n",
      "education_professional.course     0.397177  ... -8.293985e-07  2.331476e-04   \n",
      "education_university.degree      -1.125485  ...  9.067390e-03  1.016929e-03   \n",
      "education_unknown                -0.314637  ... -1.319638e-03  2.002464e-05   \n",
      "default_unknown                   5.571036  ... -1.046409e-02 -3.201621e-03   \n",
      "default_yes                       0.003664  ...  1.702713e-05 -1.269740e-06   \n",
      "housing_unknown                  -0.013909  ... -5.480408e-04  6.657588e-05   \n",
      "housing_yes                      -1.625501  ...  5.043445e-03  1.670799e-04   \n",
      "loan_unknown                     -0.013909  ... -5.480408e-04  6.657588e-05   \n",
      "loan_yes                          0.108989  ... -3.908960e-04 -4.592899e-04   \n",
      "contact_telephone                 9.363808  ... -2.604945e-02 -2.604000e-03   \n",
      "month_aug                         4.981825  ... -1.493505e-02 -2.614818e-03   \n",
      "month_dec                        -0.597167  ... -4.399773e-04 -7.703090e-05   \n",
      "month_jul                         8.193947  ... -1.734284e-02 -3.036372e-03   \n",
      "month_jun                         3.932596  ... -1.285604e-02 -2.250826e-03   \n",
      "month_mar                        -1.480045  ... -1.319932e-03 -2.310927e-04   \n",
      "month_may                        -5.855116  ... -3.328598e-02 -5.827684e-03   \n",
      "month_nov                         0.596956  ...  8.965626e-02 -1.735735e-03   \n",
      "month_oct                        -2.583735  ... -1.735735e-03  1.712879e-02   \n",
      "month_sep                        -2.466001  ... -1.377951e-03 -2.412506e-04   \n",
      "day_of_week_mon                  -0.510075  ... -1.984135e-03 -4.714662e-04   \n",
      "day_of_week_thu                  -0.078138  ...  1.078655e-03  3.079031e-04   \n",
      "day_of_week_tue                   0.284847  ...  2.062838e-04  1.935805e-04   \n",
      "day_of_week_wed                   0.669396  ...  1.289611e-03 -1.649554e-04   \n",
      "poutcome_nonexistent             12.233027  ... -1.077842e-02 -5.000207e-03   \n",
      "poutcome_success                 -4.547447  ...  6.869488e-04  2.720895e-03   \n",
      "y_yes                            -8.102276  ... -1.116730e-03  5.684180e-03   \n",
      "\n",
      "                               month_sep  day_of_week_mon  day_of_week_thu  \\\n",
      "age                             0.049780         0.080296        -0.090550   \n",
      "duration                        0.545549        -2.422016         1.547099   \n",
      "campaign                       -0.010987         0.016158         0.005794   \n",
      "pdays                          -3.376430         0.078034        -0.622547   \n",
      "previous                        0.009115        -0.000403         0.000304   \n",
      "emp_var_rate                   -0.031267        -0.011539        -0.004904   \n",
      "cons_price_idx                 -0.003172         0.000299        -0.004037   \n",
      "cons_conf_idx                   0.091470        -0.077558        -0.052492   \n",
      "euribor3m                      -0.038564        -0.016350        -0.009708   \n",
      "nr_employed                    -2.466001        -0.510075        -0.078138   \n",
      "job_blue-collar                -0.002648        -0.001649        -0.001199   \n",
      "job_entrepreneur               -0.000198         0.000511         0.000417   \n",
      "job_housemaid                  -0.000065         0.000216        -0.000581   \n",
      "job_management                  0.000134         0.000864        -0.000611   \n",
      "job_retired                     0.001510        -0.000183        -0.001046   \n",
      "job_self-employed               0.000008         0.000395         0.000935   \n",
      "job_services                   -0.000629         0.000354        -0.000023   \n",
      "job_student                     0.000896        -0.000094         0.000335   \n",
      "job_technician                 -0.000032        -0.000191         0.001998   \n",
      "job_unemployed                  0.000412        -0.000330         0.000430   \n",
      "job_unknown                     0.000083         0.000238         0.000046   \n",
      "marital_married                -0.000339         0.000998        -0.001745   \n",
      "marital_single                  0.000702        -0.001851         0.002796   \n",
      "marital_unknown                -0.000027         0.000060         0.000176   \n",
      "education_basic.6y             -0.000382        -0.001233         0.000149   \n",
      "education_basic.9y             -0.001424        -0.000135        -0.000718   \n",
      "education_high.school          -0.000599         0.001703        -0.003400   \n",
      "education_illiterate           -0.000006        -0.000066         0.000054   \n",
      "education_professional.course   0.000448        -0.000747         0.001416   \n",
      "education_university.degree     0.001447         0.001353         0.002684   \n",
      "education_unknown               0.000657        -0.000287         0.000136   \n",
      "default_unknown                -0.002597         0.001187        -0.000797   \n",
      "default_yes                    -0.000001        -0.000015        -0.000015   \n",
      "housing_unknown                 0.000056        -0.000331        -0.000443   \n",
      "housing_yes                     0.000374         0.002501         0.002596   \n",
      "loan_unknown                    0.000056        -0.000331        -0.000443   \n",
      "loan_yes                       -0.000108         0.001007        -0.000171   \n",
      "contact_telephone              -0.002918        -0.003175        -0.008050   \n",
      "month_aug                      -0.002076        -0.001337         0.001301   \n",
      "month_dec                      -0.000061         0.000373         0.000167   \n",
      "month_jul                      -0.002410         0.000803         0.004129   \n",
      "month_jun                      -0.001787         0.003684        -0.003554   \n",
      "month_mar                      -0.000183         0.000732        -0.000372   \n",
      "month_may                      -0.004626        -0.004958        -0.008392   \n",
      "month_nov                      -0.001378        -0.001984         0.001079   \n",
      "month_oct                      -0.000241        -0.000471         0.000308   \n",
      "month_sep                       0.013648        -0.000676         0.000065   \n",
      "day_of_week_mon                -0.000676         0.163985        -0.043277   \n",
      "day_of_week_thu                 0.000065        -0.043277         0.165531   \n",
      "day_of_week_tue                 0.000147        -0.040602        -0.041122   \n",
      "day_of_week_wed                 0.000302        -0.040823        -0.041346   \n",
      "poutcome_nonexistent           -0.005030         0.000310        -0.000082   \n",
      "poutcome_success                0.003132        -0.000165         0.000645   \n",
      "y_yes                           0.004656        -0.002723         0.001787   \n",
      "\n",
      "                               day_of_week_tue  day_of_week_wed  \\\n",
      "age                                   0.079233        -0.098203   \n",
      "duration                              0.426427         1.500564   \n",
      "campaign                             -0.027650        -0.023255   \n",
      "pdays                                -0.542099         0.075938   \n",
      "previous                              0.000018        -0.000774   \n",
      "emp_var_rate                          0.009101         0.016759   \n",
      "cons_price_idx                        0.000280         0.002876   \n",
      "cons_conf_idx                         0.091998         0.043687   \n",
      "euribor3m                             0.015664         0.020854   \n",
      "nr_employed                           0.284847         0.669396   \n",
      "job_blue-collar                      -0.001132         0.003435   \n",
      "job_entrepreneur                     -0.000534        -0.000256   \n",
      "job_housemaid                         0.000723         0.000113   \n",
      "job_management                        0.000162         0.000183   \n",
      "job_retired                           0.000951         0.000129   \n",
      "job_self-employed                    -0.000585        -0.000962   \n",
      "job_services                          0.000326        -0.000554   \n",
      "job_student                           0.000003        -0.000141   \n",
      "job_technician                        0.000135        -0.001205   \n",
      "job_unemployed                        0.000045        -0.000322   \n",
      "job_unknown                           0.000223         0.000117   \n",
      "marital_married                       0.000236        -0.000799   \n",
      "marital_single                       -0.001460         0.001056   \n",
      "marital_unknown                      -0.000114        -0.000044   \n",
      "education_basic.6y                    0.000287         0.001126   \n",
      "education_basic.9y                   -0.001853         0.001777   \n",
      "education_high.school                 0.000124         0.000435   \n",
      "education_illiterate                  0.000036        -0.000038   \n",
      "education_professional.course         0.001243        -0.001224   \n",
      "education_university.degree          -0.002015        -0.001020   \n",
      "education_unknown                     0.000194        -0.001332   \n",
      "default_unknown                       0.000471        -0.001524   \n",
      "default_yes                           0.000059        -0.000014   \n",
      "housing_unknown                       0.000377         0.000036   \n",
      "housing_yes                          -0.002231         0.000317   \n",
      "loan_unknown                          0.000377         0.000036   \n",
      "loan_yes                             -0.001389        -0.000313   \n",
      "contact_telephone                     0.000683         0.002696   \n",
      "month_aug                             0.002004         0.000557   \n",
      "month_dec                            -0.000261        -0.000023   \n",
      "month_jul                             0.002620         0.000977   \n",
      "month_jun                            -0.001810        -0.001632   \n",
      "month_mar                             0.000795        -0.000918   \n",
      "month_may                             0.002538         0.004949   \n",
      "month_nov                             0.000206         0.001290   \n",
      "month_oct                             0.000194        -0.000165   \n",
      "month_sep                             0.000147         0.000302   \n",
      "day_of_week_mon                      -0.040602        -0.040823   \n",
      "day_of_week_thu                      -0.041122        -0.041346   \n",
      "day_of_week_tue                       0.157841        -0.038790   \n",
      "day_of_week_wed                      -0.038790         0.158488   \n",
      "poutcome_nonexistent                  0.000215         0.000895   \n",
      "poutcome_success                      0.000518        -0.000028   \n",
      "y_yes                                 0.001011         0.000793   \n",
      "\n",
      "                               poutcome_nonexistent  poutcome_success  \\\n",
      "age                                       -0.058602          0.066646   \n",
      "duration                                  -1.038576          2.088710   \n",
      "campaign                                   0.083369         -0.025307   \n",
      "pdays                                     31.537194        -31.898580   \n",
      "previous                                  -0.149345          0.046556   \n",
      "emp_var_rate                               0.254896         -0.072443   \n",
      "cons_price_idx                             0.060479         -0.008044   \n",
      "cons_conf_idx                              0.158491          0.070473   \n",
      "euribor3m                                  0.290896         -0.087497   \n",
      "nr_employed                               12.233027         -4.547447   \n",
      "job_blue-collar                            0.006284         -0.004601   \n",
      "job_entrepreneur                           0.000482         -0.000571   \n",
      "job_housemaid                              0.000795          0.000065   \n",
      "job_management                            -0.000648         -0.000060   \n",
      "job_retired                               -0.003717          0.002444   \n",
      "job_self-employed                          0.000463         -0.000422   \n",
      "job_services                               0.000584         -0.001513   \n",
      "job_student                               -0.003921          0.002157   \n",
      "job_technician                             0.002231         -0.000335   \n",
      "job_unemployed                            -0.000425          0.000685   \n",
      "job_unknown                                0.000196          0.000194   \n",
      "marital_married                            0.007220         -0.002622   \n",
      "marital_single                            -0.007021          0.003166   \n",
      "marital_unknown                           -0.000172          0.000057   \n",
      "education_basic.6y                         0.001336         -0.000884   \n",
      "education_basic.9y                         0.002053         -0.002198   \n",
      "education_high.school                     -0.002757         -0.000563   \n",
      "education_illiterate                       0.000011          0.000010   \n",
      "education_professional.course              0.000729          0.000200   \n",
      "education_university.degree               -0.002749          0.003093   \n",
      "education_unknown                         -0.000816          0.000663   \n",
      "default_unknown                            0.014545         -0.005526   \n",
      "default_yes                               -0.000014         -0.000002   \n",
      "housing_unknown                           -0.000092         -0.000121   \n",
      "housing_yes                               -0.004210          0.001135   \n",
      "loan_unknown                              -0.000092         -0.000121   \n",
      "loan_yes                                   0.000031         -0.000031   \n",
      "contact_telephone                          0.040099         -0.009675   \n",
      "month_aug                                  0.009341         -0.000023   \n",
      "month_dec                                 -0.001436          0.000945   \n",
      "month_jul                                  0.018252         -0.003184   \n",
      "month_jun                                  0.009986         -0.000808   \n",
      "month_mar                                 -0.002536          0.001525   \n",
      "month_may                                 -0.003122         -0.005560   \n",
      "month_nov                                 -0.010778          0.000687   \n",
      "month_oct                                 -0.005000          0.002721   \n",
      "month_sep                                 -0.005030          0.003132   \n",
      "day_of_week_mon                            0.000310         -0.000165   \n",
      "day_of_week_thu                           -0.000082          0.000645   \n",
      "day_of_week_tue                            0.000215          0.000518   \n",
      "day_of_week_wed                            0.000895         -0.000028   \n",
      "poutcome_nonexistent                       0.117921         -0.028783   \n",
      "poutcome_success                          -0.028783          0.032225   \n",
      "y_yes                                     -0.021010          0.017950   \n",
      "\n",
      "                                   y_yes  \n",
      "age                             0.100162  \n",
      "duration                       33.223215  \n",
      "campaign                       -0.058116  \n",
      "pdays                         -19.201231  \n",
      "previous                        0.036017  \n",
      "emp_var_rate                   -0.148181  \n",
      "cons_price_idx                 -0.024929  \n",
      "cons_conf_idx                   0.080304  \n",
      "euribor3m                      -0.168778  \n",
      "nr_employed                    -8.102276  \n",
      "job_blue-collar                -0.009821  \n",
      "job_entrepreneur               -0.000972  \n",
      "job_housemaid                  -0.000326  \n",
      "job_management                 -0.000034  \n",
      "job_retired                     0.005833  \n",
      "job_self-employed              -0.000269  \n",
      "job_services                   -0.003014  \n",
      "job_student                     0.004284  \n",
      "job_technician                 -0.000719  \n",
      "job_unemployed                  0.000723  \n",
      "job_unknown                    -0.000004  \n",
      "marital_married                -0.006707  \n",
      "marital_single                  0.007692  \n",
      "marital_unknown                 0.000073  \n",
      "education_basic.6y             -0.001705  \n",
      "education_basic.9y             -0.005050  \n",
      "education_high.school          -0.000993  \n",
      "education_illiterate            0.000048  \n",
      "education_professional.course   0.000106  \n",
      "education_university.degree     0.007265  \n",
      "education_unknown               0.001360  \n",
      "default_unknown                -0.012759  \n",
      "default_yes                    -0.000008  \n",
      "housing_unknown                -0.000110  \n",
      "housing_yes                     0.001854  \n",
      "loan_unknown                   -0.000110  \n",
      "loan_yes                       -0.000507  \n",
      "contact_telephone              -0.022040  \n",
      "month_aug                      -0.000995  \n",
      "month_dec                       0.001663  \n",
      "month_jul                      -0.003865  \n",
      "month_jun                      -0.000973  \n",
      "month_mar                       0.005208  \n",
      "month_may                      -0.016149  \n",
      "month_nov                      -0.001117  \n",
      "month_oct                       0.005684  \n",
      "month_sep                       0.004656  \n",
      "day_of_week_mon                -0.002723  \n",
      "day_of_week_thu                 0.001787  \n",
      "day_of_week_tue                 0.001011  \n",
      "day_of_week_wed                 0.000793  \n",
      "poutcome_nonexistent           -0.021010  \n",
      "poutcome_success                0.017950  \n",
      "y_yes                           0.099966  \n",
      "\n",
      "[54 rows x 54 columns]\n"
     ]
    }
   ],
   "source": [
    "covMat = data.cov()\n",
    "print(covMat)"
   ]
  },
  {
   "cell_type": "code",
   "execution_count": 84,
   "metadata": {},
   "outputs": [
    {
     "name": "stdout",
     "output_type": "stream",
     "text": [
      "                PC1           PC2           PC3           PC4           PC5  \\\n",
      "PC1    3.576572e+04 -1.808964e-13 -3.179820e-15  1.102338e-13 -7.066266e-15   \n",
      "PC2   -1.808964e-13  4.396159e+03 -6.006326e-15  1.837229e-14  4.946386e-15   \n",
      "PC3   -3.179820e-15 -6.006326e-15  1.089738e+02  1.766567e-15  2.208208e-16   \n",
      "PC4    1.102338e-13  1.837229e-14  1.766567e-15  2.054239e+01 -6.182983e-16   \n",
      "PC5   -7.066266e-15  4.946386e-15  2.208208e-16 -6.182983e-16  7.506094e+00   \n",
      "PC6   -1.554579e-14  3.533133e-15  7.728729e-17  0.000000e+00  4.416416e-16   \n",
      "PC7    4.416416e-16 -5.299700e-15 -1.324925e-16 -7.949549e-16  2.484234e-17   \n",
      "PC8   -5.829670e-15  1.766567e-16  1.545746e-16  1.766567e-16 -8.556807e-17   \n",
      "PC9   -1.810731e-15  0.000000e+00  1.766567e-16  2.208208e-16 -2.346221e-17   \n",
      "PC10   1.832813e-15  7.949549e-16 -1.104104e-16 -1.987387e-16  5.002972e-17   \n",
      "PC11  -1.413253e-15 -1.236597e-15 -5.520520e-17  2.649850e-16  2.622247e-17   \n",
      "PC12  -7.066266e-16  7.066266e-16 -8.832833e-17 -2.208208e-17 -1.656156e-17   \n",
      "PC13   3.533133e-15 -1.236597e-15  4.968468e-17 -5.410110e-16 -9.660911e-18   \n",
      "PC14  -1.148268e-15  2.296537e-15  6.072572e-17  2.870671e-16 -2.898273e-17   \n",
      "PC15  -7.507908e-16 -9.274474e-16 -3.864364e-17  1.286971e-16  3.687535e-17   \n",
      "PC16  -1.324925e-15 -1.766567e-16  0.000000e+00  1.324925e-16 -1.104104e-17   \n",
      "PC17   3.533133e-16  7.066266e-16  6.624625e-17 -2.649850e-16  5.520520e-18   \n",
      "PC18   2.936917e-15  1.236597e-15  8.832833e-17 -2.373824e-16 -4.968468e-17   \n",
      "PC19   1.589910e-15 -2.649850e-16 -6.486612e-17  2.208208e-17  0.000000e+00   \n",
      "PC20   2.009469e-15 -6.624625e-16  9.764421e-17 -3.698749e-16 -3.036286e-17   \n",
      "y_yes  2.026411e+01  4.874547e+00  6.500933e-02  8.688013e-02 -1.105405e-02   \n",
      "\n",
      "                PC6           PC7           PC8           PC9          PC10  \\\n",
      "PC1   -1.554579e-14  4.416416e-16 -5.829670e-15 -1.810731e-15  1.832813e-15   \n",
      "PC2    3.533133e-15 -5.299700e-15  1.766567e-16  0.000000e+00  7.949549e-16   \n",
      "PC3    7.728729e-17 -1.324925e-16  1.545746e-16  1.766567e-16 -1.104104e-16   \n",
      "PC4    0.000000e+00 -7.949549e-16  1.766567e-16  2.208208e-16 -1.987387e-16   \n",
      "PC5    4.416416e-16  2.484234e-17 -8.556807e-17 -2.346221e-17  5.002972e-17   \n",
      "PC6    6.619603e-01  5.520520e-17  1.104104e-16 -1.104104e-17  4.278403e-17   \n",
      "PC7    5.520520e-17  3.915525e-01 -1.048899e-16 -2.070195e-17  6.969657e-17   \n",
      "PC8    1.104104e-16 -1.048899e-16  3.044176e-01 -8.280781e-18  6.245089e-17   \n",
      "PC9   -1.104104e-17 -2.070195e-17 -8.280781e-18  2.639837e-01 -5.037475e-17   \n",
      "PC10   4.278403e-17  6.969657e-17  6.245089e-17 -5.037475e-17  2.499813e-01   \n",
      "PC11   6.624625e-17 -7.521709e-17  6.900651e-18  1.711361e-16 -8.004755e-17   \n",
      "PC12  -2.691254e-17 -2.432479e-17 -7.504457e-17  5.796546e-17  1.518143e-17   \n",
      "PC13  -2.760260e-18  6.693631e-17 -2.415228e-17 -1.052349e-17 -7.073167e-18   \n",
      "PC14  -1.367191e-17 -5.175488e-18 -9.315878e-18  5.106481e-17  1.449137e-17   \n",
      "PC15   8.280781e-18  2.277215e-17 -6.900651e-18  4.347410e-17 -1.328375e-17   \n",
      "PC16   5.106481e-17 -2.898273e-17 -2.760260e-17 -6.348599e-17 -4.416416e-17   \n",
      "PC17  -6.348599e-17  1.380130e-17  1.932182e-17  1.380130e-17 -3.001783e-17   \n",
      "PC18  -4.692442e-17  1.932182e-17  3.450325e-17 -9.660911e-18 -5.934559e-17   \n",
      "PC19   5.520520e-18  2.760260e-18  2.622247e-17 -2.760260e-18 -3.933371e-17   \n",
      "PC20  -2.518737e-17 -1.552646e-18  1.889053e-17 -1.725163e-17  2.553241e-17   \n",
      "y_yes -6.068252e-03  1.713712e-02  1.087166e-02  5.282523e-03  4.056407e-03   \n",
      "\n",
      "       ...          PC12          PC13          PC14          PC15  \\\n",
      "PC1    ... -7.066266e-16  3.533133e-15 -1.148268e-15 -7.507908e-16   \n",
      "PC2    ...  7.066266e-16 -1.236597e-15  2.296537e-15 -9.274474e-16   \n",
      "PC3    ... -8.832833e-17  4.968468e-17  6.072572e-17 -3.864364e-17   \n",
      "PC4    ... -2.208208e-17 -5.410110e-16  2.870671e-16  1.286971e-16   \n",
      "PC5    ... -1.656156e-17 -9.660911e-18 -2.898273e-17  3.687535e-17   \n",
      "PC6    ... -2.691254e-17 -2.760260e-18 -1.367191e-17  8.280781e-18   \n",
      "PC7    ... -2.432479e-17  6.693631e-17 -5.175488e-18  2.277215e-17   \n",
      "PC8    ... -7.504457e-17 -2.415228e-17 -9.315878e-18 -6.900651e-18   \n",
      "PC9    ...  5.796546e-17 -1.052349e-17  5.106481e-17  4.347410e-17   \n",
      "PC10   ...  1.518143e-17 -7.073167e-18  1.449137e-17 -1.328375e-17   \n",
      "PC11   ...  2.208208e-17 -5.589527e-17  3.640093e-17 -4.347410e-17   \n",
      "PC12   ...  2.132841e-01 -2.932776e-17 -4.519926e-17  2.139202e-17   \n",
      "PC13   ... -2.932776e-17  2.072594e-01 -4.726946e-17 -1.449137e-17   \n",
      "PC14   ... -4.519926e-17 -4.726946e-17  2.046444e-01 -3.312312e-17   \n",
      "PC15   ...  2.139202e-17 -1.449137e-17 -3.312312e-17  1.965967e-01   \n",
      "PC16   ... -4.140390e-18 -8.556807e-17  7.176677e-17  6.900651e-18   \n",
      "PC17   ... -1.393931e-16 -8.142768e-17 -7.590716e-17 -9.108859e-17   \n",
      "PC18   ...  3.243306e-17  7.832238e-17 -2.760260e-18  8.625813e-19   \n",
      "PC19   ...  8.280781e-18  2.760260e-18 -7.728729e-17  2.760260e-17   \n",
      "PC20   ... -6.555618e-18  5.865553e-18 -1.500891e-17 -2.027066e-18   \n",
      "y_yes  ... -2.828920e-03  1.621757e-04 -5.083812e-03 -7.455557e-04   \n",
      "\n",
      "               PC16          PC17          PC18          PC19          PC20  \\\n",
      "PC1   -1.324925e-15  3.533133e-16  2.936917e-15  1.589910e-15  2.009469e-15   \n",
      "PC2   -1.766567e-16  7.066266e-16  1.236597e-15 -2.649850e-16 -6.624625e-16   \n",
      "PC3    0.000000e+00  6.624625e-17  8.832833e-17 -6.486612e-17  9.764421e-17   \n",
      "PC4    1.324925e-16 -2.649850e-16 -2.373824e-16  2.208208e-17 -3.698749e-16   \n",
      "PC5   -1.104104e-17  5.520520e-18 -4.968468e-17  0.000000e+00 -3.036286e-17   \n",
      "PC6    5.106481e-17 -6.348599e-17 -4.692442e-17  5.520520e-18 -2.518737e-17   \n",
      "PC7   -2.898273e-17  1.380130e-17  1.932182e-17  2.760260e-18 -1.552646e-18   \n",
      "PC8   -2.760260e-17  1.932182e-17  3.450325e-17  2.622247e-17  1.889053e-17   \n",
      "PC9   -6.348599e-17  1.380130e-17 -9.660911e-18 -2.760260e-18 -1.725163e-17   \n",
      "PC10  -4.416416e-17 -3.001783e-17 -5.934559e-17 -3.933371e-17  2.553241e-17   \n",
      "PC11   1.421534e-16  1.794169e-17 -4.140390e-18  1.380130e-17  1.035098e-17   \n",
      "PC12  -4.140390e-18 -1.393931e-16  3.243306e-17  8.280781e-18 -6.555618e-18   \n",
      "PC13  -8.556807e-17 -8.142768e-17  7.832238e-17  2.760260e-18  5.865553e-18   \n",
      "PC14   7.176677e-17 -7.590716e-17 -2.760260e-18 -7.728729e-17 -1.500891e-17   \n",
      "PC15   6.900651e-18 -9.108859e-17  8.625813e-19  2.760260e-17 -2.027066e-18   \n",
      "PC16   1.922759e-01 -2.898273e-17  1.380130e-17 -3.795358e-17 -1.552646e-18   \n",
      "PC17  -2.898273e-17  1.821202e-01 -5.520520e-17  4.416416e-17  5.520520e-17   \n",
      "PC18   1.380130e-17 -5.520520e-17  1.480440e-01 -2.760260e-17  4.002377e-17   \n",
      "PC19  -3.795358e-17  4.416416e-17 -2.760260e-17  1.300863e-01  4.450920e-17   \n",
      "PC20  -1.552646e-18  5.520520e-17  4.002377e-17  4.450920e-17  1.279337e-01   \n",
      "y_yes -1.157871e-02  9.404292e-03  3.500606e-05  9.406943e-04  6.948167e-05   \n",
      "\n",
      "           y_yes  \n",
      "PC1    20.264106  \n",
      "PC2     4.874547  \n",
      "PC3     0.065009  \n",
      "PC4     0.086880  \n",
      "PC5    -0.011054  \n",
      "PC6    -0.006068  \n",
      "PC7     0.017137  \n",
      "PC8     0.010872  \n",
      "PC9     0.005283  \n",
      "PC10    0.004056  \n",
      "PC11    0.005898  \n",
      "PC12   -0.002829  \n",
      "PC13    0.000162  \n",
      "PC14   -0.005084  \n",
      "PC15   -0.000746  \n",
      "PC16   -0.011579  \n",
      "PC17    0.009404  \n",
      "PC18    0.000035  \n",
      "PC19    0.000941  \n",
      "PC20    0.000069  \n",
      "y_yes   0.099966  \n",
      "\n",
      "[21 rows x 21 columns]\n"
     ]
    }
   ],
   "source": [
    "covMat = finalDf.cov()\n",
    "print(covMat)"
   ]
  },
  {
   "cell_type": "code",
   "execution_count": 85,
   "metadata": {},
   "outputs": [
    {
     "data": {
      "text/plain": [
       "[<matplotlib.lines.Line2D at 0x1f29ec44888>,\n",
       " <matplotlib.lines.Line2D at 0x1f29ec49908>,\n",
       " <matplotlib.lines.Line2D at 0x1f29ec49ac8>,\n",
       " <matplotlib.lines.Line2D at 0x1f29ec49e88>,\n",
       " <matplotlib.lines.Line2D at 0x1f29ec493c8>,\n",
       " <matplotlib.lines.Line2D at 0x1f29ec49588>,\n",
       " <matplotlib.lines.Line2D at 0x1f29ec49d48>,\n",
       " <matplotlib.lines.Line2D at 0x1f29ec30108>,\n",
       " <matplotlib.lines.Line2D at 0x1f29ec49208>,\n",
       " <matplotlib.lines.Line2D at 0x1f29ec49508>,\n",
       " <matplotlib.lines.Line2D at 0x1f29e6fc288>,\n",
       " <matplotlib.lines.Line2D at 0x1f29ec30a48>,\n",
       " <matplotlib.lines.Line2D at 0x1f29ec30dc8>,\n",
       " <matplotlib.lines.Line2D at 0x1f29ec30948>,\n",
       " <matplotlib.lines.Line2D at 0x1f29e7a3088>,\n",
       " <matplotlib.lines.Line2D at 0x1f29e7a3308>,\n",
       " <matplotlib.lines.Line2D at 0x1f29e7a3588>,\n",
       " <matplotlib.lines.Line2D at 0x1f29e7a3808>,\n",
       " <matplotlib.lines.Line2D at 0x1f29e7a3a88>,\n",
       " <matplotlib.lines.Line2D at 0x1f29e7a3d08>,\n",
       " <matplotlib.lines.Line2D at 0x1f29e7a3f88>]"
      ]
     },
     "execution_count": 85,
     "metadata": {},
     "output_type": "execute_result"
    },
    {
     "data": {
      "image/png": "[encoded data removed]",
      "text/plain": [
       "<Figure size 2160x720 with 1 Axes>"
      ]
     },
     "metadata": {
      "needs_background": "light"
     },
     "output_type": "display_data"
    }
   ],
   "source": [
    "plt.figure(figsize = (30,10))\n",
    "plt.plot(covMat)"
   ]
  }
 ],
 "metadata": {
  "kernelspec": {
   "display_name": "Python 3",
   "language": "python",
   "name": "python3"
  },
  "language_info": {
   "codemirror_mode": {
    "name": "ipython",
    "version": 3
   },
   "file_extension": ".py",
   "mimetype": "text/x-python",
   "name": "python",
   "nbconvert_exporter": "python",
   "pygments_lexer": "ipython3",
   "version": "3.7.4"
  }
 },
 "nbformat": 4,
 "nbformat_minor": 2
}
